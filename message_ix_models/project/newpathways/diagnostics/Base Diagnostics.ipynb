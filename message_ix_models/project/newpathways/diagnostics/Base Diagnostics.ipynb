{
 "cells": [
  {
   "cell_type": "markdown",
   "id": "a91cb29e-32c6-442f-b39b-5d9dd0669f60",
   "metadata": {},
   "source": [
    "# Diagnostics by Scenario\n",
    "#### Compare diagnostic figures across scenarios using legacy reporting structure"
   ]
  },
  {
   "cell_type": "markdown",
   "id": "3fc6fef3-9f6e-4535-b702-65f65f853b86",
   "metadata": {},
   "source": [
    "## Change below"
   ]
  },
  {
   "cell_type": "code",
   "execution_count": 24,
   "id": "bb1b5eee-7bd3-48ff-9f72-090eec232679",
   "metadata": {},
   "outputs": [],
   "source": [
    "included_scenarios = {\"pipelines_LNG\": \"NP_SSP2_6.2\",\n",
    "                      \"HHI_0.9_gas_CHN\": \"NP_SSP2_6.2\"}"
   ]
  },
  {
   "cell_type": "code",
   "execution_count": 2,
   "id": "2a27dc5c-3b81-403b-9c0a-03f8bb5ccd0e",
   "metadata": {},
   "outputs": [],
   "source": [
    "run_reporting = True"
   ]
  },
  {
   "cell_type": "markdown",
   "id": "37e1aa63-9986-4253-a447-c2494034f465",
   "metadata": {},
   "source": [
    "## Do not change below"
   ]
  },
  {
   "cell_type": "code",
   "execution_count": 3,
   "id": "7b43a089-d3b7-4e81-a079-e5a69e772fe8",
   "metadata": {},
   "outputs": [
    {
     "name": "stderr",
     "output_type": "stream",
     "text": [
      "[WARNING] 10:40:54 - pint.util: Redefining 'kt' (<class 'pint.delegates.txt_defparser.plain.UnitDefinition'>)\n",
      "[WARNING] 10:40:54 - pint.util: Redefining 'EUR_2005' (<class 'pint.delegates.txt_defparser.plain.UnitDefinition'>)\n",
      "[WARNING] 10:40:54 - pint.util: Redefining 'EUR' (<class 'pint.delegates.txt_defparser.plain.UnitDefinition'>)\n",
      "[DEBUG] 10:40:55 - pint.util: Changing app registry from <pint.registry.UnitRegistry object at 0x0000022B69C16510> to <pint.registry.UnitRegistry object at 0x0000022B625CD550>.\n",
      "[INFO] 10:40:55 - message_ix_models.util.context: Create root Context\n",
      "[DEBUG] 10:40:55 - genno.config: Override ConfigHandler(key='iamc', callback=<function iamc at 0x0000022B6B6716C0>, iterate=True, discard=True)\n"
     ]
    }
   ],
   "source": [
    "# Import packages\n",
    "import os\n",
    "import sys\n",
    "import pandas as pd\n",
    "import numpy as np\n",
    "import logging\n",
    "import yaml\n",
    "import message_ix\n",
    "import ixmp\n",
    "import itertools\n",
    "from datetime import datetime\n",
    "    \n",
    "from message_ix_models.tools.bilateralize.bilateralize import *\n",
    "from message_ix_models.util import package_data_path\n",
    "import message_ix_models.report.legacy.iamc_report_hackathon as legacy_reporting\n",
    "\n",
    "from ixmp import Platform\n",
    "\n",
    "import plotly.graph_objects as go\n",
    "import plotly.express as px\n",
    "from plotly.subplots import make_subplots\n",
    "import ipywidgets as widgets\n",
    "from IPython.display import display, clear_output"
   ]
  },
  {
   "cell_type": "code",
   "execution_count": 4,
   "id": "dbaf370b-f64d-4141-b0f6-484091977fc4",
   "metadata": {},
   "outputs": [],
   "source": [
    "def run_legacy_reporting(scenarios_models):\n",
    "    # Connect to ixmp\n",
    "    mp = ixmp.Platform()\n",
    "    \n",
    "    # Report\n",
    "    for s in scenarios_models.keys():\n",
    "        scen = message_ix.Scenario(mp, model = scenarios_models[s], scenario = s)\n",
    "        legacy_reporting.report(mp = mp, scen = scen)"
   ]
  },
  {
   "cell_type": "code",
   "execution_count": 5,
   "id": "d915fcba-54fa-47e8-a7f5-a721d29c44c8",
   "metadata": {},
   "outputs": [
    {
     "name": "stderr",
     "output_type": "stream",
     "text": [
      "Existing index sets of 'ACTIVITY_BOUND_LO' () do not match ('node', 'technology', 'year', 'mode', 'time')\n",
      "[WARNING] 10:41:07 - ixmp.model.base: Existing index sets of 'ACTIVITY_BOUND_LO' () do not match ('node', 'technology', 'year', 'mode', 'time')\n",
      "Existing index sets of 'ACTIVITY_BOUND_UP' () do not match ('node', 'technology', 'year', 'mode', 'time')\n",
      "[WARNING] 10:41:07 - ixmp.model.base: Existing index sets of 'ACTIVITY_BOUND_UP' () do not match ('node', 'technology', 'year', 'mode', 'time')\n",
      "Existing index sets of 'ACTIVITY_BY_RATING' () do not match ('node', 'technology', 'year', 'commodity', 'level', 'time', 'rating')\n",
      "[WARNING] 10:41:07 - ixmp.model.base: Existing index sets of 'ACTIVITY_BY_RATING' () do not match ('node', 'technology', 'year', 'commodity', 'level', 'time', 'rating')\n",
      "Existing index sets of 'ACTIVITY_CONSTRAINT_LO' () do not match ('node', 'technology', 'year', 'time')\n",
      "[WARNING] 10:41:07 - ixmp.model.base: Existing index sets of 'ACTIVITY_CONSTRAINT_LO' () do not match ('node', 'technology', 'year', 'time')\n",
      "Existing index sets of 'ACTIVITY_CONSTRAINT_UP' () do not match ('node', 'technology', 'year', 'time')\n",
      "[WARNING] 10:41:07 - ixmp.model.base: Existing index sets of 'ACTIVITY_CONSTRAINT_UP' () do not match ('node', 'technology', 'year', 'time')\n",
      "Existing index sets of 'ACTIVITY_RATING_TOTAL' () do not match ('node', 'technology', 'year', 'year', 'commodity', 'level', 'time')\n",
      "[WARNING] 10:41:07 - ixmp.model.base: Existing index sets of 'ACTIVITY_RATING_TOTAL' () do not match ('node', 'technology', 'year', 'year', 'commodity', 'level', 'time')\n",
      "Existing index names of 'ACTIVITY_RATING_TOTAL' () do not match ('node', 'technology', 'year_vtg', 'year', 'commodity', 'level', 'time')\n",
      "[WARNING] 10:41:07 - ixmp.model.base: Existing index names of 'ACTIVITY_RATING_TOTAL' () do not match ('node', 'technology', 'year_vtg', 'year', 'commodity', 'level', 'time')\n",
      "Existing index sets of 'ACTIVITY_SOFT_CONSTRAINT_LO' () do not match ('node', 'technology', 'year', 'time')\n",
      "[WARNING] 10:41:07 - ixmp.model.base: Existing index sets of 'ACTIVITY_SOFT_CONSTRAINT_LO' () do not match ('node', 'technology', 'year', 'time')\n",
      "Existing index sets of 'ACTIVITY_SOFT_CONSTRAINT_UP' () do not match ('node', 'technology', 'year', 'time')\n",
      "[WARNING] 10:41:07 - ixmp.model.base: Existing index sets of 'ACTIVITY_SOFT_CONSTRAINT_UP' () do not match ('node', 'technology', 'year', 'time')\n",
      "Existing index sets of 'ADDON_ACTIVITY_LO' () do not match ('node', 'type_addon', 'year', 'mode', 'time')\n",
      "[WARNING] 10:41:07 - ixmp.model.base: Existing index sets of 'ADDON_ACTIVITY_LO' () do not match ('node', 'type_addon', 'year', 'mode', 'time')\n",
      "Existing index sets of 'ADDON_ACTIVITY_UP' () do not match ('node', 'type_addon', 'year', 'mode', 'time')\n",
      "[WARNING] 10:41:07 - ixmp.model.base: Existing index sets of 'ADDON_ACTIVITY_UP' () do not match ('node', 'type_addon', 'year', 'mode', 'time')\n",
      "Existing index sets of 'CAPACITY_CONSTRAINT' () do not match ('node', 'technology', 'year', 'year', 'time')\n",
      "[WARNING] 10:41:07 - ixmp.model.base: Existing index sets of 'CAPACITY_CONSTRAINT' () do not match ('node', 'technology', 'year', 'year', 'time')\n",
      "Existing index names of 'CAPACITY_CONSTRAINT' () do not match ('node', 'inv_tec', 'year_vtg', 'year', 'time')\n",
      "[WARNING] 10:41:07 - ixmp.model.base: Existing index names of 'CAPACITY_CONSTRAINT' () do not match ('node', 'inv_tec', 'year_vtg', 'year', 'time')\n",
      "Existing index sets of 'CAPACITY_MAINTENANCE_HIST' () do not match ('node', 'technology', 'year', 'year')\n",
      "[WARNING] 10:41:07 - ixmp.model.base: Existing index sets of 'CAPACITY_MAINTENANCE_HIST' () do not match ('node', 'technology', 'year', 'year')\n",
      "Existing index names of 'CAPACITY_MAINTENANCE_HIST' () do not match ('node', 'inv_tec', 'year_vtg', 'first_period')\n",
      "[WARNING] 10:41:07 - ixmp.model.base: Existing index names of 'CAPACITY_MAINTENANCE_HIST' () do not match ('node', 'inv_tec', 'year_vtg', 'first_period')\n",
      "Existing index sets of 'CAPACITY_MAINTENANCE_NEW' () do not match ('node', 'technology', 'year', 'year')\n",
      "[WARNING] 10:41:07 - ixmp.model.base: Existing index sets of 'CAPACITY_MAINTENANCE_NEW' () do not match ('node', 'technology', 'year', 'year')\n",
      "Existing index names of 'CAPACITY_MAINTENANCE_NEW' () do not match ('node', 'inv_tec', 'year_vtg', 'year_act')\n",
      "[WARNING] 10:41:07 - ixmp.model.base: Existing index names of 'CAPACITY_MAINTENANCE_NEW' () do not match ('node', 'inv_tec', 'year_vtg', 'year_act')\n",
      "Existing index sets of 'CAPACITY_MAINTENANCE' () do not match ('node', 'technology', 'year', 'year')\n",
      "[WARNING] 10:41:07 - ixmp.model.base: Existing index sets of 'CAPACITY_MAINTENANCE' () do not match ('node', 'technology', 'year', 'year')\n",
      "Existing index names of 'CAPACITY_MAINTENANCE' () do not match ('node', 'inv_tec', 'year_vtg', 'year')\n",
      "[WARNING] 10:41:07 - ixmp.model.base: Existing index names of 'CAPACITY_MAINTENANCE' () do not match ('node', 'inv_tec', 'year_vtg', 'year')\n",
      "Existing index sets of 'COMMODITY_BALANCE_LT' () do not match ('node', 'commodity', 'level', 'year', 'time')\n",
      "[WARNING] 10:41:07 - ixmp.model.base: Existing index sets of 'COMMODITY_BALANCE_LT' () do not match ('node', 'commodity', 'level', 'year', 'time')\n",
      "Existing index sets of 'COMMODITY_USE_LEVEL' () do not match ('node', 'commodity', 'level', 'year', 'time')\n",
      "[WARNING] 10:41:07 - ixmp.model.base: Existing index sets of 'COMMODITY_USE_LEVEL' () do not match ('node', 'commodity', 'level', 'year', 'time')\n",
      "Existing index sets of 'DYNAMIC_LAND_SCEN_CONSTRAINT_LO' () do not match ('node', 'land_scenario', 'year')\n",
      "[WARNING] 10:41:07 - ixmp.model.base: Existing index sets of 'DYNAMIC_LAND_SCEN_CONSTRAINT_LO' () do not match ('node', 'land_scenario', 'year')\n",
      "Existing index sets of 'DYNAMIC_LAND_SCEN_CONSTRAINT_UP' () do not match ('node', 'land_scenario', 'year')\n",
      "[WARNING] 10:41:07 - ixmp.model.base: Existing index sets of 'DYNAMIC_LAND_SCEN_CONSTRAINT_UP' () do not match ('node', 'land_scenario', 'year')\n",
      "Existing index sets of 'DYNAMIC_LAND_TYPE_CONSTRAINT_LO' () do not match ('node', 'year', 'land_type')\n",
      "[WARNING] 10:41:07 - ixmp.model.base: Existing index sets of 'DYNAMIC_LAND_TYPE_CONSTRAINT_LO' () do not match ('node', 'year', 'land_type')\n",
      "Existing index sets of 'DYNAMIC_LAND_TYPE_CONSTRAINT_UP' () do not match ('node', 'year', 'land_type')\n",
      "[WARNING] 10:41:07 - ixmp.model.base: Existing index sets of 'DYNAMIC_LAND_TYPE_CONSTRAINT_UP' () do not match ('node', 'year', 'land_type')\n",
      "Existing index sets of 'EMISSION_CONSTRAINT' () do not match ('node', 'type_emission', 'type_tec', 'type_year')\n",
      "[WARNING] 10:41:07 - ixmp.model.base: Existing index sets of 'EMISSION_CONSTRAINT' () do not match ('node', 'type_emission', 'type_tec', 'type_year')\n",
      "Existing index sets of 'EXTRACTION_BOUND_UP' () do not match ('node', 'commodity', 'grade', 'year')\n",
      "[WARNING] 10:41:07 - ixmp.model.base: Existing index sets of 'EXTRACTION_BOUND_UP' () do not match ('node', 'commodity', 'grade', 'year')\n",
      "Existing index sets of 'EXTRACTION_EQUIVALENCE' () do not match ('node', 'commodity', 'year')\n",
      "[WARNING] 10:41:07 - ixmp.model.base: Existing index sets of 'EXTRACTION_EQUIVALENCE' () do not match ('node', 'commodity', 'year')\n",
      "Existing index sets of 'FIRM_CAPACITY_PROVISION' () do not match ('node', 'technology', 'year', 'commodity', 'level', 'time')\n",
      "[WARNING] 10:41:07 - ixmp.model.base: Existing index sets of 'FIRM_CAPACITY_PROVISION' () do not match ('node', 'technology', 'year', 'commodity', 'level', 'time')\n",
      "Existing index names of 'FIRM_CAPACITY_PROVISION' () do not match ('node', 'inv_tec', 'year', 'commodity', 'level', 'time')\n",
      "[WARNING] 10:41:07 - ixmp.model.base: Existing index names of 'FIRM_CAPACITY_PROVISION' () do not match ('node', 'inv_tec', 'year', 'commodity', 'level', 'time')\n",
      "Existing index sets of 'LAND_CONSTRAINT' () do not match ('node', 'year')\n",
      "[WARNING] 10:41:07 - ixmp.model.base: Existing index sets of 'LAND_CONSTRAINT' () do not match ('node', 'year')\n",
      "Existing index sets of 'MIN_UTILIZATION_CONSTRAINT' () do not match ('node', 'technology', 'year', 'year')\n",
      "[WARNING] 10:41:07 - ixmp.model.base: Existing index sets of 'MIN_UTILIZATION_CONSTRAINT' () do not match ('node', 'technology', 'year', 'year')\n",
      "Existing index names of 'MIN_UTILIZATION_CONSTRAINT' () do not match ('node', 'inv_tec', 'year_vtg', 'year')\n",
      "[WARNING] 10:41:07 - ixmp.model.base: Existing index names of 'MIN_UTILIZATION_CONSTRAINT' () do not match ('node', 'inv_tec', 'year_vtg', 'year')\n",
      "Existing index sets of 'NEW_CAPACITY_BOUND_LO' () do not match ('node', 'technology', 'year')\n",
      "[WARNING] 10:41:07 - ixmp.model.base: Existing index sets of 'NEW_CAPACITY_BOUND_LO' () do not match ('node', 'technology', 'year')\n",
      "Existing index names of 'NEW_CAPACITY_BOUND_LO' () do not match ('node', 'inv_tec', 'year')\n",
      "[WARNING] 10:41:07 - ixmp.model.base: Existing index names of 'NEW_CAPACITY_BOUND_LO' () do not match ('node', 'inv_tec', 'year')\n",
      "Existing index sets of 'NEW_CAPACITY_BOUND_UP' () do not match ('node', 'technology', 'year')\n",
      "[WARNING] 10:41:07 - ixmp.model.base: Existing index sets of 'NEW_CAPACITY_BOUND_UP' () do not match ('node', 'technology', 'year')\n",
      "Existing index names of 'NEW_CAPACITY_BOUND_UP' () do not match ('node', 'inv_tec', 'year')\n",
      "[WARNING] 10:41:07 - ixmp.model.base: Existing index names of 'NEW_CAPACITY_BOUND_UP' () do not match ('node', 'inv_tec', 'year')\n",
      "Existing index sets of 'NEW_CAPACITY_CONSTRAINT_LO' () do not match ('node', 'technology', 'year')\n",
      "[WARNING] 10:41:07 - ixmp.model.base: Existing index sets of 'NEW_CAPACITY_CONSTRAINT_LO' () do not match ('node', 'technology', 'year')\n",
      "Existing index names of 'NEW_CAPACITY_CONSTRAINT_LO' () do not match ('node', 'inv_tec', 'year')\n",
      "[WARNING] 10:41:07 - ixmp.model.base: Existing index names of 'NEW_CAPACITY_CONSTRAINT_LO' () do not match ('node', 'inv_tec', 'year')\n",
      "Existing index sets of 'NEW_CAPACITY_CONSTRAINT_UP' () do not match ('node', 'technology', 'year')\n",
      "[WARNING] 10:41:07 - ixmp.model.base: Existing index sets of 'NEW_CAPACITY_CONSTRAINT_UP' () do not match ('node', 'technology', 'year')\n",
      "Existing index names of 'NEW_CAPACITY_CONSTRAINT_UP' () do not match ('node', 'inv_tec', 'year')\n",
      "[WARNING] 10:41:07 - ixmp.model.base: Existing index names of 'NEW_CAPACITY_CONSTRAINT_UP' () do not match ('node', 'inv_tec', 'year')\n",
      "Existing index sets of 'NEW_CAPACITY_SOFT_CONSTRAINT_LO' () do not match ('node', 'technology', 'year')\n",
      "[WARNING] 10:41:07 - ixmp.model.base: Existing index sets of 'NEW_CAPACITY_SOFT_CONSTRAINT_LO' () do not match ('node', 'technology', 'year')\n",
      "Existing index names of 'NEW_CAPACITY_SOFT_CONSTRAINT_LO' () do not match ('node', 'inv_tec', 'year')\n",
      "[WARNING] 10:41:07 - ixmp.model.base: Existing index names of 'NEW_CAPACITY_SOFT_CONSTRAINT_LO' () do not match ('node', 'inv_tec', 'year')\n",
      "Existing index sets of 'NEW_CAPACITY_SOFT_CONSTRAINT_UP' () do not match ('node', 'technology', 'year')\n",
      "[WARNING] 10:41:07 - ixmp.model.base: Existing index sets of 'NEW_CAPACITY_SOFT_CONSTRAINT_UP' () do not match ('node', 'technology', 'year')\n",
      "Existing index names of 'NEW_CAPACITY_SOFT_CONSTRAINT_UP' () do not match ('node', 'inv_tec', 'year')\n",
      "[WARNING] 10:41:07 - ixmp.model.base: Existing index names of 'NEW_CAPACITY_SOFT_CONSTRAINT_UP' () do not match ('node', 'inv_tec', 'year')\n",
      "Existing index sets of 'OPERATION_CONSTRAINT' () do not match ('node', 'technology', 'year', 'year')\n",
      "[WARNING] 10:41:07 - ixmp.model.base: Existing index sets of 'OPERATION_CONSTRAINT' () do not match ('node', 'technology', 'year', 'year')\n",
      "Existing index names of 'OPERATION_CONSTRAINT' () do not match ('node', 'inv_tec', 'year_vtg', 'year')\n",
      "[WARNING] 10:41:07 - ixmp.model.base: Existing index names of 'OPERATION_CONSTRAINT' () do not match ('node', 'inv_tec', 'year_vtg', 'year')\n",
      "Existing index sets of 'RELATION_CONSTRAINT_LO' () do not match ('relation', 'node', 'year')\n",
      "[WARNING] 10:41:07 - ixmp.model.base: Existing index sets of 'RELATION_CONSTRAINT_LO' () do not match ('relation', 'node', 'year')\n",
      "Existing index sets of 'RELATION_CONSTRAINT_UP' () do not match ('relation', 'node', 'year')\n",
      "[WARNING] 10:41:07 - ixmp.model.base: Existing index sets of 'RELATION_CONSTRAINT_UP' () do not match ('relation', 'node', 'year')\n",
      "Existing index sets of 'RELATION_EQUIVALENCE' () do not match ('relation', 'node', 'year')\n",
      "[WARNING] 10:41:07 - ixmp.model.base: Existing index sets of 'RELATION_EQUIVALENCE' () do not match ('relation', 'node', 'year')\n",
      "Existing index sets of 'RENEWABLES_CAPACITY_REQUIREMENT' () do not match ('node', 'technology', 'commodity', 'year')\n",
      "[WARNING] 10:41:07 - ixmp.model.base: Existing index sets of 'RENEWABLES_CAPACITY_REQUIREMENT' () do not match ('node', 'technology', 'commodity', 'year')\n",
      "Existing index names of 'RENEWABLES_CAPACITY_REQUIREMENT' () do not match ('node', 'inv_tec', 'commodity', 'year')\n",
      "[WARNING] 10:41:07 - ixmp.model.base: Existing index names of 'RENEWABLES_CAPACITY_REQUIREMENT' () do not match ('node', 'inv_tec', 'commodity', 'year')\n",
      "Existing index sets of 'RENEWABLES_EQUIVALENCE' () do not match ('node', 'technology', 'commodity', 'year', 'time')\n",
      "[WARNING] 10:41:07 - ixmp.model.base: Existing index sets of 'RENEWABLES_EQUIVALENCE' () do not match ('node', 'technology', 'commodity', 'year', 'time')\n",
      "Existing index names of 'RENEWABLES_EQUIVALENCE' () do not match ('node', 'renewable_tec', 'commodity', 'year', 'time')\n",
      "[WARNING] 10:41:07 - ixmp.model.base: Existing index names of 'RENEWABLES_EQUIVALENCE' () do not match ('node', 'renewable_tec', 'commodity', 'year', 'time')\n",
      "Existing index sets of 'RENEWABLES_POTENTIAL_CONSTRAINT' () do not match ('node', 'commodity', 'grade', 'year')\n",
      "[WARNING] 10:41:07 - ixmp.model.base: Existing index sets of 'RENEWABLES_POTENTIAL_CONSTRAINT' () do not match ('node', 'commodity', 'grade', 'year')\n",
      "Existing index sets of 'RESOURCE_CONSTRAINT' () do not match ('node', 'commodity', 'grade', 'year')\n",
      "[WARNING] 10:41:07 - ixmp.model.base: Existing index sets of 'RESOURCE_CONSTRAINT' () do not match ('node', 'commodity', 'grade', 'year')\n",
      "Existing index sets of 'SHARE_CONSTRAINT_COMMODITY_LO' () do not match ('shares', 'node', 'year', 'time')\n",
      "[WARNING] 10:41:07 - ixmp.model.base: Existing index sets of 'SHARE_CONSTRAINT_COMMODITY_LO' () do not match ('shares', 'node', 'year', 'time')\n",
      "Existing index names of 'SHARE_CONSTRAINT_COMMODITY_LO' () do not match ('shares', 'node_share', 'year', 'time')\n",
      "[WARNING] 10:41:07 - ixmp.model.base: Existing index names of 'SHARE_CONSTRAINT_COMMODITY_LO' () do not match ('shares', 'node_share', 'year', 'time')\n",
      "Existing index sets of 'SHARE_CONSTRAINT_COMMODITY_UP' () do not match ('shares', 'node', 'year', 'time')\n",
      "[WARNING] 10:41:07 - ixmp.model.base: Existing index sets of 'SHARE_CONSTRAINT_COMMODITY_UP' () do not match ('shares', 'node', 'year', 'time')\n",
      "Existing index names of 'SHARE_CONSTRAINT_COMMODITY_UP' () do not match ('shares', 'node_share', 'year', 'time')\n",
      "[WARNING] 10:41:07 - ixmp.model.base: Existing index names of 'SHARE_CONSTRAINT_COMMODITY_UP' () do not match ('shares', 'node_share', 'year', 'time')\n",
      "Existing index sets of 'SHARE_CONSTRAINT_MODE_LO' () do not match ('shares', 'node', 'technology', 'mode', 'year', 'time')\n",
      "[WARNING] 10:41:07 - ixmp.model.base: Existing index sets of 'SHARE_CONSTRAINT_MODE_LO' () do not match ('shares', 'node', 'technology', 'mode', 'year', 'time')\n",
      "Existing index sets of 'SHARE_CONSTRAINT_MODE_UP' () do not match ('shares', 'node', 'technology', 'mode', 'year', 'time')\n",
      "[WARNING] 10:41:07 - ixmp.model.base: Existing index sets of 'SHARE_CONSTRAINT_MODE_UP' () do not match ('shares', 'node', 'technology', 'mode', 'year', 'time')\n",
      "Existing index sets of 'STOCKS_BALANCE' () do not match ('node', 'commodity', 'level', 'year')\n",
      "[WARNING] 10:41:07 - ixmp.model.base: Existing index sets of 'STOCKS_BALANCE' () do not match ('node', 'commodity', 'level', 'year')\n",
      "Existing index sets of 'STORAGE_BALANCE_INIT' () do not match ('node', 'technology', 'mode', 'level', 'commodity', 'year', 'time', 'time')\n",
      "[WARNING] 10:41:07 - ixmp.model.base: Existing index sets of 'STORAGE_BALANCE_INIT' () do not match ('node', 'technology', 'mode', 'level', 'commodity', 'year', 'time', 'time')\n",
      "Existing index names of 'STORAGE_BALANCE_INIT' () do not match ('node', 'storage_tec', 'mode', 'level', 'commodity', 'year', 'time', 'time2')\n",
      "[WARNING] 10:41:07 - ixmp.model.base: Existing index names of 'STORAGE_BALANCE_INIT' () do not match ('node', 'storage_tec', 'mode', 'level', 'commodity', 'year', 'time', 'time2')\n",
      "Existing index sets of 'STORAGE_BALANCE' () do not match ('node', 'technology', 'mode', 'level', 'commodity', 'year', 'time', 'lvl_temporal')\n",
      "[WARNING] 10:41:07 - ixmp.model.base: Existing index sets of 'STORAGE_BALANCE' () do not match ('node', 'technology', 'mode', 'level', 'commodity', 'year', 'time', 'lvl_temporal')\n",
      "Existing index names of 'STORAGE_BALANCE' () do not match ('node', 'storage_tec', 'mode', 'level', 'commodity', 'year', 'time2', 'lvl_temporal')\n",
      "[WARNING] 10:41:07 - ixmp.model.base: Existing index names of 'STORAGE_BALANCE' () do not match ('node', 'storage_tec', 'mode', 'level', 'commodity', 'year', 'time2', 'lvl_temporal')\n",
      "Existing index sets of 'STORAGE_CHANGE' () do not match ('node', 'technology', 'mode', 'level_storage', 'commodity', 'year', 'time')\n",
      "[WARNING] 10:41:07 - ixmp.model.base: Existing index sets of 'STORAGE_CHANGE' () do not match ('node', 'technology', 'mode', 'level_storage', 'commodity', 'year', 'time')\n",
      "Existing index names of 'STORAGE_CHANGE' () do not match ('node', 'storage_tec', 'mode', 'level_storage', 'commodity', 'year', 'time')\n",
      "[WARNING] 10:41:07 - ixmp.model.base: Existing index names of 'STORAGE_CHANGE' () do not match ('node', 'storage_tec', 'mode', 'level_storage', 'commodity', 'year', 'time')\n",
      "Existing index sets of 'STORAGE_INPUT' () do not match ('node', 'technology', 'level', 'commodity', 'level_storage', 'commodity', 'mode', 'year', 'time')\n",
      "[WARNING] 10:41:07 - ixmp.model.base: Existing index sets of 'STORAGE_INPUT' () do not match ('node', 'technology', 'level', 'commodity', 'level_storage', 'commodity', 'mode', 'year', 'time')\n",
      "Existing index names of 'STORAGE_INPUT' () do not match ('node', 'storage_tec', 'level', 'commodity', 'level_storage', 'commodity2', 'mode', 'year', 'time')\n",
      "[WARNING] 10:41:07 - ixmp.model.base: Existing index names of 'STORAGE_INPUT' () do not match ('node', 'storage_tec', 'level', 'commodity', 'level_storage', 'commodity2', 'mode', 'year', 'time')\n",
      "Existing index sets of 'SYSTEM_FLEXIBILITY_CONSTRAINT' () do not match ('node', 'commodity', 'level', 'year', 'time')\n",
      "[WARNING] 10:41:07 - ixmp.model.base: Existing index sets of 'SYSTEM_FLEXIBILITY_CONSTRAINT' () do not match ('node', 'commodity', 'level', 'year', 'time')\n",
      "Existing index sets of 'SYSTEM_RELIABILITY_CONSTRAINT' () do not match ('node', 'commodity', 'level', 'year', 'time')\n",
      "[WARNING] 10:41:07 - ixmp.model.base: Existing index sets of 'SYSTEM_RELIABILITY_CONSTRAINT' () do not match ('node', 'commodity', 'level', 'year', 'time')\n",
      "Existing index sets of 'TOTAL_CAPACITY_BOUND_LO' () do not match ('node', 'technology', 'year')\n",
      "[WARNING] 10:41:07 - ixmp.model.base: Existing index sets of 'TOTAL_CAPACITY_BOUND_LO' () do not match ('node', 'technology', 'year')\n",
      "Existing index names of 'TOTAL_CAPACITY_BOUND_LO' () do not match ('node', 'inv_tec', 'year')\n",
      "[WARNING] 10:41:07 - ixmp.model.base: Existing index names of 'TOTAL_CAPACITY_BOUND_LO' () do not match ('node', 'inv_tec', 'year')\n",
      "Existing index sets of 'TOTAL_CAPACITY_BOUND_UP' () do not match ('node', 'technology', 'year')\n",
      "[WARNING] 10:41:07 - ixmp.model.base: Existing index sets of 'TOTAL_CAPACITY_BOUND_UP' () do not match ('node', 'technology', 'year')\n",
      "Existing index names of 'TOTAL_CAPACITY_BOUND_UP' () do not match ('node', 'inv_tec', 'year')\n",
      "[WARNING] 10:41:07 - ixmp.model.base: Existing index names of 'TOTAL_CAPACITY_BOUND_UP' () do not match ('node', 'inv_tec', 'year')\n"
     ]
    },
    {
     "name": "stdout",
     "output_type": "stream",
     "text": [
      "processing Table: Resource|Extraction\n",
      "processing Table: Resource|Cumulative Extraction\n",
      "processing Table: Primary Energy\n"
     ]
    },
    {
     "name": "stderr",
     "output_type": "stream",
     "text": [
      "\\\\hdrive\\home$\\u045\\shepard\\GitHub\\message-ix-models\\message_ix_models\\report\\legacy\\pp_utils.py:558: FutureWarning: Setting an item of incompatible dtype is deprecated and will raise in a future error of pandas. Value '[2030 2030 2030 2030 2030 2030 2030 2030 2030 2030 2030 2030 2030]' has dtype incompatible with int64, please explicitly cast to a compatible dtype first.\n",
      "\\\\hdrive\\home$\\u045\\shepard\\GitHub\\message-ix-models\\message_ix_models\\report\\legacy\\pp_utils.py:558: FutureWarning: Setting an item of incompatible dtype is deprecated and will raise in a future error of pandas. Value '[2030 2030 2030 2030 2030 2030 2030 2030 2030 2030 2030 2030 2030]' has dtype incompatible with int64, please explicitly cast to a compatible dtype first.\n",
      "\\\\hdrive\\home$\\u045\\shepard\\GitHub\\message-ix-models\\message_ix_models\\report\\legacy\\pp_utils.py:558: FutureWarning: Setting an item of incompatible dtype is deprecated and will raise in a future error of pandas. Value '[2030 2030 2030 2030 2030 2030 2030 2030 2030 2030 2030 2030 2030]' has dtype incompatible with int64, please explicitly cast to a compatible dtype first.\n",
      "\\\\hdrive\\home$\\u045\\shepard\\GitHub\\message-ix-models\\message_ix_models\\report\\legacy\\pp_utils.py:558: FutureWarning: Setting an item of incompatible dtype is deprecated and will raise in a future error of pandas. Value '[2030 2030 2030 2030 2030 2030 2030 2030 2030 2030 2030 2030 2030]' has dtype incompatible with int64, please explicitly cast to a compatible dtype first.\n",
      "\\\\hdrive\\home$\\u045\\shepard\\GitHub\\message-ix-models\\message_ix_models\\report\\legacy\\pp_utils.py:558: FutureWarning: Setting an item of incompatible dtype is deprecated and will raise in a future error of pandas. Value '[2030 2030 2030 2030 2030 2030 2030 2030 2030 2030 2030 2030 2030]' has dtype incompatible with int64, please explicitly cast to a compatible dtype first.\n",
      "\\\\hdrive\\home$\\u045\\shepard\\GitHub\\message-ix-models\\message_ix_models\\report\\legacy\\pp_utils.py:558: FutureWarning: Setting an item of incompatible dtype is deprecated and will raise in a future error of pandas. Value '[2030 2030 2030 2030 2030 2030 2030 2030 2030 2030 2030 2030 2030]' has dtype incompatible with int64, please explicitly cast to a compatible dtype first.\n",
      "\\\\hdrive\\home$\\u045\\shepard\\GitHub\\message-ix-models\\message_ix_models\\report\\legacy\\pp_utils.py:558: FutureWarning: Setting an item of incompatible dtype is deprecated and will raise in a future error of pandas. Value '[2030 2030 2030 2030 2030 2030 2030 2030 2030 2030 2030 2030 2030]' has dtype incompatible with int64, please explicitly cast to a compatible dtype first.\n",
      "\\\\hdrive\\home$\\u045\\shepard\\GitHub\\message-ix-models\\message_ix_models\\report\\legacy\\pp_utils.py:558: FutureWarning: Setting an item of incompatible dtype is deprecated and will raise in a future error of pandas. Value '[2030 2030 2030 2030 2030 2030 2030 2030 2030 2030 2030 2030 2030]' has dtype incompatible with int64, please explicitly cast to a compatible dtype first.\n",
      "\\\\hdrive\\home$\\u045\\shepard\\GitHub\\message-ix-models\\message_ix_models\\report\\legacy\\pp_utils.py:558: FutureWarning: Setting an item of incompatible dtype is deprecated and will raise in a future error of pandas. Value '[2030 2030 2030 2030 2030 2030 2030 2030 2030 2030 2030 2030 2030]' has dtype incompatible with int64, please explicitly cast to a compatible dtype first.\n",
      "\\\\hdrive\\home$\\u045\\shepard\\GitHub\\message-ix-models\\message_ix_models\\report\\legacy\\pp_utils.py:558: FutureWarning: Setting an item of incompatible dtype is deprecated and will raise in a future error of pandas. Value '[2030 2030 2030 2030 2030 2030 2030 2030 2030 2030 2030 2030 2030]' has dtype incompatible with int64, please explicitly cast to a compatible dtype first.\n",
      "\\\\hdrive\\home$\\u045\\shepard\\GitHub\\message-ix-models\\message_ix_models\\report\\legacy\\pp_utils.py:558: FutureWarning: Setting an item of incompatible dtype is deprecated and will raise in a future error of pandas. Value '[2030 2030 2030 2030 2030 2030 2030 2030 2030 2030 2030 2030 2030]' has dtype incompatible with int64, please explicitly cast to a compatible dtype first.\n",
      "\\\\hdrive\\home$\\u045\\shepard\\GitHub\\message-ix-models\\message_ix_models\\report\\legacy\\pp_utils.py:558: FutureWarning: Setting an item of incompatible dtype is deprecated and will raise in a future error of pandas. Value '[2030 2030 2030 2030 2030 2030 2030 2030 2030 2030 2030 2030 2030]' has dtype incompatible with int64, please explicitly cast to a compatible dtype first.\n",
      "\\\\hdrive\\home$\\u045\\shepard\\GitHub\\message-ix-models\\message_ix_models\\report\\legacy\\pp_utils.py:558: FutureWarning: Setting an item of incompatible dtype is deprecated and will raise in a future error of pandas. Value '[2030 2030 2030 2030 2030 2030 2030 2030 2030 2030 2030 2030 2030]' has dtype incompatible with int64, please explicitly cast to a compatible dtype first.\n",
      "\\\\hdrive\\home$\\u045\\shepard\\GitHub\\message-ix-models\\message_ix_models\\report\\legacy\\pp_utils.py:558: FutureWarning: Setting an item of incompatible dtype is deprecated and will raise in a future error of pandas. Value '[2030 2030 2030 2030 2030 2030 2030 2030 2030 2030 2030 2030 2030]' has dtype incompatible with int64, please explicitly cast to a compatible dtype first.\n",
      "\\\\hdrive\\home$\\u045\\shepard\\GitHub\\message-ix-models\\message_ix_models\\report\\legacy\\pp_utils.py:558: FutureWarning: Setting an item of incompatible dtype is deprecated and will raise in a future error of pandas. Value '[2030 2030 2030 2030 2030 2030 2030 2030 2030 2030 2030 2030 2030]' has dtype incompatible with int64, please explicitly cast to a compatible dtype first.\n",
      "\\\\hdrive\\home$\\u045\\shepard\\GitHub\\message-ix-models\\message_ix_models\\report\\legacy\\pp_utils.py:558: FutureWarning: Setting an item of incompatible dtype is deprecated and will raise in a future error of pandas. Value '[2030 2030 2030 2030 2030 2030 2030 2030 2030 2030 2030 2030 2030]' has dtype incompatible with int64, please explicitly cast to a compatible dtype first.\n",
      "\\\\hdrive\\home$\\u045\\shepard\\GitHub\\message-ix-models\\message_ix_models\\report\\legacy\\pp_utils.py:558: FutureWarning: Setting an item of incompatible dtype is deprecated and will raise in a future error of pandas. Value '[2030 2030 2030 2030 2030 2030 2030 2030 2030 2030 2030 2030 2030]' has dtype incompatible with int64, please explicitly cast to a compatible dtype first.\n",
      "\\\\hdrive\\home$\\u045\\shepard\\GitHub\\message-ix-models\\message_ix_models\\report\\legacy\\pp_utils.py:558: FutureWarning: Setting an item of incompatible dtype is deprecated and will raise in a future error of pandas. Value '[2030 2030 2030 2030 2030 2030 2030 2030 2030 2030 2030 2030 2030]' has dtype incompatible with int64, please explicitly cast to a compatible dtype first.\n",
      "\\\\hdrive\\home$\\u045\\shepard\\GitHub\\message-ix-models\\message_ix_models\\report\\legacy\\pp_utils.py:558: FutureWarning: Setting an item of incompatible dtype is deprecated and will raise in a future error of pandas. Value '[2030 2030 2030 2030 2030 2030 2030 2030 2030 2030 2030 2030 2030]' has dtype incompatible with int64, please explicitly cast to a compatible dtype first.\n",
      "\\\\hdrive\\home$\\u045\\shepard\\GitHub\\message-ix-models\\message_ix_models\\report\\legacy\\pp_utils.py:558: FutureWarning: Setting an item of incompatible dtype is deprecated and will raise in a future error of pandas. Value '[2030 2030 2030 2030 2030 2030 2030 2030 2030 2030 2030 2030 2030]' has dtype incompatible with int64, please explicitly cast to a compatible dtype first.\n",
      "\\\\hdrive\\home$\\u045\\shepard\\GitHub\\message-ix-models\\message_ix_models\\report\\legacy\\pp_utils.py:558: FutureWarning: Setting an item of incompatible dtype is deprecated and will raise in a future error of pandas. Value '[2030 2030 2030 2030 2030 2030 2030 2030 2030 2030 2030 2030 2030]' has dtype incompatible with int64, please explicitly cast to a compatible dtype first.\n",
      "\\\\hdrive\\home$\\u045\\shepard\\GitHub\\message-ix-models\\message_ix_models\\report\\legacy\\pp_utils.py:558: FutureWarning: Setting an item of incompatible dtype is deprecated and will raise in a future error of pandas. Value '[2030 2030 2030 2030 2030 2030 2030 2030 2030 2030 2030 2030 2030]' has dtype incompatible with int64, please explicitly cast to a compatible dtype first.\n",
      "\\\\hdrive\\home$\\u045\\shepard\\GitHub\\message-ix-models\\message_ix_models\\report\\legacy\\pp_utils.py:558: FutureWarning: Setting an item of incompatible dtype is deprecated and will raise in a future error of pandas. Value '[2030 2030 2030 2030 2030 2030 2030 2030 2030 2030 2030 2030 2030]' has dtype incompatible with int64, please explicitly cast to a compatible dtype first.\n",
      "\\\\hdrive\\home$\\u045\\shepard\\GitHub\\message-ix-models\\message_ix_models\\report\\legacy\\pp_utils.py:558: FutureWarning: Setting an item of incompatible dtype is deprecated and will raise in a future error of pandas. Value '[2030 2030 2030 2030 2030 2030 2030 2030 2030 2030 2030 2030 2030]' has dtype incompatible with int64, please explicitly cast to a compatible dtype first.\n",
      "\\\\hdrive\\home$\\u045\\shepard\\GitHub\\message-ix-models\\message_ix_models\\report\\legacy\\pp_utils.py:558: FutureWarning: Setting an item of incompatible dtype is deprecated and will raise in a future error of pandas. Value '[2030 2030 2030 2030 2030 2030 2030 2030 2030 2030 2030 2030 2030]' has dtype incompatible with int64, please explicitly cast to a compatible dtype first.\n",
      "\\\\hdrive\\home$\\u045\\shepard\\GitHub\\message-ix-models\\message_ix_models\\report\\legacy\\pp_utils.py:558: FutureWarning: Setting an item of incompatible dtype is deprecated and will raise in a future error of pandas. Value '[2030 2030 2030 2030 2030 2030 2030 2030 2030 2030 2030 2030 2030]' has dtype incompatible with int64, please explicitly cast to a compatible dtype first.\n",
      "\\\\hdrive\\home$\\u045\\shepard\\GitHub\\message-ix-models\\message_ix_models\\report\\legacy\\pp_utils.py:558: FutureWarning: Setting an item of incompatible dtype is deprecated and will raise in a future error of pandas. Value '[2030 2030 2030 2030 2030 2030 2030 2030 2030 2030 2030 2030 2030]' has dtype incompatible with int64, please explicitly cast to a compatible dtype first.\n",
      "\\\\hdrive\\home$\\u045\\shepard\\GitHub\\message-ix-models\\message_ix_models\\report\\legacy\\pp_utils.py:558: FutureWarning: Setting an item of incompatible dtype is deprecated and will raise in a future error of pandas. Value '[2030 2030 2030 2030 2030 2030 2030 2030 2030 2030 2030 2030 2030]' has dtype incompatible with int64, please explicitly cast to a compatible dtype first.\n",
      "\\\\hdrive\\home$\\u045\\shepard\\GitHub\\message-ix-models\\message_ix_models\\report\\legacy\\pp_utils.py:558: FutureWarning: Setting an item of incompatible dtype is deprecated and will raise in a future error of pandas. Value '[2030 2030 2030 2030 2030 2030 2030 2030 2030 2030 2030 2030 2030]' has dtype incompatible with int64, please explicitly cast to a compatible dtype first.\n",
      "\\\\hdrive\\home$\\u045\\shepard\\GitHub\\message-ix-models\\message_ix_models\\report\\legacy\\pp_utils.py:558: FutureWarning: Setting an item of incompatible dtype is deprecated and will raise in a future error of pandas. Value '[2030 2030 2030 2030 2030 2030 2030 2030 2030 2030 2030 2030 2030]' has dtype incompatible with int64, please explicitly cast to a compatible dtype first.\n",
      "\\\\hdrive\\home$\\u045\\shepard\\GitHub\\message-ix-models\\message_ix_models\\report\\legacy\\pp_utils.py:558: FutureWarning: Setting an item of incompatible dtype is deprecated and will raise in a future error of pandas. Value '[2030 2030 2030 2030 2030 2030 2030 2030 2030 2030 2030 2030 2030]' has dtype incompatible with int64, please explicitly cast to a compatible dtype first.\n",
      "\\\\hdrive\\home$\\u045\\shepard\\GitHub\\message-ix-models\\message_ix_models\\report\\legacy\\pp_utils.py:558: FutureWarning: Setting an item of incompatible dtype is deprecated and will raise in a future error of pandas. Value '[2030 2030 2030 2030 2030 2030 2030 2030 2030 2030 2030 2030 2030]' has dtype incompatible with int64, please explicitly cast to a compatible dtype first.\n",
      "\\\\hdrive\\home$\\u045\\shepard\\GitHub\\message-ix-models\\message_ix_models\\report\\legacy\\pp_utils.py:558: FutureWarning: Setting an item of incompatible dtype is deprecated and will raise in a future error of pandas. Value '[2030 2030 2030 2030 2030 2030 2030 2030 2030 2030 2030 2030 2030]' has dtype incompatible with int64, please explicitly cast to a compatible dtype first.\n",
      "\\\\hdrive\\home$\\u045\\shepard\\GitHub\\message-ix-models\\message_ix_models\\report\\legacy\\pp_utils.py:558: FutureWarning: Setting an item of incompatible dtype is deprecated and will raise in a future error of pandas. Value '[2030 2030 2030 2030 2030 2030 2030 2030 2030 2030 2030 2030 2030]' has dtype incompatible with int64, please explicitly cast to a compatible dtype first.\n",
      "\\\\hdrive\\home$\\u045\\shepard\\GitHub\\message-ix-models\\message_ix_models\\report\\legacy\\pp_utils.py:558: FutureWarning: Setting an item of incompatible dtype is deprecated and will raise in a future error of pandas. Value '[2030 2030 2030 2030 2030 2030 2030 2030 2030 2030 2030 2030 2030]' has dtype incompatible with int64, please explicitly cast to a compatible dtype first.\n",
      "\\\\hdrive\\home$\\u045\\shepard\\GitHub\\message-ix-models\\message_ix_models\\report\\legacy\\pp_utils.py:558: FutureWarning: Setting an item of incompatible dtype is deprecated and will raise in a future error of pandas. Value '[2030 2030 2030 2030 2030 2030 2030 2030 2030 2030 2030 2030 2030]' has dtype incompatible with int64, please explicitly cast to a compatible dtype first.\n",
      "\\\\hdrive\\home$\\u045\\shepard\\GitHub\\message-ix-models\\message_ix_models\\report\\legacy\\pp_utils.py:558: FutureWarning: Setting an item of incompatible dtype is deprecated and will raise in a future error of pandas. Value '[2030 2030 2030 2030 2030 2030 2030 2030 2030 2030 2030 2030 2030]' has dtype incompatible with int64, please explicitly cast to a compatible dtype first.\n",
      "\\\\hdrive\\home$\\u045\\shepard\\GitHub\\message-ix-models\\message_ix_models\\report\\legacy\\pp_utils.py:558: FutureWarning: Setting an item of incompatible dtype is deprecated and will raise in a future error of pandas. Value '[2030 2030 2030 2030 2030 2030 2030 2030 2030 2030 2030 2030 2030]' has dtype incompatible with int64, please explicitly cast to a compatible dtype first.\n",
      "\\\\hdrive\\home$\\u045\\shepard\\GitHub\\message-ix-models\\message_ix_models\\report\\legacy\\pp_utils.py:558: FutureWarning: Setting an item of incompatible dtype is deprecated and will raise in a future error of pandas. Value '[2030 2030 2030 2030 2030 2030 2030 2030 2030 2030 2030 2030 2030]' has dtype incompatible with int64, please explicitly cast to a compatible dtype first.\n",
      "\\\\hdrive\\home$\\u045\\shepard\\GitHub\\message-ix-models\\message_ix_models\\report\\legacy\\pp_utils.py:558: FutureWarning: Setting an item of incompatible dtype is deprecated and will raise in a future error of pandas. Value '[2030 2030 2030 2030 2030 2030 2030 2030 2030 2030 2030 2030 2030]' has dtype incompatible with int64, please explicitly cast to a compatible dtype first.\n",
      "\\\\hdrive\\home$\\u045\\shepard\\GitHub\\message-ix-models\\message_ix_models\\report\\legacy\\pp_utils.py:558: FutureWarning: Setting an item of incompatible dtype is deprecated and will raise in a future error of pandas. Value '[2030 2030 2030 2030 2030 2030 2030 2030 2030 2030 2030 2030 2030]' has dtype incompatible with int64, please explicitly cast to a compatible dtype first.\n",
      "\\\\hdrive\\home$\\u045\\shepard\\GitHub\\message-ix-models\\message_ix_models\\report\\legacy\\pp_utils.py:558: FutureWarning: Setting an item of incompatible dtype is deprecated and will raise in a future error of pandas. Value '[2030 2030 2030 2030 2030 2030 2030 2030 2030 2030 2030 2030 2030]' has dtype incompatible with int64, please explicitly cast to a compatible dtype first.\n",
      "\\\\hdrive\\home$\\u045\\shepard\\GitHub\\message-ix-models\\message_ix_models\\report\\legacy\\pp_utils.py:558: FutureWarning: Setting an item of incompatible dtype is deprecated and will raise in a future error of pandas. Value '[2030 2030 2030 2030 2030 2030 2030 2030 2030 2030 2030 2030 2030]' has dtype incompatible with int64, please explicitly cast to a compatible dtype first.\n",
      "\\\\hdrive\\home$\\u045\\shepard\\GitHub\\message-ix-models\\message_ix_models\\report\\legacy\\pp_utils.py:558: FutureWarning: Setting an item of incompatible dtype is deprecated and will raise in a future error of pandas. Value '[2030 2030 2030 2030 2030 2030 2030 2030 2030 2030 2030 2030 2030]' has dtype incompatible with int64, please explicitly cast to a compatible dtype first.\n"
     ]
    },
    {
     "name": "stdout",
     "output_type": "stream",
     "text": [
      "processing Table: Primary Energy (substitution method)\n"
     ]
    },
    {
     "name": "stderr",
     "output_type": "stream",
     "text": [
      "\\\\hdrive\\home$\\u045\\shepard\\GitHub\\message-ix-models\\message_ix_models\\report\\legacy\\pp_utils.py:558: FutureWarning: Setting an item of incompatible dtype is deprecated and will raise in a future error of pandas. Value '[2030 2030 2030 2030 2030 2030 2030 2030 2030 2030 2030 2030 2030]' has dtype incompatible with int64, please explicitly cast to a compatible dtype first.\n",
      "\\\\hdrive\\home$\\u045\\shepard\\GitHub\\message-ix-models\\message_ix_models\\report\\legacy\\pp_utils.py:558: FutureWarning: Setting an item of incompatible dtype is deprecated and will raise in a future error of pandas. Value '[2030 2030 2030 2030 2030 2030 2030 2030 2030 2030 2030 2030 2030]' has dtype incompatible with int64, please explicitly cast to a compatible dtype first.\n",
      "\\\\hdrive\\home$\\u045\\shepard\\GitHub\\message-ix-models\\message_ix_models\\report\\legacy\\pp_utils.py:558: FutureWarning: Setting an item of incompatible dtype is deprecated and will raise in a future error of pandas. Value '[2030 2030 2030 2030 2030 2030 2030 2030 2030 2030 2030 2030 2030]' has dtype incompatible with int64, please explicitly cast to a compatible dtype first.\n",
      "\\\\hdrive\\home$\\u045\\shepard\\GitHub\\message-ix-models\\message_ix_models\\report\\legacy\\pp_utils.py:558: FutureWarning: Setting an item of incompatible dtype is deprecated and will raise in a future error of pandas. Value '[2030 2030 2030 2030 2030 2030 2030 2030 2030 2030 2030 2030 2030]' has dtype incompatible with int64, please explicitly cast to a compatible dtype first.\n",
      "\\\\hdrive\\home$\\u045\\shepard\\GitHub\\message-ix-models\\message_ix_models\\report\\legacy\\pp_utils.py:558: FutureWarning: Setting an item of incompatible dtype is deprecated and will raise in a future error of pandas. Value '[2030 2030 2030 2030 2030 2030 2030 2030 2030 2030 2030 2030 2030]' has dtype incompatible with int64, please explicitly cast to a compatible dtype first.\n",
      "\\\\hdrive\\home$\\u045\\shepard\\GitHub\\message-ix-models\\message_ix_models\\report\\legacy\\pp_utils.py:558: FutureWarning: Setting an item of incompatible dtype is deprecated and will raise in a future error of pandas. Value '[2030 2030 2030 2030 2030 2030 2030 2030 2030 2030 2030 2030 2030]' has dtype incompatible with int64, please explicitly cast to a compatible dtype first.\n",
      "\\\\hdrive\\home$\\u045\\shepard\\GitHub\\message-ix-models\\message_ix_models\\report\\legacy\\pp_utils.py:558: FutureWarning: Setting an item of incompatible dtype is deprecated and will raise in a future error of pandas. Value '[2030 2030 2030 2030 2030 2030 2030 2030 2030 2030 2030 2030 2030]' has dtype incompatible with int64, please explicitly cast to a compatible dtype first.\n",
      "\\\\hdrive\\home$\\u045\\shepard\\GitHub\\message-ix-models\\message_ix_models\\report\\legacy\\pp_utils.py:558: FutureWarning: Setting an item of incompatible dtype is deprecated and will raise in a future error of pandas. Value '[2030 2030 2030 2030 2030 2030 2030 2030 2030 2030 2030 2030 2030]' has dtype incompatible with int64, please explicitly cast to a compatible dtype first.\n",
      "\\\\hdrive\\home$\\u045\\shepard\\GitHub\\message-ix-models\\message_ix_models\\report\\legacy\\pp_utils.py:558: FutureWarning: Setting an item of incompatible dtype is deprecated and will raise in a future error of pandas. Value '[2030 2030 2030 2030 2030 2030 2030 2030 2030 2030 2030 2030 2030]' has dtype incompatible with int64, please explicitly cast to a compatible dtype first.\n",
      "\\\\hdrive\\home$\\u045\\shepard\\GitHub\\message-ix-models\\message_ix_models\\report\\legacy\\pp_utils.py:558: FutureWarning: Setting an item of incompatible dtype is deprecated and will raise in a future error of pandas. Value '[2030 2030 2030 2030 2030 2030 2030 2030 2030 2030 2030 2030 2030]' has dtype incompatible with int64, please explicitly cast to a compatible dtype first.\n",
      "\\\\hdrive\\home$\\u045\\shepard\\GitHub\\message-ix-models\\message_ix_models\\report\\legacy\\pp_utils.py:558: FutureWarning: Setting an item of incompatible dtype is deprecated and will raise in a future error of pandas. Value '[2030 2030 2030 2030 2030 2030 2030 2030 2030 2030 2030 2030 2030]' has dtype incompatible with int64, please explicitly cast to a compatible dtype first.\n",
      "\\\\hdrive\\home$\\u045\\shepard\\GitHub\\message-ix-models\\message_ix_models\\report\\legacy\\pp_utils.py:558: FutureWarning: Setting an item of incompatible dtype is deprecated and will raise in a future error of pandas. Value '[2030 2030 2030 2030 2030 2030 2030 2030 2030 2030 2030 2030 2030]' has dtype incompatible with int64, please explicitly cast to a compatible dtype first.\n",
      "\\\\hdrive\\home$\\u045\\shepard\\GitHub\\message-ix-models\\message_ix_models\\report\\legacy\\pp_utils.py:558: FutureWarning: Setting an item of incompatible dtype is deprecated and will raise in a future error of pandas. Value '[2030 2030 2030 2030 2030 2030 2030 2030 2030 2030 2030 2030 2030]' has dtype incompatible with int64, please explicitly cast to a compatible dtype first.\n",
      "\\\\hdrive\\home$\\u045\\shepard\\GitHub\\message-ix-models\\message_ix_models\\report\\legacy\\pp_utils.py:558: FutureWarning: Setting an item of incompatible dtype is deprecated and will raise in a future error of pandas. Value '[2030 2030 2030 2030 2030 2030 2030 2030 2030 2030 2030 2030 2030]' has dtype incompatible with int64, please explicitly cast to a compatible dtype first.\n",
      "\\\\hdrive\\home$\\u045\\shepard\\GitHub\\message-ix-models\\message_ix_models\\report\\legacy\\pp_utils.py:558: FutureWarning: Setting an item of incompatible dtype is deprecated and will raise in a future error of pandas. Value '[2030 2030 2030 2030 2030 2030 2030 2030 2030 2030 2030 2030 2030]' has dtype incompatible with int64, please explicitly cast to a compatible dtype first.\n",
      "\\\\hdrive\\home$\\u045\\shepard\\GitHub\\message-ix-models\\message_ix_models\\report\\legacy\\pp_utils.py:558: FutureWarning: Setting an item of incompatible dtype is deprecated and will raise in a future error of pandas. Value '[2030 2030 2030 2030 2030 2030 2030 2030 2030 2030 2030 2030 2030]' has dtype incompatible with int64, please explicitly cast to a compatible dtype first.\n"
     ]
    },
    {
     "name": "stdout",
     "output_type": "stream",
     "text": [
      "processing Table: Final Energy\n"
     ]
    },
    {
     "name": "stderr",
     "output_type": "stream",
     "text": [
      "\\\\hdrive\\home$\\u045\\shepard\\GitHub\\message-ix-models\\message_ix_models\\report\\legacy\\pp_utils.py:558: FutureWarning: Setting an item of incompatible dtype is deprecated and will raise in a future error of pandas. Value '[2030 2030 2030 2030 2030 2030 2030 2030 2030 2030 2030 2030 2030]' has dtype incompatible with int64, please explicitly cast to a compatible dtype first.\n",
      "\\\\hdrive\\home$\\u045\\shepard\\GitHub\\message-ix-models\\message_ix_models\\report\\legacy\\pp_utils.py:558: FutureWarning: Setting an item of incompatible dtype is deprecated and will raise in a future error of pandas. Value '[2030 2030 2030 2030 2030 2030 2030 2030 2030 2030 2030 2030 2030]' has dtype incompatible with int64, please explicitly cast to a compatible dtype first.\n",
      "\\\\hdrive\\home$\\u045\\shepard\\GitHub\\message-ix-models\\message_ix_models\\report\\legacy\\pp_utils.py:558: FutureWarning: Setting an item of incompatible dtype is deprecated and will raise in a future error of pandas. Value '[2030 2030 2030 2030 2030 2030 2030 2030 2030 2030 2030 2030 2030]' has dtype incompatible with int64, please explicitly cast to a compatible dtype first.\n",
      "\\\\hdrive\\home$\\u045\\shepard\\GitHub\\message-ix-models\\message_ix_models\\report\\legacy\\pp_utils.py:558: FutureWarning: Setting an item of incompatible dtype is deprecated and will raise in a future error of pandas. Value '[2030 2030 2030 2030 2030 2030 2030 2030 2030 2030 2030 2030 2030]' has dtype incompatible with int64, please explicitly cast to a compatible dtype first.\n",
      "\\\\hdrive\\home$\\u045\\shepard\\GitHub\\message-ix-models\\message_ix_models\\report\\legacy\\pp_utils.py:558: FutureWarning: Setting an item of incompatible dtype is deprecated and will raise in a future error of pandas. Value '[2030 2030 2030 2030 2030 2030 2030 2030 2030 2030 2030 2030 2030]' has dtype incompatible with int64, please explicitly cast to a compatible dtype first.\n",
      "\\\\hdrive\\home$\\u045\\shepard\\GitHub\\message-ix-models\\message_ix_models\\report\\legacy\\pp_utils.py:558: FutureWarning: Setting an item of incompatible dtype is deprecated and will raise in a future error of pandas. Value '[2030 2030 2030 2030 2030 2030 2030 2030 2030 2030 2030 2030 2030]' has dtype incompatible with int64, please explicitly cast to a compatible dtype first.\n",
      "\\\\hdrive\\home$\\u045\\shepard\\GitHub\\message-ix-models\\message_ix_models\\report\\legacy\\pp_utils.py:558: FutureWarning: Setting an item of incompatible dtype is deprecated and will raise in a future error of pandas. Value '[2030 2030 2030 2030 2030 2030 2030 2030 2030 2030 2030 2030 2030]' has dtype incompatible with int64, please explicitly cast to a compatible dtype first.\n",
      "\\\\hdrive\\home$\\u045\\shepard\\GitHub\\message-ix-models\\message_ix_models\\report\\legacy\\pp_utils.py:558: FutureWarning: Setting an item of incompatible dtype is deprecated and will raise in a future error of pandas. Value '[2030 2030 2030 2030 2030 2030 2030 2030 2030 2030 2030 2030 2030]' has dtype incompatible with int64, please explicitly cast to a compatible dtype first.\n",
      "\\\\hdrive\\home$\\u045\\shepard\\GitHub\\message-ix-models\\message_ix_models\\report\\legacy\\pp_utils.py:558: FutureWarning: Setting an item of incompatible dtype is deprecated and will raise in a future error of pandas. Value '[2030 2030 2030 2030 2030 2030 2030 2030 2030 2030 2030 2030 2030]' has dtype incompatible with int64, please explicitly cast to a compatible dtype first.\n",
      "\\\\hdrive\\home$\\u045\\shepard\\GitHub\\message-ix-models\\message_ix_models\\report\\legacy\\pp_utils.py:558: FutureWarning: Setting an item of incompatible dtype is deprecated and will raise in a future error of pandas. Value '[2030 2030 2030 2030 2030 2030 2030 2030 2030 2030 2030 2030 2030]' has dtype incompatible with int64, please explicitly cast to a compatible dtype first.\n",
      "\\\\hdrive\\home$\\u045\\shepard\\GitHub\\message-ix-models\\message_ix_models\\report\\legacy\\pp_utils.py:558: FutureWarning: Setting an item of incompatible dtype is deprecated and will raise in a future error of pandas. Value '[2030 2030 2030 2030 2030 2030 2030 2030 2030 2030 2030 2030 2030]' has dtype incompatible with int64, please explicitly cast to a compatible dtype first.\n",
      "\\\\hdrive\\home$\\u045\\shepard\\GitHub\\message-ix-models\\message_ix_models\\report\\legacy\\pp_utils.py:558: FutureWarning: Setting an item of incompatible dtype is deprecated and will raise in a future error of pandas. Value '[2030 2030 2030 2030 2030 2030 2030 2030 2030 2030 2030 2030 2030]' has dtype incompatible with int64, please explicitly cast to a compatible dtype first.\n",
      "\\\\hdrive\\home$\\u045\\shepard\\GitHub\\message-ix-models\\message_ix_models\\report\\legacy\\pp_utils.py:558: FutureWarning: Setting an item of incompatible dtype is deprecated and will raise in a future error of pandas. Value '[2030 2030 2030 2030 2030 2030 2030 2030 2030 2030 2030 2030 2030]' has dtype incompatible with int64, please explicitly cast to a compatible dtype first.\n",
      "\\\\hdrive\\home$\\u045\\shepard\\GitHub\\message-ix-models\\message_ix_models\\report\\legacy\\pp_utils.py:558: FutureWarning: Setting an item of incompatible dtype is deprecated and will raise in a future error of pandas. Value '[2030 2030 2030 2030 2030 2030 2030 2030 2030 2030 2030 2030 2030]' has dtype incompatible with int64, please explicitly cast to a compatible dtype first.\n",
      "\\\\hdrive\\home$\\u045\\shepard\\GitHub\\message-ix-models\\message_ix_models\\report\\legacy\\pp_utils.py:558: FutureWarning: Setting an item of incompatible dtype is deprecated and will raise in a future error of pandas. Value '[2030 2030 2030 2030 2030 2030 2030 2030 2030 2030 2030 2030 2030]' has dtype incompatible with int64, please explicitly cast to a compatible dtype first.\n",
      "\\\\hdrive\\home$\\u045\\shepard\\GitHub\\message-ix-models\\message_ix_models\\report\\legacy\\pp_utils.py:558: FutureWarning: Setting an item of incompatible dtype is deprecated and will raise in a future error of pandas. Value '[2030 2030 2030 2030 2030 2030 2030 2030 2030 2030 2030 2030 2030]' has dtype incompatible with int64, please explicitly cast to a compatible dtype first.\n",
      "\\\\hdrive\\home$\\u045\\shepard\\GitHub\\message-ix-models\\message_ix_models\\report\\legacy\\pp_utils.py:558: FutureWarning: Setting an item of incompatible dtype is deprecated and will raise in a future error of pandas. Value '[2030 2030 2030 2030 2030 2030 2030 2030 2030 2030 2030 2030 2030]' has dtype incompatible with int64, please explicitly cast to a compatible dtype first.\n",
      "\\\\hdrive\\home$\\u045\\shepard\\GitHub\\message-ix-models\\message_ix_models\\report\\legacy\\pp_utils.py:558: FutureWarning: Setting an item of incompatible dtype is deprecated and will raise in a future error of pandas. Value '[2030 2030 2030 2030 2030 2030 2030 2030 2030 2030 2030 2030 2030]' has dtype incompatible with int64, please explicitly cast to a compatible dtype first.\n",
      "\\\\hdrive\\home$\\u045\\shepard\\GitHub\\message-ix-models\\message_ix_models\\report\\legacy\\pp_utils.py:558: FutureWarning: Setting an item of incompatible dtype is deprecated and will raise in a future error of pandas. Value '[2030 2030 2030 2030 2030 2030 2030 2030 2030 2030 2030 2030 2030]' has dtype incompatible with int64, please explicitly cast to a compatible dtype first.\n",
      "\\\\hdrive\\home$\\u045\\shepard\\GitHub\\message-ix-models\\message_ix_models\\report\\legacy\\pp_utils.py:558: FutureWarning: Setting an item of incompatible dtype is deprecated and will raise in a future error of pandas. Value '[2030 2030 2030 2030 2030 2030 2030 2030 2030 2030 2030 2030 2030]' has dtype incompatible with int64, please explicitly cast to a compatible dtype first.\n",
      "\\\\hdrive\\home$\\u045\\shepard\\GitHub\\message-ix-models\\message_ix_models\\report\\legacy\\pp_utils.py:558: FutureWarning: Setting an item of incompatible dtype is deprecated and will raise in a future error of pandas. Value '[2030 2030 2030 2030 2030 2030 2030 2030 2030 2030 2030 2030 2030]' has dtype incompatible with int64, please explicitly cast to a compatible dtype first.\n",
      "\\\\hdrive\\home$\\u045\\shepard\\GitHub\\message-ix-models\\message_ix_models\\report\\legacy\\pp_utils.py:558: FutureWarning: Setting an item of incompatible dtype is deprecated and will raise in a future error of pandas. Value '[2030 2030 2030 2030 2030 2030 2030 2030 2030 2030 2030 2030 2030]' has dtype incompatible with int64, please explicitly cast to a compatible dtype first.\n",
      "\\\\hdrive\\home$\\u045\\shepard\\GitHub\\message-ix-models\\message_ix_models\\report\\legacy\\pp_utils.py:558: FutureWarning: Setting an item of incompatible dtype is deprecated and will raise in a future error of pandas. Value '[2030 2030 2030 2030 2030 2030 2030 2030 2030 2030 2030 2030 2030]' has dtype incompatible with int64, please explicitly cast to a compatible dtype first.\n",
      "\\\\hdrive\\home$\\u045\\shepard\\GitHub\\message-ix-models\\message_ix_models\\report\\legacy\\pp_utils.py:558: FutureWarning: Setting an item of incompatible dtype is deprecated and will raise in a future error of pandas. Value '[2030 2030 2030 2030 2030 2030 2030 2030 2030 2030 2030 2030 2030]' has dtype incompatible with int64, please explicitly cast to a compatible dtype first.\n",
      "\\\\hdrive\\home$\\u045\\shepard\\GitHub\\message-ix-models\\message_ix_models\\report\\legacy\\pp_utils.py:558: FutureWarning: Setting an item of incompatible dtype is deprecated and will raise in a future error of pandas. Value '[2030 2030 2030 2030 2030 2030 2030 2030 2030 2030 2030 2030 2030]' has dtype incompatible with int64, please explicitly cast to a compatible dtype first.\n",
      "\\\\hdrive\\home$\\u045\\shepard\\GitHub\\message-ix-models\\message_ix_models\\report\\legacy\\pp_utils.py:558: FutureWarning: Setting an item of incompatible dtype is deprecated and will raise in a future error of pandas. Value '[2030 2030 2030 2030 2030 2030 2030 2030 2030 2030 2030 2030 2030]' has dtype incompatible with int64, please explicitly cast to a compatible dtype first.\n",
      "\\\\hdrive\\home$\\u045\\shepard\\GitHub\\message-ix-models\\message_ix_models\\report\\legacy\\pp_utils.py:558: FutureWarning: Setting an item of incompatible dtype is deprecated and will raise in a future error of pandas. Value '[2030 2030 2030 2030 2030 2030 2030 2030 2030 2030 2030 2030 2030]' has dtype incompatible with int64, please explicitly cast to a compatible dtype first.\n",
      "\\\\hdrive\\home$\\u045\\shepard\\GitHub\\message-ix-models\\message_ix_models\\report\\legacy\\pp_utils.py:558: FutureWarning: Setting an item of incompatible dtype is deprecated and will raise in a future error of pandas. Value '[2030 2030 2030 2030 2030 2030 2030 2030 2030 2030 2030 2030 2030]' has dtype incompatible with int64, please explicitly cast to a compatible dtype first.\n",
      "\\\\hdrive\\home$\\u045\\shepard\\GitHub\\message-ix-models\\message_ix_models\\report\\legacy\\pp_utils.py:558: FutureWarning: Setting an item of incompatible dtype is deprecated and will raise in a future error of pandas. Value '[2030 2030 2030 2030 2030 2030 2030 2030 2030 2030 2030 2030 2030]' has dtype incompatible with int64, please explicitly cast to a compatible dtype first.\n"
     ]
    },
    {
     "name": "stdout",
     "output_type": "stream",
     "text": [
      "processing Table: Secondary Energy|Electricity\n"
     ]
    },
    {
     "name": "stderr",
     "output_type": "stream",
     "text": [
      "\\\\hdrive\\home$\\u045\\shepard\\GitHub\\message-ix-models\\message_ix_models\\report\\legacy\\pp_utils.py:558: FutureWarning: Setting an item of incompatible dtype is deprecated and will raise in a future error of pandas. Value '[2030 2030 2030 2030 2030 2030 2030 2030 2030 2030 2030 2030 2030]' has dtype incompatible with int64, please explicitly cast to a compatible dtype first.\n",
      "\\\\hdrive\\home$\\u045\\shepard\\GitHub\\message-ix-models\\message_ix_models\\report\\legacy\\pp_utils.py:558: FutureWarning: Setting an item of incompatible dtype is deprecated and will raise in a future error of pandas. Value '[2030 2030 2030 2030 2030 2030 2030 2030 2030 2030 2030 2030 2030]' has dtype incompatible with int64, please explicitly cast to a compatible dtype first.\n",
      "\\\\hdrive\\home$\\u045\\shepard\\GitHub\\message-ix-models\\message_ix_models\\report\\legacy\\pp_utils.py:558: FutureWarning: Setting an item of incompatible dtype is deprecated and will raise in a future error of pandas. Value '[2030 2030 2030 2030 2030 2030 2030 2030 2030 2030 2030 2030 2030]' has dtype incompatible with int64, please explicitly cast to a compatible dtype first.\n",
      "\\\\hdrive\\home$\\u045\\shepard\\GitHub\\message-ix-models\\message_ix_models\\report\\legacy\\pp_utils.py:558: FutureWarning: Setting an item of incompatible dtype is deprecated and will raise in a future error of pandas. Value '[2030 2030 2030 2030 2030 2030 2030 2030 2030 2030 2030 2030 2030]' has dtype incompatible with int64, please explicitly cast to a compatible dtype first.\n",
      "\\\\hdrive\\home$\\u045\\shepard\\GitHub\\message-ix-models\\message_ix_models\\report\\legacy\\pp_utils.py:558: FutureWarning: Setting an item of incompatible dtype is deprecated and will raise in a future error of pandas. Value '[2030 2030 2030 2030 2030 2030 2030 2030 2030 2030 2030 2030 2030]' has dtype incompatible with int64, please explicitly cast to a compatible dtype first.\n",
      "\\\\hdrive\\home$\\u045\\shepard\\GitHub\\message-ix-models\\message_ix_models\\report\\legacy\\pp_utils.py:558: FutureWarning: Setting an item of incompatible dtype is deprecated and will raise in a future error of pandas. Value '[2030 2030 2030 2030 2030 2030 2030 2030 2030 2030 2030 2030 2030]' has dtype incompatible with int64, please explicitly cast to a compatible dtype first.\n",
      "\\\\hdrive\\home$\\u045\\shepard\\GitHub\\message-ix-models\\message_ix_models\\report\\legacy\\pp_utils.py:558: FutureWarning: Setting an item of incompatible dtype is deprecated and will raise in a future error of pandas. Value '[2030 2030 2030 2030 2030 2030 2030 2030 2030 2030 2030 2030 2030]' has dtype incompatible with int64, please explicitly cast to a compatible dtype first.\n",
      "\\\\hdrive\\home$\\u045\\shepard\\GitHub\\message-ix-models\\message_ix_models\\report\\legacy\\pp_utils.py:558: FutureWarning: Setting an item of incompatible dtype is deprecated and will raise in a future error of pandas. Value '[2030 2030 2030 2030 2030 2030 2030 2030 2030 2030 2030 2030 2030]' has dtype incompatible with int64, please explicitly cast to a compatible dtype first.\n",
      "\\\\hdrive\\home$\\u045\\shepard\\GitHub\\message-ix-models\\message_ix_models\\report\\legacy\\pp_utils.py:558: FutureWarning: Setting an item of incompatible dtype is deprecated and will raise in a future error of pandas. Value '[2030 2030 2030 2030 2030 2030 2030 2030 2030 2030 2030 2030 2030]' has dtype incompatible with int64, please explicitly cast to a compatible dtype first.\n",
      "\\\\hdrive\\home$\\u045\\shepard\\GitHub\\message-ix-models\\message_ix_models\\report\\legacy\\pp_utils.py:558: FutureWarning: Setting an item of incompatible dtype is deprecated and will raise in a future error of pandas. Value '[2030 2030 2030 2030 2030 2030 2030 2030 2030 2030 2030 2030 2030]' has dtype incompatible with int64, please explicitly cast to a compatible dtype first.\n",
      "\\\\hdrive\\home$\\u045\\shepard\\GitHub\\message-ix-models\\message_ix_models\\report\\legacy\\pp_utils.py:558: FutureWarning: Setting an item of incompatible dtype is deprecated and will raise in a future error of pandas. Value '[2030 2030 2030 2030 2030 2030 2030 2030 2030 2030 2030 2030 2030]' has dtype incompatible with int64, please explicitly cast to a compatible dtype first.\n",
      "\\\\hdrive\\home$\\u045\\shepard\\GitHub\\message-ix-models\\message_ix_models\\report\\legacy\\pp_utils.py:558: FutureWarning: Setting an item of incompatible dtype is deprecated and will raise in a future error of pandas. Value '[2030 2030 2030 2030 2030 2030 2030 2030 2030 2030 2030 2030 2030]' has dtype incompatible with int64, please explicitly cast to a compatible dtype first.\n",
      "\\\\hdrive\\home$\\u045\\shepard\\GitHub\\message-ix-models\\message_ix_models\\report\\legacy\\pp_utils.py:558: FutureWarning: Setting an item of incompatible dtype is deprecated and will raise in a future error of pandas. Value '[2030 2030 2030 2030 2030 2030 2030 2030 2030 2030 2030 2030 2030]' has dtype incompatible with int64, please explicitly cast to a compatible dtype first.\n",
      "\\\\hdrive\\home$\\u045\\shepard\\GitHub\\message-ix-models\\message_ix_models\\report\\legacy\\pp_utils.py:558: FutureWarning: Setting an item of incompatible dtype is deprecated and will raise in a future error of pandas. Value '[2030 2030 2030 2030 2030 2030 2030 2030 2030 2030 2030 2030 2030]' has dtype incompatible with int64, please explicitly cast to a compatible dtype first.\n",
      "\\\\hdrive\\home$\\u045\\shepard\\GitHub\\message-ix-models\\message_ix_models\\report\\legacy\\pp_utils.py:558: FutureWarning: Setting an item of incompatible dtype is deprecated and will raise in a future error of pandas. Value '[2030 2030 2030 2030 2030 2030 2030 2030 2030 2030 2030 2030 2030]' has dtype incompatible with int64, please explicitly cast to a compatible dtype first.\n",
      "\\\\hdrive\\home$\\u045\\shepard\\GitHub\\message-ix-models\\message_ix_models\\report\\legacy\\pp_utils.py:558: FutureWarning: Setting an item of incompatible dtype is deprecated and will raise in a future error of pandas. Value '[2030 2030 2030 2030 2030 2030 2030 2030 2030 2030 2030 2030 2030]' has dtype incompatible with int64, please explicitly cast to a compatible dtype first.\n",
      "\\\\hdrive\\home$\\u045\\shepard\\GitHub\\message-ix-models\\message_ix_models\\report\\legacy\\pp_utils.py:558: FutureWarning: Setting an item of incompatible dtype is deprecated and will raise in a future error of pandas. Value '[2030 2030 2030 2030 2030 2030 2030 2030 2030 2030 2030 2030 2030]' has dtype incompatible with int64, please explicitly cast to a compatible dtype first.\n"
     ]
    },
    {
     "name": "stdout",
     "output_type": "stream",
     "text": [
      "processing Table: Secondary Energy|Heat\n",
      "processing Table: Secondary Energy\n"
     ]
    },
    {
     "name": "stderr",
     "output_type": "stream",
     "text": [
      "\\\\hdrive\\home$\\u045\\shepard\\GitHub\\message-ix-models\\message_ix_models\\report\\legacy\\pp_utils.py:558: FutureWarning: Setting an item of incompatible dtype is deprecated and will raise in a future error of pandas. Value '[2030 2030 2030 2030 2030 2030 2030 2030 2030 2030 2030 2030 2030]' has dtype incompatible with int64, please explicitly cast to a compatible dtype first.\n",
      "\\\\hdrive\\home$\\u045\\shepard\\GitHub\\message-ix-models\\message_ix_models\\report\\legacy\\pp_utils.py:558: FutureWarning: Setting an item of incompatible dtype is deprecated and will raise in a future error of pandas. Value '[2030 2030 2030 2030 2030 2030 2030 2030 2030 2030 2030 2030 2030]' has dtype incompatible with int64, please explicitly cast to a compatible dtype first.\n",
      "\\\\hdrive\\home$\\u045\\shepard\\GitHub\\message-ix-models\\message_ix_models\\report\\legacy\\pp_utils.py:558: FutureWarning: Setting an item of incompatible dtype is deprecated and will raise in a future error of pandas. Value '[2030 2030 2030 2030 2030 2030 2030 2030 2030 2030 2030 2030 2030]' has dtype incompatible with int64, please explicitly cast to a compatible dtype first.\n",
      "\\\\hdrive\\home$\\u045\\shepard\\GitHub\\message-ix-models\\message_ix_models\\report\\legacy\\pp_utils.py:558: FutureWarning: Setting an item of incompatible dtype is deprecated and will raise in a future error of pandas. Value '[2030 2030 2030 2030 2030 2030 2030 2030 2030 2030 2030 2030 2030]' has dtype incompatible with int64, please explicitly cast to a compatible dtype first.\n",
      "\\\\hdrive\\home$\\u045\\shepard\\GitHub\\message-ix-models\\message_ix_models\\report\\legacy\\pp_utils.py:558: FutureWarning: Setting an item of incompatible dtype is deprecated and will raise in a future error of pandas. Value '[2030 2030 2030 2030 2030 2030 2030 2030 2030 2030 2030 2030 2030]' has dtype incompatible with int64, please explicitly cast to a compatible dtype first.\n",
      "\\\\hdrive\\home$\\u045\\shepard\\GitHub\\message-ix-models\\message_ix_models\\report\\legacy\\pp_utils.py:558: FutureWarning: Setting an item of incompatible dtype is deprecated and will raise in a future error of pandas. Value '[2030 2030 2030 2030 2030 2030 2030 2030 2030 2030 2030 2030 2030]' has dtype incompatible with int64, please explicitly cast to a compatible dtype first.\n",
      "\\\\hdrive\\home$\\u045\\shepard\\GitHub\\message-ix-models\\message_ix_models\\report\\legacy\\pp_utils.py:558: FutureWarning: Setting an item of incompatible dtype is deprecated and will raise in a future error of pandas. Value '[2030 2030 2030 2030 2030 2030 2030 2030 2030 2030 2030 2030 2030]' has dtype incompatible with int64, please explicitly cast to a compatible dtype first.\n",
      "\\\\hdrive\\home$\\u045\\shepard\\GitHub\\message-ix-models\\message_ix_models\\report\\legacy\\pp_utils.py:558: FutureWarning: Setting an item of incompatible dtype is deprecated and will raise in a future error of pandas. Value '[2030 2030 2030 2030 2030 2030 2030 2030 2030 2030 2030 2030 2030]' has dtype incompatible with int64, please explicitly cast to a compatible dtype first.\n"
     ]
    },
    {
     "name": "stdout",
     "output_type": "stream",
     "text": [
      "processing Table: Secondary Energy|Gases\n",
      "processing Table: Secondary Energy|Solids\n",
      "processing Table: Emissions|CO2\n"
     ]
    },
    {
     "name": "stderr",
     "output_type": "stream",
     "text": [
      "\\\\hdrive\\home$\\u045\\shepard\\GitHub\\message-ix-models\\message_ix_models\\report\\legacy\\pp_utils.py:558: FutureWarning: Setting an item of incompatible dtype is deprecated and will raise in a future error of pandas. Value '[2030 2030 2030 2030 2030 2030 2030 2030 2030 2030 2030 2030 2030]' has dtype incompatible with int64, please explicitly cast to a compatible dtype first.\n",
      "\\\\hdrive\\home$\\u045\\shepard\\GitHub\\message-ix-models\\message_ix_models\\report\\legacy\\pp_utils.py:558: FutureWarning: Setting an item of incompatible dtype is deprecated and will raise in a future error of pandas. Value '[2030 2030 2030 2030 2030 2030 2030 2030 2030 2030 2030 2030 2030]' has dtype incompatible with int64, please explicitly cast to a compatible dtype first.\n",
      "\\\\hdrive\\home$\\u045\\shepard\\GitHub\\message-ix-models\\message_ix_models\\report\\legacy\\pp_utils.py:558: FutureWarning: Setting an item of incompatible dtype is deprecated and will raise in a future error of pandas. Value '[2030 2030 2030 2030 2030 2030 2030 2030 2030 2030 2030 2030 2030]' has dtype incompatible with int64, please explicitly cast to a compatible dtype first.\n",
      "\\\\hdrive\\home$\\u045\\shepard\\GitHub\\message-ix-models\\message_ix_models\\report\\legacy\\pp_utils.py:558: FutureWarning: Setting an item of incompatible dtype is deprecated and will raise in a future error of pandas. Value '[2030 2030 2030 2030 2030 2030 2030 2030 2030 2030 2030 2030 2030]' has dtype incompatible with int64, please explicitly cast to a compatible dtype first.\n",
      "\\\\hdrive\\home$\\u045\\shepard\\GitHub\\message-ix-models\\message_ix_models\\report\\legacy\\pp_utils.py:558: FutureWarning: Setting an item of incompatible dtype is deprecated and will raise in a future error of pandas. Value '[2030 2030 2030 2030 2030 2030 2030 2030 2030 2030 2030 2030 2030]' has dtype incompatible with int64, please explicitly cast to a compatible dtype first.\n",
      "\\\\hdrive\\home$\\u045\\shepard\\GitHub\\message-ix-models\\message_ix_models\\report\\legacy\\pp_utils.py:558: FutureWarning: Setting an item of incompatible dtype is deprecated and will raise in a future error of pandas. Value '[2030 2030 2030 2030 2030 2030 2030 2030 2030 2030 2030 2030 2030]' has dtype incompatible with int64, please explicitly cast to a compatible dtype first.\n",
      "\\\\hdrive\\home$\\u045\\shepard\\GitHub\\message-ix-models\\message_ix_models\\report\\legacy\\pp_utils.py:558: FutureWarning: Setting an item of incompatible dtype is deprecated and will raise in a future error of pandas. Value '[2030 2030 2030 2030 2030 2030 2030 2030 2030 2030 2030 2030 2030]' has dtype incompatible with int64, please explicitly cast to a compatible dtype first.\n",
      "\\\\hdrive\\home$\\u045\\shepard\\GitHub\\message-ix-models\\message_ix_models\\report\\legacy\\pp_utils.py:558: FutureWarning: Setting an item of incompatible dtype is deprecated and will raise in a future error of pandas. Value '[2030 2030 2030 2030 2030 2030 2030 2030 2030 2030 2030 2030 2030]' has dtype incompatible with int64, please explicitly cast to a compatible dtype first.\n",
      "\\\\hdrive\\home$\\u045\\shepard\\GitHub\\message-ix-models\\message_ix_models\\report\\legacy\\pp_utils.py:558: FutureWarning: Setting an item of incompatible dtype is deprecated and will raise in a future error of pandas. Value '[2030 2030 2030 2030 2030 2030 2030 2030 2030 2030 2030 2030 2030]' has dtype incompatible with int64, please explicitly cast to a compatible dtype first.\n",
      "\\\\hdrive\\home$\\u045\\shepard\\GitHub\\message-ix-models\\message_ix_models\\report\\legacy\\pp_utils.py:558: FutureWarning: Setting an item of incompatible dtype is deprecated and will raise in a future error of pandas. Value '[2030 2030 2030 2030 2030 2030 2030 2030 2030 2030 2030 2030 2030]' has dtype incompatible with int64, please explicitly cast to a compatible dtype first.\n",
      "\\\\hdrive\\home$\\u045\\shepard\\GitHub\\message-ix-models\\message_ix_models\\report\\legacy\\pp_utils.py:558: FutureWarning: Setting an item of incompatible dtype is deprecated and will raise in a future error of pandas. Value '[2030 2030 2030 2030 2030 2030 2030 2030 2030 2030 2030 2030 2030]' has dtype incompatible with int64, please explicitly cast to a compatible dtype first.\n",
      "\\\\hdrive\\home$\\u045\\shepard\\GitHub\\message-ix-models\\message_ix_models\\report\\legacy\\pp_utils.py:558: FutureWarning: Setting an item of incompatible dtype is deprecated and will raise in a future error of pandas. Value '[2030 2030 2030 2030 2030 2030 2030 2030 2030 2030 2030 2030 2030]' has dtype incompatible with int64, please explicitly cast to a compatible dtype first.\n",
      "\\\\hdrive\\home$\\u045\\shepard\\GitHub\\message-ix-models\\message_ix_models\\report\\legacy\\pp_utils.py:558: FutureWarning: Setting an item of incompatible dtype is deprecated and will raise in a future error of pandas. Value '[2030 2030 2030 2030 2030 2030 2030 2030 2030 2030 2030 2030 2030]' has dtype incompatible with int64, please explicitly cast to a compatible dtype first.\n",
      "\\\\hdrive\\home$\\u045\\shepard\\GitHub\\message-ix-models\\message_ix_models\\report\\legacy\\pp_utils.py:558: FutureWarning: Setting an item of incompatible dtype is deprecated and will raise in a future error of pandas. Value '[2030 2030 2030 2030 2030 2030 2030 2030 2030 2030 2030 2030 2030]' has dtype incompatible with int64, please explicitly cast to a compatible dtype first.\n",
      "\\\\hdrive\\home$\\u045\\shepard\\GitHub\\message-ix-models\\message_ix_models\\report\\legacy\\pp_utils.py:558: FutureWarning: Setting an item of incompatible dtype is deprecated and will raise in a future error of pandas. Value '[2030 2030 2030 2030 2030 2030 2030 2030 2030 2030 2030 2030 2030]' has dtype incompatible with int64, please explicitly cast to a compatible dtype first.\n",
      "\\\\hdrive\\home$\\u045\\shepard\\GitHub\\message-ix-models\\message_ix_models\\report\\legacy\\pp_utils.py:558: FutureWarning: Setting an item of incompatible dtype is deprecated and will raise in a future error of pandas. Value '[2030 2030 2030 2030 2030 2030 2030 2030 2030 2030 2030 2030 2030]' has dtype incompatible with int64, please explicitly cast to a compatible dtype first.\n",
      "\\\\hdrive\\home$\\u045\\shepard\\GitHub\\message-ix-models\\message_ix_models\\report\\legacy\\pp_utils.py:558: FutureWarning: Setting an item of incompatible dtype is deprecated and will raise in a future error of pandas. Value '[2030 2030 2030 2030 2030 2030 2030 2030 2030 2030 2030 2030 2030]' has dtype incompatible with int64, please explicitly cast to a compatible dtype first.\n",
      "\\\\hdrive\\home$\\u045\\shepard\\GitHub\\message-ix-models\\message_ix_models\\report\\legacy\\pp_utils.py:558: FutureWarning: Setting an item of incompatible dtype is deprecated and will raise in a future error of pandas. Value '[2030 2030 2030 2030 2030 2030 2030 2030 2030 2030 2030 2030 2030]' has dtype incompatible with int64, please explicitly cast to a compatible dtype first.\n",
      "\\\\hdrive\\home$\\u045\\shepard\\GitHub\\message-ix-models\\message_ix_models\\report\\legacy\\pp_utils.py:558: FutureWarning: Setting an item of incompatible dtype is deprecated and will raise in a future error of pandas. Value '[2030 2030 2030 2030 2030 2030 2030 2030 2030 2030 2030 2030 2030]' has dtype incompatible with int64, please explicitly cast to a compatible dtype first.\n",
      "\\\\hdrive\\home$\\u045\\shepard\\GitHub\\message-ix-models\\message_ix_models\\report\\legacy\\pp_utils.py:558: FutureWarning: Setting an item of incompatible dtype is deprecated and will raise in a future error of pandas. Value '[2030 2030 2030 2030 2030 2030 2030 2030 2030 2030 2030 2030 2030]' has dtype incompatible with int64, please explicitly cast to a compatible dtype first.\n",
      "\\\\hdrive\\home$\\u045\\shepard\\GitHub\\message-ix-models\\message_ix_models\\report\\legacy\\pp_utils.py:558: FutureWarning: Setting an item of incompatible dtype is deprecated and will raise in a future error of pandas. Value '[2030 2030 2030 2030 2030 2030 2030 2030 2030 2030 2030 2030 2030]' has dtype incompatible with int64, please explicitly cast to a compatible dtype first.\n",
      "\\\\hdrive\\home$\\u045\\shepard\\GitHub\\message-ix-models\\message_ix_models\\report\\legacy\\pp_utils.py:558: FutureWarning: Setting an item of incompatible dtype is deprecated and will raise in a future error of pandas. Value '[2030 2030 2030 2030 2030 2030 2030 2030 2030 2030 2030 2030 2030]' has dtype incompatible with int64, please explicitly cast to a compatible dtype first.\n",
      "\\\\hdrive\\home$\\u045\\shepard\\GitHub\\message-ix-models\\message_ix_models\\report\\legacy\\pp_utils.py:558: FutureWarning: Setting an item of incompatible dtype is deprecated and will raise in a future error of pandas. Value '[2030 2030 2030 2030 2030 2030 2030 2030 2030 2030 2030 2030 2030]' has dtype incompatible with int64, please explicitly cast to a compatible dtype first.\n",
      "\\\\hdrive\\home$\\u045\\shepard\\GitHub\\message-ix-models\\message_ix_models\\report\\legacy\\pp_utils.py:558: FutureWarning: Setting an item of incompatible dtype is deprecated and will raise in a future error of pandas. Value '[2030 2030 2030 2030 2030 2030 2030 2030 2030 2030 2030 2030 2030]' has dtype incompatible with int64, please explicitly cast to a compatible dtype first.\n",
      "\\\\hdrive\\home$\\u045\\shepard\\GitHub\\message-ix-models\\message_ix_models\\report\\legacy\\pp_utils.py:558: FutureWarning: Setting an item of incompatible dtype is deprecated and will raise in a future error of pandas. Value '[2030 2030 2030 2030 2030 2030 2030 2030 2030 2030 2030 2030 2030]' has dtype incompatible with int64, please explicitly cast to a compatible dtype first.\n",
      "\\\\hdrive\\home$\\u045\\shepard\\GitHub\\message-ix-models\\message_ix_models\\report\\legacy\\pp_utils.py:558: FutureWarning: Setting an item of incompatible dtype is deprecated and will raise in a future error of pandas. Value '[2030 2030 2030 2030 2030 2030 2030 2030 2030 2030 2030 2030 2030]' has dtype incompatible with int64, please explicitly cast to a compatible dtype first.\n",
      "\\\\hdrive\\home$\\u045\\shepard\\GitHub\\message-ix-models\\message_ix_models\\report\\legacy\\pp_utils.py:558: FutureWarning: Setting an item of incompatible dtype is deprecated and will raise in a future error of pandas. Value '[2030 2030 2030 2030 2030 2030 2030 2030 2030 2030 2030 2030 2030]' has dtype incompatible with int64, please explicitly cast to a compatible dtype first.\n",
      "\\\\hdrive\\home$\\u045\\shepard\\GitHub\\message-ix-models\\message_ix_models\\report\\legacy\\pp_utils.py:558: FutureWarning: Setting an item of incompatible dtype is deprecated and will raise in a future error of pandas. Value '[2030 2030 2030 2030 2030 2030 2030 2030 2030 2030 2030 2030 2030]' has dtype incompatible with int64, please explicitly cast to a compatible dtype first.\n",
      "\\\\hdrive\\home$\\u045\\shepard\\GitHub\\message-ix-models\\message_ix_models\\report\\legacy\\pp_utils.py:558: FutureWarning: Setting an item of incompatible dtype is deprecated and will raise in a future error of pandas. Value '[2030 2030 2030 2030 2030 2030 2030 2030 2030 2030 2030 2030 2030]' has dtype incompatible with int64, please explicitly cast to a compatible dtype first.\n",
      "\\\\hdrive\\home$\\u045\\shepard\\GitHub\\message-ix-models\\message_ix_models\\report\\legacy\\pp_utils.py:558: FutureWarning: Setting an item of incompatible dtype is deprecated and will raise in a future error of pandas. Value '[2030 2030 2030 2030 2030 2030 2030 2030 2030 2030 2030 2030 2030]' has dtype incompatible with int64, please explicitly cast to a compatible dtype first.\n"
     ]
    },
    {
     "name": "stdout",
     "output_type": "stream",
     "text": [
      "processing Table: Carbon Sequestration\n"
     ]
    },
    {
     "name": "stderr",
     "output_type": "stream",
     "text": [
      "\\\\hdrive\\home$\\u045\\shepard\\GitHub\\message-ix-models\\message_ix_models\\report\\legacy\\pp_utils.py:558: FutureWarning: Setting an item of incompatible dtype is deprecated and will raise in a future error of pandas. Value '[2030 2030 2030 2030 2030 2030 2030 2030 2030 2030 2030 2030 2030]' has dtype incompatible with int64, please explicitly cast to a compatible dtype first.\n"
     ]
    },
    {
     "name": "stdout",
     "output_type": "stream",
     "text": [
      "processing Table: Emissions|BC\n"
     ]
    },
    {
     "name": "stderr",
     "output_type": "stream",
     "text": [
      "\\\\hdrive\\home$\\u045\\shepard\\GitHub\\message-ix-models\\message_ix_models\\report\\legacy\\pp_utils.py:558: FutureWarning: Setting an item of incompatible dtype is deprecated and will raise in a future error of pandas. Value '[2030 2030 2030 2030 2030 2030 2030 2030 2030 2030 2030 2030 2030]' has dtype incompatible with int64, please explicitly cast to a compatible dtype first.\n"
     ]
    },
    {
     "name": "stdout",
     "output_type": "stream",
     "text": [
      "No unit conversion factor found to convert GWa to Mt BC/yr\n",
      "No unit conversion factor found to convert GWa to Mt BC/yr\n"
     ]
    },
    {
     "name": "stderr",
     "output_type": "stream",
     "text": [
      "\\\\hdrive\\home$\\u045\\shepard\\GitHub\\message-ix-models\\message_ix_models\\report\\legacy\\pp_utils.py:558: FutureWarning: Setting an item of incompatible dtype is deprecated and will raise in a future error of pandas. Value '[2030 2030 2030 2030 2030 2030 2030 2030 2030 2030 2030 2030 2030]' has dtype incompatible with int64, please explicitly cast to a compatible dtype first.\n"
     ]
    },
    {
     "name": "stdout",
     "output_type": "stream",
     "text": [
      "No unit conversion factor found to convert kg BCA/kWyr to Mt BC/yr\n",
      "processing Table: Emissions|OC\n"
     ]
    },
    {
     "name": "stderr",
     "output_type": "stream",
     "text": [
      "\\\\hdrive\\home$\\u045\\shepard\\GitHub\\message-ix-models\\message_ix_models\\report\\legacy\\pp_utils.py:558: FutureWarning: Setting an item of incompatible dtype is deprecated and will raise in a future error of pandas. Value '[2030 2030 2030 2030 2030 2030 2030 2030 2030 2030 2030 2030 2030]' has dtype incompatible with int64, please explicitly cast to a compatible dtype first.\n"
     ]
    },
    {
     "name": "stdout",
     "output_type": "stream",
     "text": [
      "No unit conversion factor found to convert GWa to Mt OC/yr\n",
      "No unit conversion factor found to convert GWa to Mt OC/yr\n"
     ]
    },
    {
     "name": "stderr",
     "output_type": "stream",
     "text": [
      "\\\\hdrive\\home$\\u045\\shepard\\GitHub\\message-ix-models\\message_ix_models\\report\\legacy\\pp_utils.py:558: FutureWarning: Setting an item of incompatible dtype is deprecated and will raise in a future error of pandas. Value '[2030 2030 2030 2030 2030 2030 2030 2030 2030 2030 2030 2030 2030]' has dtype incompatible with int64, please explicitly cast to a compatible dtype first.\n"
     ]
    },
    {
     "name": "stdout",
     "output_type": "stream",
     "text": [
      "No unit conversion factor found to convert kg OCA/kWyr to Mt OC/yr\n",
      "processing Table: Emissions|CO\n"
     ]
    },
    {
     "name": "stderr",
     "output_type": "stream",
     "text": [
      "\\\\hdrive\\home$\\u045\\shepard\\GitHub\\message-ix-models\\message_ix_models\\report\\legacy\\pp_utils.py:558: FutureWarning: Setting an item of incompatible dtype is deprecated and will raise in a future error of pandas. Value '[2030 2030 2030 2030 2030 2030 2030 2030 2030 2030 2030 2030 2030]' has dtype incompatible with int64, please explicitly cast to a compatible dtype first.\n"
     ]
    },
    {
     "name": "stdout",
     "output_type": "stream",
     "text": [
      "No unit conversion factor found to convert GWa to Mt CO/yr\n",
      "No unit conversion factor found to convert GWa to Mt CO/yr\n"
     ]
    },
    {
     "name": "stderr",
     "output_type": "stream",
     "text": [
      "\\\\hdrive\\home$\\u045\\shepard\\GitHub\\message-ix-models\\message_ix_models\\report\\legacy\\pp_utils.py:558: FutureWarning: Setting an item of incompatible dtype is deprecated and will raise in a future error of pandas. Value '[2030 2030 2030 2030 2030 2030 2030 2030 2030 2030 2030 2030 2030]' has dtype incompatible with int64, please explicitly cast to a compatible dtype first.\n"
     ]
    },
    {
     "name": "stdout",
     "output_type": "stream",
     "text": [
      "No unit conversion factor found to convert kg CO/kWyr to Mt CO/yr\n",
      "processing Table: Emissions|N2O\n"
     ]
    },
    {
     "name": "stderr",
     "output_type": "stream",
     "text": [
      "\\\\hdrive\\home$\\u045\\shepard\\GitHub\\message-ix-models\\message_ix_models\\report\\legacy\\pp_utils.py:558: FutureWarning: Setting an item of incompatible dtype is deprecated and will raise in a future error of pandas. Value '[2030 2030 2030 2030 2030 2030 2030 2030 2030 2030 2030 2030 2030]' has dtype incompatible with int64, please explicitly cast to a compatible dtype first.\n",
      "\\\\hdrive\\home$\\u045\\shepard\\GitHub\\message-ix-models\\message_ix_models\\report\\legacy\\pp_utils.py:558: FutureWarning: Setting an item of incompatible dtype is deprecated and will raise in a future error of pandas. Value '[2030 2030 2030 2030 2030 2030 2030 2030 2030 2030 2030 2030 2030]' has dtype incompatible with int64, please explicitly cast to a compatible dtype first.\n"
     ]
    },
    {
     "name": "stdout",
     "output_type": "stream",
     "text": [
      "No unit conversion factor found to convert kg N2O/kWyr to kt N2O/yr\n"
     ]
    },
    {
     "name": "stderr",
     "output_type": "stream",
     "text": [
      "\\\\hdrive\\home$\\u045\\shepard\\GitHub\\message-ix-models\\message_ix_models\\report\\legacy\\pp_utils.py:558: FutureWarning: Setting an item of incompatible dtype is deprecated and will raise in a future error of pandas. Value '[2030 2030 2030 2030 2030 2030 2030 2030 2030 2030 2030 2030 2030]' has dtype incompatible with int64, please explicitly cast to a compatible dtype first.\n",
      "\\\\hdrive\\home$\\u045\\shepard\\GitHub\\message-ix-models\\message_ix_models\\report\\legacy\\pp_utils.py:558: FutureWarning: Setting an item of incompatible dtype is deprecated and will raise in a future error of pandas. Value '[2030 2030 2030 2030 2030 2030 2030 2030 2030 2030 2030 2030 2030]' has dtype incompatible with int64, please explicitly cast to a compatible dtype first.\n",
      "\\\\hdrive\\home$\\u045\\shepard\\GitHub\\message-ix-models\\message_ix_models\\report\\legacy\\pp_utils.py:558: FutureWarning: Setting an item of incompatible dtype is deprecated and will raise in a future error of pandas. Value '[2030 2030 2030 2030 2030 2030 2030 2030 2030 2030 2030 2030 2030]' has dtype incompatible with int64, please explicitly cast to a compatible dtype first.\n"
     ]
    },
    {
     "name": "stdout",
     "output_type": "stream",
     "text": [
      "processing Table: Emissions|CH4\n"
     ]
    },
    {
     "name": "stderr",
     "output_type": "stream",
     "text": [
      "\\\\hdrive\\home$\\u045\\shepard\\GitHub\\message-ix-models\\message_ix_models\\report\\legacy\\pp_utils.py:558: FutureWarning: Setting an item of incompatible dtype is deprecated and will raise in a future error of pandas. Value '[2030 2030 2030 2030 2030 2030 2030 2030 2030 2030 2030 2030 2030]' has dtype incompatible with int64, please explicitly cast to a compatible dtype first.\n"
     ]
    },
    {
     "name": "stdout",
     "output_type": "stream",
     "text": [
      "No unit conversion factor found to convert GWa to Mt CH4/yr\n",
      "No unit conversion factor found to convert GWa to Mt CH4/yr\n"
     ]
    },
    {
     "name": "stderr",
     "output_type": "stream",
     "text": [
      "\\\\hdrive\\home$\\u045\\shepard\\GitHub\\message-ix-models\\message_ix_models\\report\\legacy\\pp_utils.py:558: FutureWarning: Setting an item of incompatible dtype is deprecated and will raise in a future error of pandas. Value '[2030 2030 2030 2030 2030 2030 2030 2030 2030 2030 2030 2030 2030]' has dtype incompatible with int64, please explicitly cast to a compatible dtype first.\n",
      "\\\\hdrive\\home$\\u045\\shepard\\GitHub\\message-ix-models\\message_ix_models\\report\\legacy\\pp_utils.py:558: FutureWarning: Setting an item of incompatible dtype is deprecated and will raise in a future error of pandas. Value '[2030 2030 2030 2030 2030 2030 2030 2030 2030 2030 2030 2030 2030]' has dtype incompatible with int64, please explicitly cast to a compatible dtype first.\n"
     ]
    },
    {
     "name": "stdout",
     "output_type": "stream",
     "text": [
      "No unit conversion factor found to convert kg CH4/kWyr to Mt CH4/yr\n"
     ]
    },
    {
     "name": "stderr",
     "output_type": "stream",
     "text": [
      "\\\\hdrive\\home$\\u045\\shepard\\GitHub\\message-ix-models\\message_ix_models\\report\\legacy\\pp_utils.py:558: FutureWarning: Setting an item of incompatible dtype is deprecated and will raise in a future error of pandas. Value '[2030 2030 2030 2030 2030 2030 2030 2030 2030 2030 2030 2030 2030]' has dtype incompatible with int64, please explicitly cast to a compatible dtype first.\n",
      "\\\\hdrive\\home$\\u045\\shepard\\GitHub\\message-ix-models\\message_ix_models\\report\\legacy\\pp_utils.py:558: FutureWarning: Setting an item of incompatible dtype is deprecated and will raise in a future error of pandas. Value '[2030 2030 2030 2030 2030 2030 2030 2030 2030 2030 2030 2030 2030]' has dtype incompatible with int64, please explicitly cast to a compatible dtype first.\n"
     ]
    },
    {
     "name": "stdout",
     "output_type": "stream",
     "text": [
      "processing Table: Emissions|NH3\n"
     ]
    },
    {
     "name": "stderr",
     "output_type": "stream",
     "text": [
      "\\\\hdrive\\home$\\u045\\shepard\\GitHub\\message-ix-models\\message_ix_models\\report\\legacy\\pp_utils.py:558: FutureWarning: Setting an item of incompatible dtype is deprecated and will raise in a future error of pandas. Value '[2030 2030 2030 2030 2030 2030 2030 2030 2030 2030 2030 2030 2030]' has dtype incompatible with int64, please explicitly cast to a compatible dtype first.\n"
     ]
    },
    {
     "name": "stdout",
     "output_type": "stream",
     "text": [
      "No unit conversion factor found to convert GWa to Mt NH3/yr\n",
      "No unit conversion factor found to convert GWa to Mt NH3/yr\n"
     ]
    },
    {
     "name": "stderr",
     "output_type": "stream",
     "text": [
      "\\\\hdrive\\home$\\u045\\shepard\\GitHub\\message-ix-models\\message_ix_models\\report\\legacy\\pp_utils.py:558: FutureWarning: Setting an item of incompatible dtype is deprecated and will raise in a future error of pandas. Value '[2030 2030 2030 2030 2030 2030 2030 2030 2030 2030 2030 2030 2030]' has dtype incompatible with int64, please explicitly cast to a compatible dtype first.\n"
     ]
    },
    {
     "name": "stdout",
     "output_type": "stream",
     "text": [
      "processing Table: Emissions|Sulfur\n"
     ]
    },
    {
     "name": "stderr",
     "output_type": "stream",
     "text": [
      "\\\\hdrive\\home$\\u045\\shepard\\GitHub\\message-ix-models\\message_ix_models\\report\\legacy\\pp_utils.py:558: FutureWarning: Setting an item of incompatible dtype is deprecated and will raise in a future error of pandas. Value '[2030 2030 2030 2030 2030 2030 2030 2030 2030 2030 2030 2030 2030]' has dtype incompatible with int64, please explicitly cast to a compatible dtype first.\n"
     ]
    },
    {
     "name": "stdout",
     "output_type": "stream",
     "text": [
      "No unit conversion factor found to convert GWa to Mt SO2/yr\n",
      "No unit conversion factor found to convert GWa to Mt SO2/yr\n"
     ]
    },
    {
     "name": "stderr",
     "output_type": "stream",
     "text": [
      "\\\\hdrive\\home$\\u045\\shepard\\GitHub\\message-ix-models\\message_ix_models\\report\\legacy\\pp_utils.py:558: FutureWarning: Setting an item of incompatible dtype is deprecated and will raise in a future error of pandas. Value '[2030 2030 2030 2030 2030 2030 2030 2030 2030 2030 2030 2030 2030]' has dtype incompatible with int64, please explicitly cast to a compatible dtype first.\n",
      "\\\\hdrive\\home$\\u045\\shepard\\GitHub\\message-ix-models\\message_ix_models\\report\\legacy\\pp_utils.py:558: FutureWarning: Setting an item of incompatible dtype is deprecated and will raise in a future error of pandas. Value '[2030 2030 2030 2030 2030 2030 2030 2030 2030 2030 2030 2030 2030]' has dtype incompatible with int64, please explicitly cast to a compatible dtype first.\n"
     ]
    },
    {
     "name": "stdout",
     "output_type": "stream",
     "text": [
      "No unit conversion factor found to convert kg SO2/kWyr to Mt SO2/yr\n"
     ]
    },
    {
     "name": "stderr",
     "output_type": "stream",
     "text": [
      "\\\\hdrive\\home$\\u045\\shepard\\GitHub\\message-ix-models\\message_ix_models\\report\\legacy\\pp_utils.py:558: FutureWarning: Setting an item of incompatible dtype is deprecated and will raise in a future error of pandas. Value '[2030 2030 2030 2030 2030 2030 2030 2030 2030 2030 2030 2030 2030]' has dtype incompatible with int64, please explicitly cast to a compatible dtype first.\n"
     ]
    },
    {
     "name": "stdout",
     "output_type": "stream",
     "text": [
      "processing Table: Emissions|NOx\n"
     ]
    },
    {
     "name": "stderr",
     "output_type": "stream",
     "text": [
      "\\\\hdrive\\home$\\u045\\shepard\\GitHub\\message-ix-models\\message_ix_models\\report\\legacy\\pp_utils.py:558: FutureWarning: Setting an item of incompatible dtype is deprecated and will raise in a future error of pandas. Value '[2030 2030 2030 2030 2030 2030 2030 2030 2030 2030 2030 2030 2030]' has dtype incompatible with int64, please explicitly cast to a compatible dtype first.\n"
     ]
    },
    {
     "name": "stdout",
     "output_type": "stream",
     "text": [
      "No unit conversion factor found to convert GWa to Mt NOx/yr\n",
      "No unit conversion factor found to convert GWa to Mt NOx/yr\n"
     ]
    },
    {
     "name": "stderr",
     "output_type": "stream",
     "text": [
      "\\\\hdrive\\home$\\u045\\shepard\\GitHub\\message-ix-models\\message_ix_models\\report\\legacy\\pp_utils.py:558: FutureWarning: Setting an item of incompatible dtype is deprecated and will raise in a future error of pandas. Value '[2030 2030 2030 2030 2030 2030 2030 2030 2030 2030 2030 2030 2030]' has dtype incompatible with int64, please explicitly cast to a compatible dtype first.\n"
     ]
    },
    {
     "name": "stdout",
     "output_type": "stream",
     "text": [
      "No unit conversion factor found to convert kg NOx/kWyr to Mt NOx/yr\n",
      "processing Table: Emissions|VOC\n"
     ]
    },
    {
     "name": "stderr",
     "output_type": "stream",
     "text": [
      "\\\\hdrive\\home$\\u045\\shepard\\GitHub\\message-ix-models\\message_ix_models\\report\\legacy\\pp_utils.py:558: FutureWarning: Setting an item of incompatible dtype is deprecated and will raise in a future error of pandas. Value '[2030 2030 2030 2030 2030 2030 2030 2030 2030 2030 2030 2030 2030]' has dtype incompatible with int64, please explicitly cast to a compatible dtype first.\n"
     ]
    },
    {
     "name": "stdout",
     "output_type": "stream",
     "text": [
      "No unit conversion factor found to convert GWa to Mt VOC/yr\n",
      "No unit conversion factor found to convert GWa to Mt VOC/yr\n"
     ]
    },
    {
     "name": "stderr",
     "output_type": "stream",
     "text": [
      "\\\\hdrive\\home$\\u045\\shepard\\GitHub\\message-ix-models\\message_ix_models\\report\\legacy\\pp_utils.py:558: FutureWarning: Setting an item of incompatible dtype is deprecated and will raise in a future error of pandas. Value '[2030 2030 2030 2030 2030 2030 2030 2030 2030 2030 2030 2030 2030]' has dtype incompatible with int64, please explicitly cast to a compatible dtype first.\n"
     ]
    },
    {
     "name": "stdout",
     "output_type": "stream",
     "text": [
      "No unit conversion factor found to convert kg VOC/kWyr to Mt VOC/yr\n",
      "processing Table: Emissions|HFC\n",
      "processing Table: Emissions\n",
      "processing Table: Emissions\n",
      "processing Table: Agricultural Demand\n",
      "processing Table: Agricultural Production\n",
      "processing Table: Fertilizer Use\n",
      "processing Table: Fertilizer\n",
      "processing Table: Food Waste\n",
      "processing Table: Food Demand\n",
      "processing Table: Forestry Demand\n",
      "processing Table: Forestry Production\n",
      "processing Table: Land Cover\n",
      "processing Table: Yield\n",
      "processing Table: Capacity\n"
     ]
    },
    {
     "name": "stderr",
     "output_type": "stream",
     "text": [
      "\\\\hdrive\\home$\\u045\\shepard\\GitHub\\message-ix-models\\message_ix_models\\report\\legacy\\pp_utils.py:558: FutureWarning: Setting an item of incompatible dtype is deprecated and will raise in a future error of pandas. Value '[2030 2030 2030 2030 2030 2030 2030 2030 2030 2030 2030 2030 2030]' has dtype incompatible with int64, please explicitly cast to a compatible dtype first.\n",
      "\\\\hdrive\\home$\\u045\\shepard\\GitHub\\message-ix-models\\message_ix_models\\report\\legacy\\pp_utils.py:558: FutureWarning: Setting an item of incompatible dtype is deprecated and will raise in a future error of pandas. Value '[2030 2030 2030 2030 2030 2030 2030 2030 2030 2030 2030 2030 2030]' has dtype incompatible with int64, please explicitly cast to a compatible dtype first.\n",
      "\\\\hdrive\\home$\\u045\\shepard\\GitHub\\message-ix-models\\message_ix_models\\report\\legacy\\pp_utils.py:558: FutureWarning: Setting an item of incompatible dtype is deprecated and will raise in a future error of pandas. Value '[2030 2030 2030 2030 2030 2030 2030 2030 2030 2030 2030 2030 2030]' has dtype incompatible with int64, please explicitly cast to a compatible dtype first.\n",
      "\\\\hdrive\\home$\\u045\\shepard\\GitHub\\message-ix-models\\message_ix_models\\report\\legacy\\pp_utils.py:558: FutureWarning: Setting an item of incompatible dtype is deprecated and will raise in a future error of pandas. Value '[2030 2030 2030 2030 2030 2030 2030 2030 2030 2030 2030 2030 2030]' has dtype incompatible with int64, please explicitly cast to a compatible dtype first.\n",
      "\\\\hdrive\\home$\\u045\\shepard\\GitHub\\message-ix-models\\message_ix_models\\report\\legacy\\pp_utils.py:558: FutureWarning: Setting an item of incompatible dtype is deprecated and will raise in a future error of pandas. Value '[2030 2030 2030 2030 2030 2030 2030 2030 2030 2030 2030 2030 2030]' has dtype incompatible with int64, please explicitly cast to a compatible dtype first.\n",
      "\\\\hdrive\\home$\\u045\\shepard\\GitHub\\message-ix-models\\message_ix_models\\report\\legacy\\pp_utils.py:558: FutureWarning: Setting an item of incompatible dtype is deprecated and will raise in a future error of pandas. Value '[2030 2030 2030 2030 2030 2030 2030 2030 2030 2030 2030 2030 2030]' has dtype incompatible with int64, please explicitly cast to a compatible dtype first.\n"
     ]
    },
    {
     "name": "stdout",
     "output_type": "stream",
     "text": [
      "processing Table: Capacity Additions\n"
     ]
    },
    {
     "name": "stderr",
     "output_type": "stream",
     "text": [
      "\\\\hdrive\\home$\\u045\\shepard\\GitHub\\message-ix-models\\message_ix_models\\report\\legacy\\pp_utils.py:558: FutureWarning: Setting an item of incompatible dtype is deprecated and will raise in a future error of pandas. Value '[2030 2030 2030 2030 2030 2030 2030 2030 2030 2030 2030 2030 2030]' has dtype incompatible with int64, please explicitly cast to a compatible dtype first.\n",
      "\\\\hdrive\\home$\\u045\\shepard\\GitHub\\message-ix-models\\message_ix_models\\report\\legacy\\pp_utils.py:558: FutureWarning: Setting an item of incompatible dtype is deprecated and will raise in a future error of pandas. Value '[2030 2030 2030 2030 2030 2030 2030 2030 2030 2030 2030 2030 2030]' has dtype incompatible with int64, please explicitly cast to a compatible dtype first.\n",
      "\\\\hdrive\\home$\\u045\\shepard\\GitHub\\message-ix-models\\message_ix_models\\report\\legacy\\pp_utils.py:558: FutureWarning: Setting an item of incompatible dtype is deprecated and will raise in a future error of pandas. Value '[2030 2030 2030 2030 2030 2030 2030 2030 2030 2030 2030 2030 2030]' has dtype incompatible with int64, please explicitly cast to a compatible dtype first.\n",
      "\\\\hdrive\\home$\\u045\\shepard\\GitHub\\message-ix-models\\message_ix_models\\report\\legacy\\pp_utils.py:558: FutureWarning: Setting an item of incompatible dtype is deprecated and will raise in a future error of pandas. Value '[2030 2030 2030 2030 2030 2030 2030 2030 2030 2030 2030 2030 2030]' has dtype incompatible with int64, please explicitly cast to a compatible dtype first.\n",
      "\\\\hdrive\\home$\\u045\\shepard\\GitHub\\message-ix-models\\message_ix_models\\report\\legacy\\pp_utils.py:558: FutureWarning: Setting an item of incompatible dtype is deprecated and will raise in a future error of pandas. Value '[2030 2030 2030 2030 2030 2030 2030 2030 2030 2030 2030 2030 2030]' has dtype incompatible with int64, please explicitly cast to a compatible dtype first.\n",
      "\\\\hdrive\\home$\\u045\\shepard\\GitHub\\message-ix-models\\message_ix_models\\report\\legacy\\pp_utils.py:558: FutureWarning: Setting an item of incompatible dtype is deprecated and will raise in a future error of pandas. Value '[2030 2030 2030 2030 2030 2030 2030 2030 2030 2030 2030 2030 2030]' has dtype incompatible with int64, please explicitly cast to a compatible dtype first.\n"
     ]
    },
    {
     "name": "stdout",
     "output_type": "stream",
     "text": [
      "processing Table: Cumulative Capacity\n"
     ]
    },
    {
     "name": "stderr",
     "output_type": "stream",
     "text": [
      "\\\\hdrive\\home$\\u045\\shepard\\GitHub\\message-ix-models\\message_ix_models\\report\\legacy\\pp_utils.py:558: FutureWarning: Setting an item of incompatible dtype is deprecated and will raise in a future error of pandas. Value '[2030 2030 2030 2030 2030 2030 2030 2030 2030 2030 2030 2030 2030]' has dtype incompatible with int64, please explicitly cast to a compatible dtype first.\n",
      "\\\\hdrive\\home$\\u045\\shepard\\GitHub\\message-ix-models\\message_ix_models\\report\\legacy\\pp_utils.py:558: FutureWarning: Setting an item of incompatible dtype is deprecated and will raise in a future error of pandas. Value '[2030 2030 2030 2030 2030 2030 2030 2030 2030 2030 2030 2030 2030]' has dtype incompatible with int64, please explicitly cast to a compatible dtype first.\n",
      "\\\\hdrive\\home$\\u045\\shepard\\GitHub\\message-ix-models\\message_ix_models\\report\\legacy\\pp_utils.py:558: FutureWarning: Setting an item of incompatible dtype is deprecated and will raise in a future error of pandas. Value '[2030 2030 2030 2030 2030 2030 2030 2030 2030 2030 2030 2030 2030]' has dtype incompatible with int64, please explicitly cast to a compatible dtype first.\n",
      "\\\\hdrive\\home$\\u045\\shepard\\GitHub\\message-ix-models\\message_ix_models\\report\\legacy\\pp_utils.py:558: FutureWarning: Setting an item of incompatible dtype is deprecated and will raise in a future error of pandas. Value '[2030 2030 2030 2030 2030 2030 2030 2030 2030 2030 2030 2030 2030]' has dtype incompatible with int64, please explicitly cast to a compatible dtype first.\n",
      "\\\\hdrive\\home$\\u045\\shepard\\GitHub\\message-ix-models\\message_ix_models\\report\\legacy\\pp_utils.py:558: FutureWarning: Setting an item of incompatible dtype is deprecated and will raise in a future error of pandas. Value '[2030 2030 2030 2030 2030 2030 2030 2030 2030 2030 2030 2030 2030]' has dtype incompatible with int64, please explicitly cast to a compatible dtype first.\n",
      "\\\\hdrive\\home$\\u045\\shepard\\GitHub\\message-ix-models\\message_ix_models\\report\\legacy\\pp_utils.py:558: FutureWarning: Setting an item of incompatible dtype is deprecated and will raise in a future error of pandas. Value '[2030 2030 2030 2030 2030 2030 2030 2030 2030 2030 2030 2030 2030]' has dtype incompatible with int64, please explicitly cast to a compatible dtype first.\n"
     ]
    },
    {
     "name": "stdout",
     "output_type": "stream",
     "text": [
      "processing Table: Capital Cost\n",
      "processing Table: OM Cost|Fixed\n",
      "processing Table: OM Cost|Variable\n",
      "processing Table: Lifetime\n",
      "processing Table: Efficiency\n",
      "processing Table: Population\n",
      "processing Table: Price\n",
      "processing Table: Useful Energy\n"
     ]
    },
    {
     "name": "stderr",
     "output_type": "stream",
     "text": [
      "\\\\hdrive\\home$\\u045\\shepard\\GitHub\\message-ix-models\\message_ix_models\\report\\legacy\\pp_utils.py:558: FutureWarning: Setting an item of incompatible dtype is deprecated and will raise in a future error of pandas. Value '[2030 2030 2030 2030 2030 2030 2030 2030 2030 2030 2030 2030 2030]' has dtype incompatible with int64, please explicitly cast to a compatible dtype first.\n",
      "\\\\hdrive\\home$\\u045\\shepard\\GitHub\\message-ix-models\\message_ix_models\\report\\legacy\\pp_utils.py:558: FutureWarning: Setting an item of incompatible dtype is deprecated and will raise in a future error of pandas. Value '[2030 2030 2030 2030 2030 2030 2030 2030 2030 2030 2030 2030 2030]' has dtype incompatible with int64, please explicitly cast to a compatible dtype first.\n",
      "\\\\hdrive\\home$\\u045\\shepard\\GitHub\\message-ix-models\\message_ix_models\\report\\legacy\\pp_utils.py:558: FutureWarning: Setting an item of incompatible dtype is deprecated and will raise in a future error of pandas. Value '[2030 2030 2030 2030 2030 2030 2030 2030 2030 2030 2030 2030 2030]' has dtype incompatible with int64, please explicitly cast to a compatible dtype first.\n",
      "\\\\hdrive\\home$\\u045\\shepard\\GitHub\\message-ix-models\\message_ix_models\\report\\legacy\\pp_utils.py:558: FutureWarning: Setting an item of incompatible dtype is deprecated and will raise in a future error of pandas. Value '[2030 2030 2030 2030 2030 2030 2030 2030 2030 2030 2030 2030 2030]' has dtype incompatible with int64, please explicitly cast to a compatible dtype first.\n",
      "\\\\hdrive\\home$\\u045\\shepard\\GitHub\\message-ix-models\\message_ix_models\\report\\legacy\\pp_utils.py:558: FutureWarning: Setting an item of incompatible dtype is deprecated and will raise in a future error of pandas. Value '[2030 2030 2030 2030 2030 2030 2030 2030 2030 2030 2030 2030 2030]' has dtype incompatible with int64, please explicitly cast to a compatible dtype first.\n",
      "\\\\hdrive\\home$\\u045\\shepard\\GitHub\\message-ix-models\\message_ix_models\\report\\legacy\\pp_utils.py:558: FutureWarning: Setting an item of incompatible dtype is deprecated and will raise in a future error of pandas. Value '[2030 2030 2030 2030 2030 2030 2030 2030 2030 2030 2030 2030 2030]' has dtype incompatible with int64, please explicitly cast to a compatible dtype first.\n"
     ]
    },
    {
     "name": "stdout",
     "output_type": "stream",
     "text": [
      "processing Table: Useful Energy\n",
      "processing Table: Trade\n"
     ]
    },
    {
     "name": "stderr",
     "output_type": "stream",
     "text": [
      "\\\\hdrive\\home$\\u045\\shepard\\GitHub\\message-ix-models\\message_ix_models\\report\\legacy\\pp_utils.py:558: FutureWarning: Setting an item of incompatible dtype is deprecated and will raise in a future error of pandas. Value '[2030 2030 2030 2030 2030 2030 2030 2030 2030 2030 2030 2030 2030]' has dtype incompatible with int64, please explicitly cast to a compatible dtype first.\n",
      "\\\\hdrive\\home$\\u045\\shepard\\GitHub\\message-ix-models\\message_ix_models\\report\\legacy\\pp_utils.py:558: FutureWarning: Setting an item of incompatible dtype is deprecated and will raise in a future error of pandas. Value '[2030 2030 2030 2030 2030 2030 2030 2030 2030 2030 2030 2030 2030]' has dtype incompatible with int64, please explicitly cast to a compatible dtype first.\n",
      "\\\\hdrive\\home$\\u045\\shepard\\GitHub\\message-ix-models\\message_ix_models\\report\\legacy\\pp_utils.py:558: FutureWarning: Setting an item of incompatible dtype is deprecated and will raise in a future error of pandas. Value '[2030 2030 2030 2030 2030 2030 2030 2030 2030 2030 2030 2030 2030]' has dtype incompatible with int64, please explicitly cast to a compatible dtype first.\n",
      "\\\\hdrive\\home$\\u045\\shepard\\GitHub\\message-ix-models\\message_ix_models\\report\\legacy\\pp_utils.py:558: FutureWarning: Setting an item of incompatible dtype is deprecated and will raise in a future error of pandas. Value '[2030 2030 2030 2030 2030 2030 2030 2030 2030 2030 2030 2030 2030]' has dtype incompatible with int64, please explicitly cast to a compatible dtype first.\n",
      "\\\\hdrive\\home$\\u045\\shepard\\GitHub\\message-ix-models\\message_ix_models\\report\\legacy\\pp_utils.py:558: FutureWarning: Setting an item of incompatible dtype is deprecated and will raise in a future error of pandas. Value '[2030 2030 2030 2030 2030 2030 2030 2030 2030 2030 2030 2030 2030]' has dtype incompatible with int64, please explicitly cast to a compatible dtype first.\n",
      "\\\\hdrive\\home$\\u045\\shepard\\GitHub\\message-ix-models\\message_ix_models\\report\\legacy\\pp_utils.py:558: FutureWarning: Setting an item of incompatible dtype is deprecated and will raise in a future error of pandas. Value '[2030 2030 2030 2030 2030 2030 2030 2030 2030 2030 2030 2030 2030]' has dtype incompatible with int64, please explicitly cast to a compatible dtype first.\n",
      "\\\\hdrive\\home$\\u045\\shepard\\GitHub\\message-ix-models\\message_ix_models\\report\\legacy\\pp_utils.py:558: FutureWarning: Setting an item of incompatible dtype is deprecated and will raise in a future error of pandas. Value '[2030 2030 2030 2030 2030 2030 2030 2030 2030 2030 2030 2030 2030]' has dtype incompatible with int64, please explicitly cast to a compatible dtype first.\n",
      "\\\\hdrive\\home$\\u045\\shepard\\GitHub\\message-ix-models\\message_ix_models\\report\\legacy\\pp_utils.py:558: FutureWarning: Setting an item of incompatible dtype is deprecated and will raise in a future error of pandas. Value '[2030 2030 2030 2030 2030 2030 2030 2030 2030 2030 2030 2030 2030]' has dtype incompatible with int64, please explicitly cast to a compatible dtype first.\n",
      "\\\\hdrive\\home$\\u045\\shepard\\GitHub\\message-ix-models\\message_ix_models\\report\\legacy\\pp_utils.py:558: FutureWarning: Setting an item of incompatible dtype is deprecated and will raise in a future error of pandas. Value '[2030 2030 2030 2030 2030 2030 2030 2030 2030 2030 2030 2030 2030]' has dtype incompatible with int64, please explicitly cast to a compatible dtype first.\n",
      "\\\\hdrive\\home$\\u045\\shepard\\GitHub\\message-ix-models\\message_ix_models\\report\\legacy\\pp_utils.py:558: FutureWarning: Setting an item of incompatible dtype is deprecated and will raise in a future error of pandas. Value '[2030 2030 2030 2030 2030 2030 2030 2030 2030 2030 2030 2030 2030]' has dtype incompatible with int64, please explicitly cast to a compatible dtype first.\n",
      "\\\\hdrive\\home$\\u045\\shepard\\GitHub\\message-ix-models\\message_ix_models\\report\\legacy\\pp_utils.py:558: FutureWarning: Setting an item of incompatible dtype is deprecated and will raise in a future error of pandas. Value '[2030 2030 2030 2030 2030 2030 2030 2030 2030 2030 2030 2030 2030]' has dtype incompatible with int64, please explicitly cast to a compatible dtype first.\n",
      "\\\\hdrive\\home$\\u045\\shepard\\GitHub\\message-ix-models\\message_ix_models\\report\\legacy\\pp_utils.py:558: FutureWarning: Setting an item of incompatible dtype is deprecated and will raise in a future error of pandas. Value '[2030 2030 2030 2030 2030 2030 2030 2030 2030 2030 2030 2030 2030]' has dtype incompatible with int64, please explicitly cast to a compatible dtype first.\n",
      "\\\\hdrive\\home$\\u045\\shepard\\GitHub\\message-ix-models\\message_ix_models\\report\\legacy\\pp_utils.py:558: FutureWarning: Setting an item of incompatible dtype is deprecated and will raise in a future error of pandas. Value '[2030 2030 2030 2030 2030 2030 2030 2030 2030 2030 2030 2030 2030]' has dtype incompatible with int64, please explicitly cast to a compatible dtype first.\n",
      "\\\\hdrive\\home$\\u045\\shepard\\GitHub\\message-ix-models\\message_ix_models\\report\\legacy\\pp_utils.py:558: FutureWarning: Setting an item of incompatible dtype is deprecated and will raise in a future error of pandas. Value '[2030 2030 2030 2030 2030 2030 2030 2030 2030 2030 2030 2030 2030]' has dtype incompatible with int64, please explicitly cast to a compatible dtype first.\n",
      "\\\\hdrive\\home$\\u045\\shepard\\GitHub\\message-ix-models\\message_ix_models\\report\\legacy\\pp_utils.py:558: FutureWarning: Setting an item of incompatible dtype is deprecated and will raise in a future error of pandas. Value '[2030 2030 2030 2030 2030 2030 2030 2030 2030 2030 2030 2030 2030]' has dtype incompatible with int64, please explicitly cast to a compatible dtype first.\n",
      "\\\\hdrive\\home$\\u045\\shepard\\GitHub\\message-ix-models\\message_ix_models\\report\\legacy\\pp_utils.py:558: FutureWarning: Setting an item of incompatible dtype is deprecated and will raise in a future error of pandas. Value '[2030 2030 2030 2030 2030 2030 2030 2030 2030 2030 2030 2030 2030]' has dtype incompatible with int64, please explicitly cast to a compatible dtype first.\n",
      "\\\\hdrive\\home$\\u045\\shepard\\GitHub\\message-ix-models\\message_ix_models\\report\\legacy\\pp_utils.py:558: FutureWarning: Setting an item of incompatible dtype is deprecated and will raise in a future error of pandas. Value '[2030 2030 2030 2030 2030 2030 2030 2030 2030 2030 2030 2030 2030]' has dtype incompatible with int64, please explicitly cast to a compatible dtype first.\n",
      "\\\\hdrive\\home$\\u045\\shepard\\GitHub\\message-ix-models\\message_ix_models\\report\\legacy\\pp_utils.py:558: FutureWarning: Setting an item of incompatible dtype is deprecated and will raise in a future error of pandas. Value '[2030 2030 2030 2030 2030 2030 2030 2030 2030 2030 2030 2030 2030]' has dtype incompatible with int64, please explicitly cast to a compatible dtype first.\n",
      "\\\\hdrive\\home$\\u045\\shepard\\GitHub\\message-ix-models\\message_ix_models\\report\\legacy\\pp_utils.py:558: FutureWarning: Setting an item of incompatible dtype is deprecated and will raise in a future error of pandas. Value '[2030 2030 2030 2030 2030 2030 2030 2030 2030 2030 2030 2030 2030]' has dtype incompatible with int64, please explicitly cast to a compatible dtype first.\n",
      "\\\\hdrive\\home$\\u045\\shepard\\GitHub\\message-ix-models\\message_ix_models\\report\\legacy\\pp_utils.py:558: FutureWarning: Setting an item of incompatible dtype is deprecated and will raise in a future error of pandas. Value '[2030 2030 2030 2030 2030 2030 2030 2030 2030 2030 2030 2030 2030]' has dtype incompatible with int64, please explicitly cast to a compatible dtype first.\n",
      "\\\\hdrive\\home$\\u045\\shepard\\GitHub\\message-ix-models\\message_ix_models\\report\\legacy\\pp_utils.py:558: FutureWarning: Setting an item of incompatible dtype is deprecated and will raise in a future error of pandas. Value '[2030 2030 2030 2030 2030 2030 2030 2030 2030 2030 2030 2030 2030]' has dtype incompatible with int64, please explicitly cast to a compatible dtype first.\n"
     ]
    },
    {
     "name": "stdout",
     "output_type": "stream",
     "text": [
      "processing Table: Investment|Energy Supply\n"
     ]
    },
    {
     "name": "stderr",
     "output_type": "stream",
     "text": [
      "\\\\hdrive\\home$\\u045\\shepard\\GitHub\\message-ix-models\\message_ix_models\\report\\legacy\\pp_utils.py:558: FutureWarning: Setting an item of incompatible dtype is deprecated and will raise in a future error of pandas. Value '[2030 2030 2030 2030 2030 2030 2030 2030 2030 2030 2030 2030 2030]' has dtype incompatible with int64, please explicitly cast to a compatible dtype first.\n",
      "\\\\hdrive\\home$\\u045\\shepard\\GitHub\\message-ix-models\\message_ix_models\\report\\legacy\\pp_utils.py:558: FutureWarning: Setting an item of incompatible dtype is deprecated and will raise in a future error of pandas. Value '[2030 2030 2030 2030 2030 2030 2030 2030 2030 2030 2030 2030 2030]' has dtype incompatible with int64, please explicitly cast to a compatible dtype first.\n",
      "\\\\hdrive\\home$\\u045\\shepard\\GitHub\\message-ix-models\\message_ix_models\\report\\legacy\\pp_utils.py:558: FutureWarning: Setting an item of incompatible dtype is deprecated and will raise in a future error of pandas. Value '[2030 2030 2030 2030 2030 2030 2030 2030 2030 2030 2030 2030 2030]' has dtype incompatible with int64, please explicitly cast to a compatible dtype first.\n",
      "\\\\hdrive\\home$\\u045\\shepard\\GitHub\\message-ix-models\\message_ix_models\\report\\legacy\\pp_utils.py:558: FutureWarning: Setting an item of incompatible dtype is deprecated and will raise in a future error of pandas. Value '[2030 2030 2030 2030 2030 2030 2030 2030 2030 2030 2030 2030 2030]' has dtype incompatible with int64, please explicitly cast to a compatible dtype first.\n",
      "\\\\hdrive\\home$\\u045\\shepard\\GitHub\\message-ix-models\\message_ix_models\\report\\legacy\\pp_utils.py:558: FutureWarning: Setting an item of incompatible dtype is deprecated and will raise in a future error of pandas. Value '[2030 2030 2030 2030 2030 2030 2030 2030 2030 2030 2030 2030 2030]' has dtype incompatible with int64, please explicitly cast to a compatible dtype first.\n",
      "\\\\hdrive\\home$\\u045\\shepard\\GitHub\\message-ix-models\\message_ix_models\\report\\legacy\\pp_utils.py:558: FutureWarning: Setting an item of incompatible dtype is deprecated and will raise in a future error of pandas. Value '[2030 2030 2030 2030 2030 2030 2030 2030 2030 2030 2030 2030 2030]' has dtype incompatible with int64, please explicitly cast to a compatible dtype first.\n",
      "\\\\hdrive\\home$\\u045\\shepard\\GitHub\\message-ix-models\\message_ix_models\\report\\legacy\\pp_utils.py:558: FutureWarning: Setting an item of incompatible dtype is deprecated and will raise in a future error of pandas. Value '[2030 2030 2030 2030 2030 2030 2030 2030 2030 2030 2030 2030 2030]' has dtype incompatible with int64, please explicitly cast to a compatible dtype first.\n",
      "\\\\hdrive\\home$\\u045\\shepard\\GitHub\\message-ix-models\\message_ix_models\\report\\legacy\\pp_utils.py:558: FutureWarning: Setting an item of incompatible dtype is deprecated and will raise in a future error of pandas. Value '[2030 2030 2030 2030 2030 2030 2030 2030 2030 2030 2030 2030 2030]' has dtype incompatible with int64, please explicitly cast to a compatible dtype first.\n",
      "\\\\hdrive\\home$\\u045\\shepard\\GitHub\\message-ix-models\\message_ix_models\\report\\legacy\\pp_utils.py:558: FutureWarning: Setting an item of incompatible dtype is deprecated and will raise in a future error of pandas. Value '[2030 2030 2030 2030 2030 2030 2030 2030 2030 2030 2030 2030 2030]' has dtype incompatible with int64, please explicitly cast to a compatible dtype first.\n",
      "\\\\hdrive\\home$\\u045\\shepard\\GitHub\\message-ix-models\\message_ix_models\\report\\legacy\\pp_utils.py:558: FutureWarning: Setting an item of incompatible dtype is deprecated and will raise in a future error of pandas. Value '[2030 2030 2030 2030 2030 2030 2030 2030 2030 2030 2030 2030 2030]' has dtype incompatible with int64, please explicitly cast to a compatible dtype first.\n",
      "\\\\hdrive\\home$\\u045\\shepard\\GitHub\\message-ix-models\\message_ix_models\\report\\legacy\\pp_utils.py:558: FutureWarning: Setting an item of incompatible dtype is deprecated and will raise in a future error of pandas. Value '[2030 2030 2030 2030 2030 2030 2030 2030 2030 2030 2030 2030 2030]' has dtype incompatible with int64, please explicitly cast to a compatible dtype first.\n",
      "\\\\hdrive\\home$\\u045\\shepard\\GitHub\\message-ix-models\\message_ix_models\\report\\legacy\\pp_utils.py:558: FutureWarning: Setting an item of incompatible dtype is deprecated and will raise in a future error of pandas. Value '[2030 2030 2030 2030 2030 2030 2030 2030 2030 2030 2030 2030 2030]' has dtype incompatible with int64, please explicitly cast to a compatible dtype first.\n",
      "\\\\hdrive\\home$\\u045\\shepard\\GitHub\\message-ix-models\\message_ix_models\\report\\legacy\\pp_utils.py:558: FutureWarning: Setting an item of incompatible dtype is deprecated and will raise in a future error of pandas. Value '[2030 2030 2030 2030 2030 2030 2030 2030 2030 2030 2030 2030 2030 2030\n",
      " 2030 2030 2030 2030 2030 2030 2030 2030 2030 2030 2030 2030]' has dtype incompatible with int64, please explicitly cast to a compatible dtype first.\n",
      "\\\\hdrive\\home$\\u045\\shepard\\GitHub\\message-ix-models\\message_ix_models\\report\\legacy\\pp_utils.py:558: FutureWarning: Setting an item of incompatible dtype is deprecated and will raise in a future error of pandas. Value '[2030 2030 2030 2030 2030 2030 2030 2030 2030 2030 2030 2030 2030 2030\n",
      " 2030 2030 2030 2030 2030 2030 2030 2030 2030 2030 2030 2030]' has dtype incompatible with int64, please explicitly cast to a compatible dtype first.\n",
      "\\\\hdrive\\home$\\u045\\shepard\\GitHub\\message-ix-models\\message_ix_models\\report\\legacy\\pp_utils.py:558: FutureWarning: Setting an item of incompatible dtype is deprecated and will raise in a future error of pandas. Value '[2030 2030 2030 2030 2030 2030 2030 2030 2030 2030 2030 2030 2030 2030\n",
      " 2030 2030 2030 2030 2030 2030 2030 2030 2030 2030 2030 2030]' has dtype incompatible with int64, please explicitly cast to a compatible dtype first.\n",
      "\\\\hdrive\\home$\\u045\\shepard\\GitHub\\message-ix-models\\message_ix_models\\report\\legacy\\pp_utils.py:558: FutureWarning: Setting an item of incompatible dtype is deprecated and will raise in a future error of pandas. Value '[2030 2030 2030 2030 2030 2030 2030 2030 2030 2030 2030 2030 2030 2030\n",
      " 2030 2030 2030 2030 2030 2030 2030 2030 2030 2030 2030 2030]' has dtype incompatible with int64, please explicitly cast to a compatible dtype first.\n",
      "\\\\hdrive\\home$\\u045\\shepard\\GitHub\\message-ix-models\\message_ix_models\\report\\legacy\\pp_utils.py:558: FutureWarning: Setting an item of incompatible dtype is deprecated and will raise in a future error of pandas. Value '[2030 2030 2030 2030 2030 2030 2030 2030 2030 2030 2030 2030 2030 2030\n",
      " 2030 2030 2030 2030 2030 2030 2030 2030 2030 2030 2030 2030 2030 2030\n",
      " 2030 2030 2030 2030 2030 2030 2030 2030 2030 2030 2030 2030 2030 2030\n",
      " 2030 2030 2030 2030 2030 2030 2030 2030 2030 2030 2030 2030 2030 2030\n",
      " 2030 2030 2030 2030 2030 2030 2030 2030 2030 2030 2030 2030 2030 2030\n",
      " 2030 2030 2030 2030 2030 2030 2030 2030 2030 2030 2030 2030 2030 2030\n",
      " 2030 2030 2030 2030 2030 2030 2030 2030 2030 2030 2030 2030 2030 2030\n",
      " 2030 2030 2030 2030 2030 2030 2030 2030 2030 2030 2030 2030 2030 2030\n",
      " 2030 2030 2030 2030 2030 2030 2030 2030 2030 2030 2030 2030 2030 2030\n",
      " 2030 2030 2030 2030 2030 2030 2030 2030 2030 2030 2030 2030 2030 2030\n",
      " 2030 2030 2030 2030 2030 2030 2030 2030 2030 2030 2030 2030 2030 2030\n",
      " 2030 2030 2030 2030 2030 2030 2030 2030 2030 2030 2030 2030 2030 2030\n",
      " 2030 2030 2030 2030 2030 2030 2030 2030 2030 2030 2030 2030 2030 2030\n",
      " 2030 2030 2030 2030 2030 2030 2030 2030 2030 2030 2030 2030 2030 2030\n",
      " 2030 2030 2030 2030 2030 2030 2030 2030 2030 2030 2030 2030 2030 2030\n",
      " 2030 2030 2030 2030 2030 2030 2030 2030 2030 2030 2030 2030 2030 2030\n",
      " 2030 2030 2030 2030 2030 2030 2030 2030 2030 2030 2030 2030 2030 2030\n",
      " 2030 2030 2030 2030 2030 2030 2030 2030 2030 2030 2030 2030 2030 2030\n",
      " 2030 2030 2030 2030 2030 2030 2030 2030]' has dtype incompatible with int64, please explicitly cast to a compatible dtype first.\n",
      "\\\\hdrive\\home$\\u045\\shepard\\GitHub\\message-ix-models\\message_ix_models\\report\\legacy\\pp_utils.py:558: FutureWarning: Setting an item of incompatible dtype is deprecated and will raise in a future error of pandas. Value '[2030 2030 2030 2030 2030 2030 2030 2030 2030 2030 2030 2030 2030 2030\n",
      " 2030 2030 2030 2030 2030 2030 2030 2030 2030 2030 2030 2030 2030 2030\n",
      " 2030 2030 2030 2030 2030 2030 2030 2030 2030 2030 2030 2030 2030 2030\n",
      " 2030 2030 2030 2030 2030 2030 2030 2030 2030 2030 2030 2030 2030 2030\n",
      " 2030 2030 2030 2030 2030 2030 2030 2030 2030]' has dtype incompatible with int64, please explicitly cast to a compatible dtype first.\n",
      "\\\\hdrive\\home$\\u045\\shepard\\GitHub\\message-ix-models\\message_ix_models\\report\\legacy\\pp_utils.py:558: FutureWarning: Setting an item of incompatible dtype is deprecated and will raise in a future error of pandas. Value '[2030 2030 2030 2030 2030 2030 2030 2030 2030 2030 2030 2030 2030]' has dtype incompatible with int64, please explicitly cast to a compatible dtype first.\n",
      "\\\\hdrive\\home$\\u045\\shepard\\GitHub\\message-ix-models\\message_ix_models\\report\\legacy\\pp_utils.py:558: FutureWarning: Setting an item of incompatible dtype is deprecated and will raise in a future error of pandas. Value '[2030 2030 2030 2030 2030 2030 2030 2030 2030 2030 2030 2030 2030]' has dtype incompatible with int64, please explicitly cast to a compatible dtype first.\n",
      "\\\\hdrive\\home$\\u045\\shepard\\GitHub\\message-ix-models\\message_ix_models\\report\\legacy\\pp_utils.py:558: FutureWarning: Setting an item of incompatible dtype is deprecated and will raise in a future error of pandas. Value '[2030 2030 2030 2030 2030 2030 2030 2030 2030 2030 2030 2030 2030]' has dtype incompatible with int64, please explicitly cast to a compatible dtype first.\n"
     ]
    },
    {
     "name": "stdout",
     "output_type": "stream",
     "text": [
      "processing Table: Water Consumption\n"
     ]
    },
    {
     "name": "stderr",
     "output_type": "stream",
     "text": [
      "\\\\hdrive\\home$\\u045\\shepard\\GitHub\\message-ix-models\\message_ix_models\\report\\legacy\\pp_utils.py:558: FutureWarning: Setting an item of incompatible dtype is deprecated and will raise in a future error of pandas. Value '[2030 2030 2030 2030 2030 2030 2030 2030 2030 2030 2030 2030 2030]' has dtype incompatible with int64, please explicitly cast to a compatible dtype first.\n",
      "\\\\hdrive\\home$\\u045\\shepard\\GitHub\\message-ix-models\\message_ix_models\\report\\legacy\\pp_utils.py:558: FutureWarning: Setting an item of incompatible dtype is deprecated and will raise in a future error of pandas. Value '[2030 2030 2030 2030 2030 2030 2030 2030 2030 2030 2030 2030 2030]' has dtype incompatible with int64, please explicitly cast to a compatible dtype first.\n",
      "\\\\hdrive\\home$\\u045\\shepard\\GitHub\\message-ix-models\\message_ix_models\\report\\legacy\\pp_utils.py:558: FutureWarning: Setting an item of incompatible dtype is deprecated and will raise in a future error of pandas. Value '[2030 2030 2030 2030 2030 2030 2030 2030 2030 2030 2030 2030 2030]' has dtype incompatible with int64, please explicitly cast to a compatible dtype first.\n",
      "\\\\hdrive\\home$\\u045\\shepard\\GitHub\\message-ix-models\\message_ix_models\\report\\legacy\\pp_utils.py:558: FutureWarning: Setting an item of incompatible dtype is deprecated and will raise in a future error of pandas. Value '[2030 2030 2030 2030 2030 2030 2030 2030 2030 2030 2030 2030 2030]' has dtype incompatible with int64, please explicitly cast to a compatible dtype first.\n",
      "\\\\hdrive\\home$\\u045\\shepard\\GitHub\\message-ix-models\\message_ix_models\\report\\legacy\\pp_utils.py:558: FutureWarning: Setting an item of incompatible dtype is deprecated and will raise in a future error of pandas. Value '[2030 2030 2030 2030 2030 2030 2030 2030 2030 2030 2030 2030 2030]' has dtype incompatible with int64, please explicitly cast to a compatible dtype first.\n",
      "\\\\hdrive\\home$\\u045\\shepard\\GitHub\\message-ix-models\\message_ix_models\\report\\legacy\\pp_utils.py:558: FutureWarning: Setting an item of incompatible dtype is deprecated and will raise in a future error of pandas. Value '[2030 2030 2030 2030 2030 2030 2030 2030 2030 2030 2030 2030 2030]' has dtype incompatible with int64, please explicitly cast to a compatible dtype first.\n",
      "\\\\hdrive\\home$\\u045\\shepard\\GitHub\\message-ix-models\\message_ix_models\\report\\legacy\\pp_utils.py:558: FutureWarning: Setting an item of incompatible dtype is deprecated and will raise in a future error of pandas. Value '[2030 2030 2030 2030 2030 2030 2030 2030 2030 2030 2030 2030 2030]' has dtype incompatible with int64, please explicitly cast to a compatible dtype first.\n",
      "\\\\hdrive\\home$\\u045\\shepard\\GitHub\\message-ix-models\\message_ix_models\\report\\legacy\\pp_utils.py:558: FutureWarning: Setting an item of incompatible dtype is deprecated and will raise in a future error of pandas. Value '[2030 2030 2030 2030 2030 2030 2030 2030 2030 2030 2030 2030 2030]' has dtype incompatible with int64, please explicitly cast to a compatible dtype first.\n",
      "\\\\hdrive\\home$\\u045\\shepard\\GitHub\\message-ix-models\\message_ix_models\\report\\legacy\\pp_utils.py:558: FutureWarning: Setting an item of incompatible dtype is deprecated and will raise in a future error of pandas. Value '[2030 2030 2030 2030 2030 2030 2030 2030 2030 2030 2030 2030 2030]' has dtype incompatible with int64, please explicitly cast to a compatible dtype first.\n",
      "\\\\hdrive\\home$\\u045\\shepard\\GitHub\\message-ix-models\\message_ix_models\\report\\legacy\\pp_utils.py:558: FutureWarning: Setting an item of incompatible dtype is deprecated and will raise in a future error of pandas. Value '[2030 2030 2030 2030 2030 2030 2030 2030 2030 2030 2030 2030 2030]' has dtype incompatible with int64, please explicitly cast to a compatible dtype first.\n",
      "\\\\hdrive\\home$\\u045\\shepard\\GitHub\\message-ix-models\\message_ix_models\\report\\legacy\\pp_utils.py:558: FutureWarning: Setting an item of incompatible dtype is deprecated and will raise in a future error of pandas. Value '[2030 2030 2030 2030 2030 2030 2030 2030 2030 2030 2030 2030 2030]' has dtype incompatible with int64, please explicitly cast to a compatible dtype first.\n",
      "\\\\hdrive\\home$\\u045\\shepard\\GitHub\\message-ix-models\\message_ix_models\\report\\legacy\\pp_utils.py:558: FutureWarning: Setting an item of incompatible dtype is deprecated and will raise in a future error of pandas. Value '[2030 2030 2030 2030 2030 2030 2030 2030 2030 2030 2030 2030 2030]' has dtype incompatible with int64, please explicitly cast to a compatible dtype first.\n",
      "\\\\hdrive\\home$\\u045\\shepard\\GitHub\\message-ix-models\\message_ix_models\\report\\legacy\\pp_utils.py:558: FutureWarning: Setting an item of incompatible dtype is deprecated and will raise in a future error of pandas. Value '[2030 2030 2030 2030 2030 2030 2030 2030 2030 2030 2030 2030 2030]' has dtype incompatible with int64, please explicitly cast to a compatible dtype first.\n",
      "\\\\hdrive\\home$\\u045\\shepard\\GitHub\\message-ix-models\\message_ix_models\\report\\legacy\\pp_utils.py:558: FutureWarning: Setting an item of incompatible dtype is deprecated and will raise in a future error of pandas. Value '[2030 2030 2030 2030 2030 2030 2030 2030 2030 2030 2030 2030 2030]' has dtype incompatible with int64, please explicitly cast to a compatible dtype first.\n",
      "\\\\hdrive\\home$\\u045\\shepard\\GitHub\\message-ix-models\\message_ix_models\\report\\legacy\\pp_utils.py:558: FutureWarning: Setting an item of incompatible dtype is deprecated and will raise in a future error of pandas. Value '[2030 2030 2030 2030 2030 2030 2030 2030 2030 2030 2030 2030 2030]' has dtype incompatible with int64, please explicitly cast to a compatible dtype first.\n",
      "\\\\hdrive\\home$\\u045\\shepard\\GitHub\\message-ix-models\\message_ix_models\\report\\legacy\\pp_utils.py:558: FutureWarning: Setting an item of incompatible dtype is deprecated and will raise in a future error of pandas. Value '[2030 2030 2030 2030 2030 2030 2030 2030 2030 2030 2030 2030 2030]' has dtype incompatible with int64, please explicitly cast to a compatible dtype first.\n",
      "\\\\hdrive\\home$\\u045\\shepard\\GitHub\\message-ix-models\\message_ix_models\\report\\legacy\\pp_utils.py:558: FutureWarning: Setting an item of incompatible dtype is deprecated and will raise in a future error of pandas. Value '[2030 2030 2030 2030 2030 2030 2030 2030 2030 2030 2030 2030 2030]' has dtype incompatible with int64, please explicitly cast to a compatible dtype first.\n",
      "\\\\hdrive\\home$\\u045\\shepard\\GitHub\\message-ix-models\\message_ix_models\\report\\legacy\\pp_utils.py:558: FutureWarning: Setting an item of incompatible dtype is deprecated and will raise in a future error of pandas. Value '[2030 2030 2030 2030 2030 2030 2030 2030 2030 2030 2030 2030 2030]' has dtype incompatible with int64, please explicitly cast to a compatible dtype first.\n",
      "\\\\hdrive\\home$\\u045\\shepard\\GitHub\\message-ix-models\\message_ix_models\\report\\legacy\\pp_utils.py:558: FutureWarning: Setting an item of incompatible dtype is deprecated and will raise in a future error of pandas. Value '[2030 2030 2030 2030 2030 2030 2030 2030 2030 2030 2030 2030 2030]' has dtype incompatible with int64, please explicitly cast to a compatible dtype first.\n",
      "\\\\hdrive\\home$\\u045\\shepard\\GitHub\\message-ix-models\\message_ix_models\\report\\legacy\\pp_utils.py:558: FutureWarning: Setting an item of incompatible dtype is deprecated and will raise in a future error of pandas. Value '[2030 2030 2030 2030 2030 2030 2030 2030 2030 2030 2030 2030 2030]' has dtype incompatible with int64, please explicitly cast to a compatible dtype first.\n",
      "\\\\hdrive\\home$\\u045\\shepard\\GitHub\\message-ix-models\\message_ix_models\\report\\legacy\\pp_utils.py:558: FutureWarning: Setting an item of incompatible dtype is deprecated and will raise in a future error of pandas. Value '[2030 2030 2030 2030 2030 2030 2030 2030 2030 2030 2030 2030 2030]' has dtype incompatible with int64, please explicitly cast to a compatible dtype first.\n",
      "\\\\hdrive\\home$\\u045\\shepard\\GitHub\\message-ix-models\\message_ix_models\\report\\legacy\\pp_utils.py:558: FutureWarning: Setting an item of incompatible dtype is deprecated and will raise in a future error of pandas. Value '[2030 2030 2030 2030 2030 2030 2030 2030 2030 2030 2030 2030 2030 2030\n",
      " 2030 2030 2030 2030 2030 2030 2030 2030 2030 2030 2030 2030]' has dtype incompatible with int64, please explicitly cast to a compatible dtype first.\n",
      "\\\\hdrive\\home$\\u045\\shepard\\GitHub\\message-ix-models\\message_ix_models\\report\\legacy\\pp_utils.py:558: FutureWarning: Setting an item of incompatible dtype is deprecated and will raise in a future error of pandas. Value '[2030 2030 2030 2030 2030 2030 2030 2030 2030 2030 2030 2030 2030]' has dtype incompatible with int64, please explicitly cast to a compatible dtype first.\n",
      "\\\\hdrive\\home$\\u045\\shepard\\GitHub\\message-ix-models\\message_ix_models\\report\\legacy\\pp_utils.py:558: FutureWarning: Setting an item of incompatible dtype is deprecated and will raise in a future error of pandas. Value '[2030 2030 2030 2030 2030 2030 2030 2030 2030 2030 2030 2030 2030]' has dtype incompatible with int64, please explicitly cast to a compatible dtype first.\n",
      "\\\\hdrive\\home$\\u045\\shepard\\GitHub\\message-ix-models\\message_ix_models\\report\\legacy\\pp_utils.py:558: FutureWarning: Setting an item of incompatible dtype is deprecated and will raise in a future error of pandas. Value '[2030 2030 2030 2030 2030 2030 2030 2030 2030 2030 2030 2030 2030]' has dtype incompatible with int64, please explicitly cast to a compatible dtype first.\n",
      "\\\\hdrive\\home$\\u045\\shepard\\GitHub\\message-ix-models\\message_ix_models\\report\\legacy\\pp_utils.py:558: FutureWarning: Setting an item of incompatible dtype is deprecated and will raise in a future error of pandas. Value '[2030 2030 2030 2030 2030 2030 2030 2030 2030 2030 2030 2030 2030 2030\n",
      " 2030 2030 2030 2030 2030 2030 2030 2030 2030 2030 2030 2030 2030 2030\n",
      " 2030 2030 2030 2030 2030 2030 2030 2030 2030 2030 2030 2030 2030 2030\n",
      " 2030 2030 2030 2030 2030 2030 2030 2030 2030 2030]' has dtype incompatible with int64, please explicitly cast to a compatible dtype first.\n",
      "\\\\hdrive\\home$\\u045\\shepard\\GitHub\\message-ix-models\\message_ix_models\\report\\legacy\\pp_utils.py:558: FutureWarning: Setting an item of incompatible dtype is deprecated and will raise in a future error of pandas. Value '[2030 2030 2030 2030 2030 2030 2030 2030 2030 2030 2030 2030 2030]' has dtype incompatible with int64, please explicitly cast to a compatible dtype first.\n",
      "\\\\hdrive\\home$\\u045\\shepard\\GitHub\\message-ix-models\\message_ix_models\\report\\legacy\\pp_utils.py:558: FutureWarning: Setting an item of incompatible dtype is deprecated and will raise in a future error of pandas. Value '[2030 2030 2030 2030 2030 2030 2030 2030 2030 2030 2030 2030 2030 2030\n",
      " 2030 2030 2030 2030 2030 2030 2030 2030 2030 2030 2030 2030]' has dtype incompatible with int64, please explicitly cast to a compatible dtype first.\n",
      "\\\\hdrive\\home$\\u045\\shepard\\GitHub\\message-ix-models\\message_ix_models\\report\\legacy\\pp_utils.py:558: FutureWarning: Setting an item of incompatible dtype is deprecated and will raise in a future error of pandas. Value '[2030 2030 2030 2030 2030 2030 2030 2030 2030 2030 2030 2030 2030]' has dtype incompatible with int64, please explicitly cast to a compatible dtype first.\n",
      "\\\\hdrive\\home$\\u045\\shepard\\GitHub\\message-ix-models\\message_ix_models\\report\\legacy\\pp_utils.py:558: FutureWarning: Setting an item of incompatible dtype is deprecated and will raise in a future error of pandas. Value '[2030 2030 2030 2030 2030 2030 2030 2030 2030 2030 2030 2030 2030 2030\n",
      " 2030 2030 2030 2030 2030 2030 2030 2030 2030 2030 2030 2030 2030 2030\n",
      " 2030 2030 2030 2030 2030 2030 2030 2030 2030 2030 2030]' has dtype incompatible with int64, please explicitly cast to a compatible dtype first.\n",
      "\\\\hdrive\\home$\\u045\\shepard\\GitHub\\message-ix-models\\message_ix_models\\report\\legacy\\pp_utils.py:558: FutureWarning: Setting an item of incompatible dtype is deprecated and will raise in a future error of pandas. Value '[2030 2030 2030 2030 2030 2030 2030 2030 2030 2030 2030 2030 2030]' has dtype incompatible with int64, please explicitly cast to a compatible dtype first.\n",
      "\\\\hdrive\\home$\\u045\\shepard\\GitHub\\message-ix-models\\message_ix_models\\report\\legacy\\pp_utils.py:558: FutureWarning: Setting an item of incompatible dtype is deprecated and will raise in a future error of pandas. Value '[2030 2030 2030 2030 2030 2030 2030 2030 2030 2030 2030 2030 2030 2030\n",
      " 2030 2030 2030 2030 2030 2030 2030 2030 2030 2030 2030 2030]' has dtype incompatible with int64, please explicitly cast to a compatible dtype first.\n",
      "\\\\hdrive\\home$\\u045\\shepard\\GitHub\\message-ix-models\\message_ix_models\\report\\legacy\\pp_utils.py:558: FutureWarning: Setting an item of incompatible dtype is deprecated and will raise in a future error of pandas. Value '[2030 2030 2030 2030 2030 2030 2030 2030 2030 2030 2030 2030 2030]' has dtype incompatible with int64, please explicitly cast to a compatible dtype first.\n",
      "\\\\hdrive\\home$\\u045\\shepard\\GitHub\\message-ix-models\\message_ix_models\\report\\legacy\\pp_utils.py:558: FutureWarning: Setting an item of incompatible dtype is deprecated and will raise in a future error of pandas. Value '[2030 2030 2030 2030 2030 2030 2030 2030 2030 2030 2030 2030 2030]' has dtype incompatible with int64, please explicitly cast to a compatible dtype first.\n",
      "\\\\hdrive\\home$\\u045\\shepard\\GitHub\\message-ix-models\\message_ix_models\\report\\legacy\\pp_utils.py:558: FutureWarning: Setting an item of incompatible dtype is deprecated and will raise in a future error of pandas. Value '[2030 2030 2030 2030 2030 2030 2030 2030 2030 2030 2030 2030 2030]' has dtype incompatible with int64, please explicitly cast to a compatible dtype first.\n",
      "\\\\hdrive\\home$\\u045\\shepard\\GitHub\\message-ix-models\\message_ix_models\\report\\legacy\\pp_utils.py:558: FutureWarning: Setting an item of incompatible dtype is deprecated and will raise in a future error of pandas. Value '[2030 2030 2030 2030 2030 2030 2030 2030 2030 2030 2030 2030 2030]' has dtype incompatible with int64, please explicitly cast to a compatible dtype first.\n",
      "\\\\hdrive\\home$\\u045\\shepard\\GitHub\\message-ix-models\\message_ix_models\\report\\legacy\\pp_utils.py:558: FutureWarning: Setting an item of incompatible dtype is deprecated and will raise in a future error of pandas. Value '[2030 2030 2030 2030 2030 2030 2030 2030 2030 2030 2030 2030 2030]' has dtype incompatible with int64, please explicitly cast to a compatible dtype first.\n",
      "\\\\hdrive\\home$\\u045\\shepard\\GitHub\\message-ix-models\\message_ix_models\\report\\legacy\\pp_utils.py:558: FutureWarning: Setting an item of incompatible dtype is deprecated and will raise in a future error of pandas. Value '[2030 2030 2030 2030 2030 2030 2030 2030 2030 2030 2030 2030 2030 2030\n",
      " 2030 2030 2030 2030 2030 2030 2030 2030 2030 2030 2030 2030]' has dtype incompatible with int64, please explicitly cast to a compatible dtype first.\n",
      "\\\\hdrive\\home$\\u045\\shepard\\GitHub\\message-ix-models\\message_ix_models\\report\\legacy\\pp_utils.py:558: FutureWarning: Setting an item of incompatible dtype is deprecated and will raise in a future error of pandas. Value '[2030 2030 2030 2030 2030 2030 2030 2030 2030 2030 2030 2030 2030]' has dtype incompatible with int64, please explicitly cast to a compatible dtype first.\n",
      "\\\\hdrive\\home$\\u045\\shepard\\GitHub\\message-ix-models\\message_ix_models\\report\\legacy\\pp_utils.py:558: FutureWarning: Setting an item of incompatible dtype is deprecated and will raise in a future error of pandas. Value '[2030 2030 2030 2030 2030 2030 2030 2030 2030 2030 2030 2030 2030]' has dtype incompatible with int64, please explicitly cast to a compatible dtype first.\n",
      "\\\\hdrive\\home$\\u045\\shepard\\GitHub\\message-ix-models\\message_ix_models\\report\\legacy\\pp_utils.py:558: FutureWarning: Setting an item of incompatible dtype is deprecated and will raise in a future error of pandas. Value '[2030 2030 2030 2030 2030 2030 2030 2030 2030 2030 2030 2030 2030]' has dtype incompatible with int64, please explicitly cast to a compatible dtype first.\n",
      "\\\\hdrive\\home$\\u045\\shepard\\GitHub\\message-ix-models\\message_ix_models\\report\\legacy\\pp_utils.py:558: FutureWarning: Setting an item of incompatible dtype is deprecated and will raise in a future error of pandas. Value '[2030 2030 2030 2030 2030 2030 2030 2030 2030 2030 2030 2030 2030]' has dtype incompatible with int64, please explicitly cast to a compatible dtype first.\n",
      "\\\\hdrive\\home$\\u045\\shepard\\GitHub\\message-ix-models\\message_ix_models\\report\\legacy\\pp_utils.py:558: FutureWarning: Setting an item of incompatible dtype is deprecated and will raise in a future error of pandas. Value '[2030 2030 2030 2030 2030 2030 2030 2030 2030 2030 2030 2030 2030]' has dtype incompatible with int64, please explicitly cast to a compatible dtype first.\n",
      "\\\\hdrive\\home$\\u045\\shepard\\GitHub\\message-ix-models\\message_ix_models\\report\\legacy\\pp_utils.py:558: FutureWarning: Setting an item of incompatible dtype is deprecated and will raise in a future error of pandas. Value '[2030 2030 2030 2030 2030 2030 2030 2030 2030 2030 2030 2030 2030]' has dtype incompatible with int64, please explicitly cast to a compatible dtype first.\n",
      "\\\\hdrive\\home$\\u045\\shepard\\GitHub\\message-ix-models\\message_ix_models\\report\\legacy\\pp_utils.py:558: FutureWarning: Setting an item of incompatible dtype is deprecated and will raise in a future error of pandas. Value '[2030 2030 2030 2030 2030 2030 2030 2030 2030 2030 2030 2030 2030]' has dtype incompatible with int64, please explicitly cast to a compatible dtype first.\n",
      "\\\\hdrive\\home$\\u045\\shepard\\GitHub\\message-ix-models\\message_ix_models\\report\\legacy\\pp_utils.py:558: FutureWarning: Setting an item of incompatible dtype is deprecated and will raise in a future error of pandas. Value '[2030 2030 2030 2030 2030 2030 2030 2030 2030 2030 2030 2030 2030]' has dtype incompatible with int64, please explicitly cast to a compatible dtype first.\n",
      "\\\\hdrive\\home$\\u045\\shepard\\GitHub\\message-ix-models\\message_ix_models\\report\\legacy\\pp_utils.py:558: FutureWarning: Setting an item of incompatible dtype is deprecated and will raise in a future error of pandas. Value '[2030 2030 2030 2030 2030 2030 2030 2030 2030 2030 2030 2030 2030]' has dtype incompatible with int64, please explicitly cast to a compatible dtype first.\n",
      "\\\\hdrive\\home$\\u045\\shepard\\GitHub\\message-ix-models\\message_ix_models\\report\\legacy\\pp_utils.py:558: FutureWarning: Setting an item of incompatible dtype is deprecated and will raise in a future error of pandas. Value '[2030 2030 2030 2030 2030 2030 2030 2030 2030 2030 2030 2030 2030]' has dtype incompatible with int64, please explicitly cast to a compatible dtype first.\n",
      "\\\\hdrive\\home$\\u045\\shepard\\GitHub\\message-ix-models\\message_ix_models\\report\\legacy\\pp_utils.py:558: FutureWarning: Setting an item of incompatible dtype is deprecated and will raise in a future error of pandas. Value '[2030 2030 2030 2030 2030 2030 2030 2030 2030 2030 2030 2030 2030]' has dtype incompatible with int64, please explicitly cast to a compatible dtype first.\n",
      "\\\\hdrive\\home$\\u045\\shepard\\GitHub\\message-ix-models\\message_ix_models\\report\\legacy\\pp_utils.py:558: FutureWarning: Setting an item of incompatible dtype is deprecated and will raise in a future error of pandas. Value '[2030 2030 2030 2030 2030 2030 2030 2030 2030 2030 2030 2030 2030]' has dtype incompatible with int64, please explicitly cast to a compatible dtype first.\n",
      "\\\\hdrive\\home$\\u045\\shepard\\GitHub\\message-ix-models\\message_ix_models\\report\\legacy\\pp_utils.py:558: FutureWarning: Setting an item of incompatible dtype is deprecated and will raise in a future error of pandas. Value '[2030 2030 2030 2030 2030 2030 2030 2030 2030 2030 2030 2030 2030]' has dtype incompatible with int64, please explicitly cast to a compatible dtype first.\n",
      "\\\\hdrive\\home$\\u045\\shepard\\GitHub\\message-ix-models\\message_ix_models\\report\\legacy\\pp_utils.py:558: FutureWarning: Setting an item of incompatible dtype is deprecated and will raise in a future error of pandas. Value '[2030 2030 2030 2030 2030 2030 2030 2030 2030 2030 2030 2030 2030]' has dtype incompatible with int64, please explicitly cast to a compatible dtype first.\n",
      "\\\\hdrive\\home$\\u045\\shepard\\GitHub\\message-ix-models\\message_ix_models\\report\\legacy\\pp_utils.py:558: FutureWarning: Setting an item of incompatible dtype is deprecated and will raise in a future error of pandas. Value '[2030 2030 2030 2030 2030 2030 2030 2030 2030 2030 2030 2030 2030]' has dtype incompatible with int64, please explicitly cast to a compatible dtype first.\n",
      "\\\\hdrive\\home$\\u045\\shepard\\GitHub\\message-ix-models\\message_ix_models\\report\\legacy\\pp_utils.py:558: FutureWarning: Setting an item of incompatible dtype is deprecated and will raise in a future error of pandas. Value '[2030 2030 2030 2030 2030 2030 2030 2030 2030 2030 2030 2030 2030]' has dtype incompatible with int64, please explicitly cast to a compatible dtype first.\n",
      "\\\\hdrive\\home$\\u045\\shepard\\GitHub\\message-ix-models\\message_ix_models\\report\\legacy\\pp_utils.py:558: FutureWarning: Setting an item of incompatible dtype is deprecated and will raise in a future error of pandas. Value '[2030 2030 2030 2030 2030 2030 2030 2030 2030 2030 2030 2030 2030]' has dtype incompatible with int64, please explicitly cast to a compatible dtype first.\n",
      "\\\\hdrive\\home$\\u045\\shepard\\GitHub\\message-ix-models\\message_ix_models\\report\\legacy\\pp_utils.py:558: FutureWarning: Setting an item of incompatible dtype is deprecated and will raise in a future error of pandas. Value '[2030 2030 2030 2030 2030 2030 2030 2030 2030 2030 2030 2030 2030]' has dtype incompatible with int64, please explicitly cast to a compatible dtype first.\n",
      "\\\\hdrive\\home$\\u045\\shepard\\GitHub\\message-ix-models\\message_ix_models\\report\\legacy\\pp_utils.py:558: FutureWarning: Setting an item of incompatible dtype is deprecated and will raise in a future error of pandas. Value '[2030 2030 2030 2030 2030 2030 2030 2030 2030 2030 2030 2030 2030]' has dtype incompatible with int64, please explicitly cast to a compatible dtype first.\n",
      "\\\\hdrive\\home$\\u045\\shepard\\GitHub\\message-ix-models\\message_ix_models\\report\\legacy\\pp_utils.py:558: FutureWarning: Setting an item of incompatible dtype is deprecated and will raise in a future error of pandas. Value '[2030 2030 2030 2030 2030 2030 2030 2030 2030 2030 2030 2030 2030]' has dtype incompatible with int64, please explicitly cast to a compatible dtype first.\n",
      "\\\\hdrive\\home$\\u045\\shepard\\GitHub\\message-ix-models\\message_ix_models\\report\\legacy\\pp_utils.py:558: FutureWarning: Setting an item of incompatible dtype is deprecated and will raise in a future error of pandas. Value '[2030 2030 2030 2030 2030 2030 2030 2030 2030 2030 2030 2030 2030]' has dtype incompatible with int64, please explicitly cast to a compatible dtype first.\n",
      "\\\\hdrive\\home$\\u045\\shepard\\GitHub\\message-ix-models\\message_ix_models\\report\\legacy\\pp_utils.py:558: FutureWarning: Setting an item of incompatible dtype is deprecated and will raise in a future error of pandas. Value '[2030 2030 2030 2030 2030 2030 2030 2030 2030 2030 2030 2030 2030]' has dtype incompatible with int64, please explicitly cast to a compatible dtype first.\n",
      "\\\\hdrive\\home$\\u045\\shepard\\GitHub\\message-ix-models\\message_ix_models\\report\\legacy\\pp_utils.py:558: FutureWarning: Setting an item of incompatible dtype is deprecated and will raise in a future error of pandas. Value '[2030 2030 2030 2030 2030 2030 2030 2030 2030 2030 2030 2030 2030]' has dtype incompatible with int64, please explicitly cast to a compatible dtype first.\n",
      "\\\\hdrive\\home$\\u045\\shepard\\GitHub\\message-ix-models\\message_ix_models\\report\\legacy\\pp_utils.py:558: FutureWarning: Setting an item of incompatible dtype is deprecated and will raise in a future error of pandas. Value '[2030 2030 2030 2030 2030 2030 2030 2030 2030 2030 2030 2030 2030 2030\n",
      " 2030 2030 2030 2030 2030 2030 2030 2030 2030 2030 2030 2030]' has dtype incompatible with int64, please explicitly cast to a compatible dtype first.\n",
      "\\\\hdrive\\home$\\u045\\shepard\\GitHub\\message-ix-models\\message_ix_models\\report\\legacy\\pp_utils.py:558: FutureWarning: Setting an item of incompatible dtype is deprecated and will raise in a future error of pandas. Value '[2030 2030 2030 2030 2030 2030 2030 2030 2030 2030 2030 2030 2030]' has dtype incompatible with int64, please explicitly cast to a compatible dtype first.\n",
      "\\\\hdrive\\home$\\u045\\shepard\\GitHub\\message-ix-models\\message_ix_models\\report\\legacy\\pp_utils.py:558: FutureWarning: Setting an item of incompatible dtype is deprecated and will raise in a future error of pandas. Value '[2030 2030 2030 2030 2030 2030 2030 2030 2030 2030 2030 2030 2030]' has dtype incompatible with int64, please explicitly cast to a compatible dtype first.\n",
      "\\\\hdrive\\home$\\u045\\shepard\\GitHub\\message-ix-models\\message_ix_models\\report\\legacy\\pp_utils.py:558: FutureWarning: Setting an item of incompatible dtype is deprecated and will raise in a future error of pandas. Value '[2030 2030 2030 2030 2030 2030 2030 2030 2030 2030 2030 2030 2030]' has dtype incompatible with int64, please explicitly cast to a compatible dtype first.\n",
      "\\\\hdrive\\home$\\u045\\shepard\\GitHub\\message-ix-models\\message_ix_models\\report\\legacy\\pp_utils.py:558: FutureWarning: Setting an item of incompatible dtype is deprecated and will raise in a future error of pandas. Value '[2030 2030 2030 2030 2030 2030 2030 2030 2030 2030 2030 2030 2030 2030\n",
      " 2030 2030 2030 2030 2030 2030 2030 2030 2030 2030 2030 2030 2030 2030\n",
      " 2030 2030 2030 2030 2030 2030 2030 2030 2030 2030 2030 2030 2030 2030\n",
      " 2030 2030 2030 2030 2030 2030 2030 2030 2030 2030]' has dtype incompatible with int64, please explicitly cast to a compatible dtype first.\n",
      "\\\\hdrive\\home$\\u045\\shepard\\GitHub\\message-ix-models\\message_ix_models\\report\\legacy\\pp_utils.py:558: FutureWarning: Setting an item of incompatible dtype is deprecated and will raise in a future error of pandas. Value '[2030 2030 2030 2030 2030 2030 2030 2030 2030 2030 2030 2030 2030]' has dtype incompatible with int64, please explicitly cast to a compatible dtype first.\n",
      "\\\\hdrive\\home$\\u045\\shepard\\GitHub\\message-ix-models\\message_ix_models\\report\\legacy\\pp_utils.py:558: FutureWarning: Setting an item of incompatible dtype is deprecated and will raise in a future error of pandas. Value '[2030 2030 2030 2030 2030 2030 2030 2030 2030 2030 2030 2030 2030 2030\n",
      " 2030 2030 2030 2030 2030 2030 2030 2030 2030 2030 2030 2030]' has dtype incompatible with int64, please explicitly cast to a compatible dtype first.\n",
      "\\\\hdrive\\home$\\u045\\shepard\\GitHub\\message-ix-models\\message_ix_models\\report\\legacy\\pp_utils.py:558: FutureWarning: Setting an item of incompatible dtype is deprecated and will raise in a future error of pandas. Value '[2030 2030 2030 2030 2030 2030 2030 2030 2030 2030 2030 2030 2030]' has dtype incompatible with int64, please explicitly cast to a compatible dtype first.\n",
      "\\\\hdrive\\home$\\u045\\shepard\\GitHub\\message-ix-models\\message_ix_models\\report\\legacy\\pp_utils.py:558: FutureWarning: Setting an item of incompatible dtype is deprecated and will raise in a future error of pandas. Value '[2030 2030 2030 2030 2030 2030 2030 2030 2030 2030 2030 2030 2030 2030\n",
      " 2030 2030 2030 2030 2030 2030 2030 2030 2030 2030 2030 2030 2030 2030\n",
      " 2030 2030 2030 2030 2030 2030 2030 2030 2030 2030 2030]' has dtype incompatible with int64, please explicitly cast to a compatible dtype first.\n",
      "\\\\hdrive\\home$\\u045\\shepard\\GitHub\\message-ix-models\\message_ix_models\\report\\legacy\\pp_utils.py:558: FutureWarning: Setting an item of incompatible dtype is deprecated and will raise in a future error of pandas. Value '[2030 2030 2030 2030 2030 2030 2030 2030 2030 2030 2030 2030 2030]' has dtype incompatible with int64, please explicitly cast to a compatible dtype first.\n",
      "\\\\hdrive\\home$\\u045\\shepard\\GitHub\\message-ix-models\\message_ix_models\\report\\legacy\\pp_utils.py:558: FutureWarning: Setting an item of incompatible dtype is deprecated and will raise in a future error of pandas. Value '[2030 2030 2030 2030 2030 2030 2030 2030 2030 2030 2030 2030 2030 2030\n",
      " 2030 2030 2030 2030 2030 2030 2030 2030 2030 2030 2030 2030]' has dtype incompatible with int64, please explicitly cast to a compatible dtype first.\n",
      "\\\\hdrive\\home$\\u045\\shepard\\GitHub\\message-ix-models\\message_ix_models\\report\\legacy\\pp_utils.py:558: FutureWarning: Setting an item of incompatible dtype is deprecated and will raise in a future error of pandas. Value '[2030 2030 2030 2030 2030 2030 2030 2030 2030 2030 2030 2030 2030]' has dtype incompatible with int64, please explicitly cast to a compatible dtype first.\n",
      "\\\\hdrive\\home$\\u045\\shepard\\GitHub\\message-ix-models\\message_ix_models\\report\\legacy\\pp_utils.py:558: FutureWarning: Setting an item of incompatible dtype is deprecated and will raise in a future error of pandas. Value '[2030 2030 2030 2030 2030 2030 2030 2030 2030 2030 2030 2030 2030]' has dtype incompatible with int64, please explicitly cast to a compatible dtype first.\n",
      "\\\\hdrive\\home$\\u045\\shepard\\GitHub\\message-ix-models\\message_ix_models\\report\\legacy\\pp_utils.py:558: FutureWarning: Setting an item of incompatible dtype is deprecated and will raise in a future error of pandas. Value '[2030 2030 2030 2030 2030 2030 2030 2030 2030 2030 2030 2030 2030]' has dtype incompatible with int64, please explicitly cast to a compatible dtype first.\n",
      "\\\\hdrive\\home$\\u045\\shepard\\GitHub\\message-ix-models\\message_ix_models\\report\\legacy\\pp_utils.py:558: FutureWarning: Setting an item of incompatible dtype is deprecated and will raise in a future error of pandas. Value '[2030 2030 2030 2030 2030 2030 2030 2030 2030 2030 2030 2030 2030]' has dtype incompatible with int64, please explicitly cast to a compatible dtype first.\n",
      "\\\\hdrive\\home$\\u045\\shepard\\GitHub\\message-ix-models\\message_ix_models\\report\\legacy\\pp_utils.py:558: FutureWarning: Setting an item of incompatible dtype is deprecated and will raise in a future error of pandas. Value '[2030 2030 2030 2030 2030 2030 2030 2030 2030 2030 2030 2030 2030]' has dtype incompatible with int64, please explicitly cast to a compatible dtype first.\n",
      "\\\\hdrive\\home$\\u045\\shepard\\GitHub\\message-ix-models\\message_ix_models\\report\\legacy\\pp_utils.py:558: FutureWarning: Setting an item of incompatible dtype is deprecated and will raise in a future error of pandas. Value '[2030 2030 2030 2030 2030 2030 2030 2030 2030 2030 2030 2030 2030 2030\n",
      " 2030 2030 2030 2030 2030 2030 2030 2030 2030 2030 2030 2030]' has dtype incompatible with int64, please explicitly cast to a compatible dtype first.\n",
      "\\\\hdrive\\home$\\u045\\shepard\\GitHub\\message-ix-models\\message_ix_models\\report\\legacy\\pp_utils.py:558: FutureWarning: Setting an item of incompatible dtype is deprecated and will raise in a future error of pandas. Value '[2030 2030 2030 2030 2030 2030 2030 2030 2030 2030 2030 2030 2030]' has dtype incompatible with int64, please explicitly cast to a compatible dtype first.\n",
      "\\\\hdrive\\home$\\u045\\shepard\\GitHub\\message-ix-models\\message_ix_models\\report\\legacy\\pp_utils.py:558: FutureWarning: Setting an item of incompatible dtype is deprecated and will raise in a future error of pandas. Value '[2030 2030 2030 2030 2030 2030 2030 2030 2030 2030 2030 2030 2030]' has dtype incompatible with int64, please explicitly cast to a compatible dtype first.\n",
      "\\\\hdrive\\home$\\u045\\shepard\\GitHub\\message-ix-models\\message_ix_models\\report\\legacy\\pp_utils.py:558: FutureWarning: Setting an item of incompatible dtype is deprecated and will raise in a future error of pandas. Value '[2030 2030 2030 2030 2030 2030 2030 2030 2030 2030 2030 2030 2030]' has dtype incompatible with int64, please explicitly cast to a compatible dtype first.\n",
      "\\\\hdrive\\home$\\u045\\shepard\\GitHub\\message-ix-models\\message_ix_models\\report\\legacy\\pp_utils.py:558: FutureWarning: Setting an item of incompatible dtype is deprecated and will raise in a future error of pandas. Value '[2030 2030 2030 2030 2030 2030 2030 2030 2030 2030 2030 2030 2030]' has dtype incompatible with int64, please explicitly cast to a compatible dtype first.\n",
      "\\\\hdrive\\home$\\u045\\shepard\\GitHub\\message-ix-models\\message_ix_models\\report\\legacy\\pp_utils.py:558: FutureWarning: Setting an item of incompatible dtype is deprecated and will raise in a future error of pandas. Value '[2030 2030 2030 2030 2030 2030 2030 2030 2030 2030 2030 2030 2030]' has dtype incompatible with int64, please explicitly cast to a compatible dtype first.\n",
      "\\\\hdrive\\home$\\u045\\shepard\\GitHub\\message-ix-models\\message_ix_models\\report\\legacy\\pp_utils.py:558: FutureWarning: Setting an item of incompatible dtype is deprecated and will raise in a future error of pandas. Value '[2030 2030 2030 2030 2030 2030 2030 2030 2030 2030 2030 2030 2030]' has dtype incompatible with int64, please explicitly cast to a compatible dtype first.\n",
      "\\\\hdrive\\home$\\u045\\shepard\\GitHub\\message-ix-models\\message_ix_models\\report\\legacy\\pp_utils.py:558: FutureWarning: Setting an item of incompatible dtype is deprecated and will raise in a future error of pandas. Value '[2030 2030 2030 2030 2030 2030 2030 2030 2030 2030 2030 2030 2030]' has dtype incompatible with int64, please explicitly cast to a compatible dtype first.\n",
      "\\\\hdrive\\home$\\u045\\shepard\\GitHub\\message-ix-models\\message_ix_models\\report\\legacy\\pp_utils.py:558: FutureWarning: Setting an item of incompatible dtype is deprecated and will raise in a future error of pandas. Value '[2030 2030 2030 2030 2030 2030 2030 2030 2030 2030 2030 2030 2030]' has dtype incompatible with int64, please explicitly cast to a compatible dtype first.\n",
      "\\\\hdrive\\home$\\u045\\shepard\\GitHub\\message-ix-models\\message_ix_models\\report\\legacy\\pp_utils.py:558: FutureWarning: Setting an item of incompatible dtype is deprecated and will raise in a future error of pandas. Value '[2030 2030 2030 2030 2030 2030 2030 2030 2030 2030 2030 2030 2030]' has dtype incompatible with int64, please explicitly cast to a compatible dtype first.\n",
      "\\\\hdrive\\home$\\u045\\shepard\\GitHub\\message-ix-models\\message_ix_models\\report\\legacy\\pp_utils.py:558: FutureWarning: Setting an item of incompatible dtype is deprecated and will raise in a future error of pandas. Value '[2030 2030 2030 2030 2030 2030 2030 2030 2030 2030 2030 2030 2030]' has dtype incompatible with int64, please explicitly cast to a compatible dtype first.\n",
      "\\\\hdrive\\home$\\u045\\shepard\\GitHub\\message-ix-models\\message_ix_models\\report\\legacy\\pp_utils.py:558: FutureWarning: Setting an item of incompatible dtype is deprecated and will raise in a future error of pandas. Value '[2030 2030 2030 2030 2030 2030 2030 2030 2030 2030 2030 2030 2030]' has dtype incompatible with int64, please explicitly cast to a compatible dtype first.\n",
      "\\\\hdrive\\home$\\u045\\shepard\\GitHub\\message-ix-models\\message_ix_models\\report\\legacy\\pp_utils.py:558: FutureWarning: Setting an item of incompatible dtype is deprecated and will raise in a future error of pandas. Value '[2030 2030 2030 2030 2030 2030 2030 2030 2030 2030 2030 2030 2030]' has dtype incompatible with int64, please explicitly cast to a compatible dtype first.\n",
      "\\\\hdrive\\home$\\u045\\shepard\\GitHub\\message-ix-models\\message_ix_models\\report\\legacy\\pp_utils.py:558: FutureWarning: Setting an item of incompatible dtype is deprecated and will raise in a future error of pandas. Value '[2030 2030 2030 2030 2030 2030 2030 2030 2030 2030 2030 2030 2030]' has dtype incompatible with int64, please explicitly cast to a compatible dtype first.\n",
      "\\\\hdrive\\home$\\u045\\shepard\\GitHub\\message-ix-models\\message_ix_models\\report\\legacy\\pp_utils.py:558: FutureWarning: Setting an item of incompatible dtype is deprecated and will raise in a future error of pandas. Value '[2030 2030 2030 2030 2030 2030 2030 2030 2030 2030 2030 2030 2030]' has dtype incompatible with int64, please explicitly cast to a compatible dtype first.\n",
      "\\\\hdrive\\home$\\u045\\shepard\\GitHub\\message-ix-models\\message_ix_models\\report\\legacy\\pp_utils.py:558: FutureWarning: Setting an item of incompatible dtype is deprecated and will raise in a future error of pandas. Value '[2030 2030 2030 2030 2030 2030 2030 2030 2030 2030 2030 2030 2030]' has dtype incompatible with int64, please explicitly cast to a compatible dtype first.\n",
      "\\\\hdrive\\home$\\u045\\shepard\\GitHub\\message-ix-models\\message_ix_models\\report\\legacy\\pp_utils.py:558: FutureWarning: Setting an item of incompatible dtype is deprecated and will raise in a future error of pandas. Value '[2030 2030 2030 2030 2030 2030 2030 2030 2030 2030 2030 2030 2030]' has dtype incompatible with int64, please explicitly cast to a compatible dtype first.\n",
      "\\\\hdrive\\home$\\u045\\shepard\\GitHub\\message-ix-models\\message_ix_models\\report\\legacy\\pp_utils.py:558: FutureWarning: Setting an item of incompatible dtype is deprecated and will raise in a future error of pandas. Value '[2030 2030 2030 2030 2030 2030 2030 2030 2030 2030 2030 2030 2030]' has dtype incompatible with int64, please explicitly cast to a compatible dtype first.\n",
      "\\\\hdrive\\home$\\u045\\shepard\\GitHub\\message-ix-models\\message_ix_models\\report\\legacy\\pp_utils.py:558: FutureWarning: Setting an item of incompatible dtype is deprecated and will raise in a future error of pandas. Value '[2030 2030 2030 2030 2030 2030 2030 2030 2030 2030 2030 2030 2030]' has dtype incompatible with int64, please explicitly cast to a compatible dtype first.\n",
      "\\\\hdrive\\home$\\u045\\shepard\\GitHub\\message-ix-models\\message_ix_models\\report\\legacy\\pp_utils.py:558: FutureWarning: Setting an item of incompatible dtype is deprecated and will raise in a future error of pandas. Value '[2030 2030 2030 2030 2030 2030 2030 2030 2030 2030 2030 2030 2030]' has dtype incompatible with int64, please explicitly cast to a compatible dtype first.\n",
      "\\\\hdrive\\home$\\u045\\shepard\\GitHub\\message-ix-models\\message_ix_models\\report\\legacy\\pp_utils.py:558: FutureWarning: Setting an item of incompatible dtype is deprecated and will raise in a future error of pandas. Value '[2030 2030 2030 2030 2030 2030 2030 2030 2030 2030 2030 2030 2030]' has dtype incompatible with int64, please explicitly cast to a compatible dtype first.\n",
      "\\\\hdrive\\home$\\u045\\shepard\\GitHub\\message-ix-models\\message_ix_models\\report\\legacy\\pp_utils.py:558: FutureWarning: Setting an item of incompatible dtype is deprecated and will raise in a future error of pandas. Value '[2030 2030 2030 2030 2030 2030 2030 2030 2030 2030 2030 2030 2030]' has dtype incompatible with int64, please explicitly cast to a compatible dtype first.\n",
      "\\\\hdrive\\home$\\u045\\shepard\\GitHub\\message-ix-models\\message_ix_models\\report\\legacy\\pp_utils.py:558: FutureWarning: Setting an item of incompatible dtype is deprecated and will raise in a future error of pandas. Value '[2030 2030 2030 2030 2030 2030 2030 2030 2030 2030 2030 2030 2030]' has dtype incompatible with int64, please explicitly cast to a compatible dtype first.\n",
      "\\\\hdrive\\home$\\u045\\shepard\\GitHub\\message-ix-models\\message_ix_models\\report\\legacy\\pp_utils.py:558: FutureWarning: Setting an item of incompatible dtype is deprecated and will raise in a future error of pandas. Value '[2030 2030 2030 2030 2030 2030 2030 2030 2030 2030 2030 2030 2030]' has dtype incompatible with int64, please explicitly cast to a compatible dtype first.\n",
      "\\\\hdrive\\home$\\u045\\shepard\\GitHub\\message-ix-models\\message_ix_models\\report\\legacy\\pp_utils.py:558: FutureWarning: Setting an item of incompatible dtype is deprecated and will raise in a future error of pandas. Value '[2030 2030 2030 2030 2030 2030 2030 2030 2030 2030 2030 2030 2030 2030\n",
      " 2030 2030 2030 2030 2030 2030 2030 2030 2030 2030 2030 2030]' has dtype incompatible with int64, please explicitly cast to a compatible dtype first.\n",
      "\\\\hdrive\\home$\\u045\\shepard\\GitHub\\message-ix-models\\message_ix_models\\report\\legacy\\pp_utils.py:558: FutureWarning: Setting an item of incompatible dtype is deprecated and will raise in a future error of pandas. Value '[2030 2030 2030 2030 2030 2030 2030 2030 2030 2030 2030 2030 2030]' has dtype incompatible with int64, please explicitly cast to a compatible dtype first.\n",
      "\\\\hdrive\\home$\\u045\\shepard\\GitHub\\message-ix-models\\message_ix_models\\report\\legacy\\pp_utils.py:558: FutureWarning: Setting an item of incompatible dtype is deprecated and will raise in a future error of pandas. Value '[2030 2030 2030 2030 2030 2030 2030 2030 2030 2030 2030 2030 2030]' has dtype incompatible with int64, please explicitly cast to a compatible dtype first.\n",
      "\\\\hdrive\\home$\\u045\\shepard\\GitHub\\message-ix-models\\message_ix_models\\report\\legacy\\pp_utils.py:558: FutureWarning: Setting an item of incompatible dtype is deprecated and will raise in a future error of pandas. Value '[2030 2030 2030 2030 2030 2030 2030 2030 2030 2030 2030 2030 2030]' has dtype incompatible with int64, please explicitly cast to a compatible dtype first.\n",
      "\\\\hdrive\\home$\\u045\\shepard\\GitHub\\message-ix-models\\message_ix_models\\report\\legacy\\pp_utils.py:558: FutureWarning: Setting an item of incompatible dtype is deprecated and will raise in a future error of pandas. Value '[2030 2030 2030 2030 2030 2030 2030 2030 2030 2030 2030 2030 2030 2030\n",
      " 2030 2030 2030 2030 2030 2030 2030 2030 2030 2030 2030 2030 2030 2030\n",
      " 2030 2030 2030 2030 2030 2030 2030 2030 2030 2030 2030 2030 2030 2030\n",
      " 2030 2030 2030 2030 2030 2030 2030 2030 2030 2030]' has dtype incompatible with int64, please explicitly cast to a compatible dtype first.\n",
      "\\\\hdrive\\home$\\u045\\shepard\\GitHub\\message-ix-models\\message_ix_models\\report\\legacy\\pp_utils.py:558: FutureWarning: Setting an item of incompatible dtype is deprecated and will raise in a future error of pandas. Value '[2030 2030 2030 2030 2030 2030 2030 2030 2030 2030 2030 2030 2030]' has dtype incompatible with int64, please explicitly cast to a compatible dtype first.\n",
      "\\\\hdrive\\home$\\u045\\shepard\\GitHub\\message-ix-models\\message_ix_models\\report\\legacy\\pp_utils.py:558: FutureWarning: Setting an item of incompatible dtype is deprecated and will raise in a future error of pandas. Value '[2030 2030 2030 2030 2030 2030 2030 2030 2030 2030 2030 2030 2030 2030\n",
      " 2030 2030 2030 2030 2030 2030 2030 2030 2030 2030 2030 2030]' has dtype incompatible with int64, please explicitly cast to a compatible dtype first.\n",
      "\\\\hdrive\\home$\\u045\\shepard\\GitHub\\message-ix-models\\message_ix_models\\report\\legacy\\pp_utils.py:558: FutureWarning: Setting an item of incompatible dtype is deprecated and will raise in a future error of pandas. Value '[2030 2030 2030 2030 2030 2030 2030 2030 2030 2030 2030 2030 2030]' has dtype incompatible with int64, please explicitly cast to a compatible dtype first.\n",
      "\\\\hdrive\\home$\\u045\\shepard\\GitHub\\message-ix-models\\message_ix_models\\report\\legacy\\pp_utils.py:558: FutureWarning: Setting an item of incompatible dtype is deprecated and will raise in a future error of pandas. Value '[2030 2030 2030 2030 2030 2030 2030 2030 2030 2030 2030 2030 2030 2030\n",
      " 2030 2030 2030 2030 2030 2030 2030 2030 2030 2030 2030 2030 2030 2030\n",
      " 2030 2030 2030 2030 2030 2030 2030 2030 2030 2030 2030]' has dtype incompatible with int64, please explicitly cast to a compatible dtype first.\n",
      "\\\\hdrive\\home$\\u045\\shepard\\GitHub\\message-ix-models\\message_ix_models\\report\\legacy\\pp_utils.py:558: FutureWarning: Setting an item of incompatible dtype is deprecated and will raise in a future error of pandas. Value '[2030 2030 2030 2030 2030 2030 2030 2030 2030 2030 2030 2030 2030]' has dtype incompatible with int64, please explicitly cast to a compatible dtype first.\n",
      "\\\\hdrive\\home$\\u045\\shepard\\GitHub\\message-ix-models\\message_ix_models\\report\\legacy\\pp_utils.py:558: FutureWarning: Setting an item of incompatible dtype is deprecated and will raise in a future error of pandas. Value '[2030 2030 2030 2030 2030 2030 2030 2030 2030 2030 2030 2030 2030 2030\n",
      " 2030 2030 2030 2030 2030 2030 2030 2030 2030 2030 2030 2030]' has dtype incompatible with int64, please explicitly cast to a compatible dtype first.\n",
      "\\\\hdrive\\home$\\u045\\shepard\\GitHub\\message-ix-models\\message_ix_models\\report\\legacy\\pp_utils.py:558: FutureWarning: Setting an item of incompatible dtype is deprecated and will raise in a future error of pandas. Value '[2030 2030 2030 2030 2030 2030 2030 2030 2030 2030 2030 2030 2030]' has dtype incompatible with int64, please explicitly cast to a compatible dtype first.\n",
      "\\\\hdrive\\home$\\u045\\shepard\\GitHub\\message-ix-models\\message_ix_models\\report\\legacy\\pp_utils.py:558: FutureWarning: Setting an item of incompatible dtype is deprecated and will raise in a future error of pandas. Value '[2030 2030 2030 2030 2030 2030 2030 2030 2030 2030 2030 2030 2030]' has dtype incompatible with int64, please explicitly cast to a compatible dtype first.\n",
      "\\\\hdrive\\home$\\u045\\shepard\\GitHub\\message-ix-models\\message_ix_models\\report\\legacy\\pp_utils.py:558: FutureWarning: Setting an item of incompatible dtype is deprecated and will raise in a future error of pandas. Value '[2030 2030 2030 2030 2030 2030 2030 2030 2030 2030 2030 2030 2030]' has dtype incompatible with int64, please explicitly cast to a compatible dtype first.\n",
      "\\\\hdrive\\home$\\u045\\shepard\\GitHub\\message-ix-models\\message_ix_models\\report\\legacy\\pp_utils.py:558: FutureWarning: Setting an item of incompatible dtype is deprecated and will raise in a future error of pandas. Value '[2030 2030 2030 2030 2030 2030 2030 2030 2030 2030 2030 2030 2030]' has dtype incompatible with int64, please explicitly cast to a compatible dtype first.\n",
      "\\\\hdrive\\home$\\u045\\shepard\\GitHub\\message-ix-models\\message_ix_models\\report\\legacy\\pp_utils.py:558: FutureWarning: Setting an item of incompatible dtype is deprecated and will raise in a future error of pandas. Value '[2030 2030 2030 2030 2030 2030 2030 2030 2030 2030 2030 2030 2030]' has dtype incompatible with int64, please explicitly cast to a compatible dtype first.\n",
      "\\\\hdrive\\home$\\u045\\shepard\\GitHub\\message-ix-models\\message_ix_models\\report\\legacy\\pp_utils.py:558: FutureWarning: Setting an item of incompatible dtype is deprecated and will raise in a future error of pandas. Value '[2030 2030 2030 2030 2030 2030 2030 2030 2030 2030 2030 2030 2030 2030\n",
      " 2030 2030 2030 2030 2030 2030 2030 2030 2030 2030 2030 2030]' has dtype incompatible with int64, please explicitly cast to a compatible dtype first.\n",
      "\\\\hdrive\\home$\\u045\\shepard\\GitHub\\message-ix-models\\message_ix_models\\report\\legacy\\pp_utils.py:558: FutureWarning: Setting an item of incompatible dtype is deprecated and will raise in a future error of pandas. Value '[2030 2030 2030 2030 2030 2030 2030 2030 2030 2030 2030 2030 2030]' has dtype incompatible with int64, please explicitly cast to a compatible dtype first.\n",
      "\\\\hdrive\\home$\\u045\\shepard\\GitHub\\message-ix-models\\message_ix_models\\report\\legacy\\pp_utils.py:558: FutureWarning: Setting an item of incompatible dtype is deprecated and will raise in a future error of pandas. Value '[2030 2030 2030 2030 2030 2030 2030 2030 2030 2030 2030 2030 2030]' has dtype incompatible with int64, please explicitly cast to a compatible dtype first.\n",
      "\\\\hdrive\\home$\\u045\\shepard\\GitHub\\message-ix-models\\message_ix_models\\report\\legacy\\pp_utils.py:558: FutureWarning: Setting an item of incompatible dtype is deprecated and will raise in a future error of pandas. Value '[2030 2030 2030 2030 2030 2030 2030 2030 2030 2030 2030 2030 2030]' has dtype incompatible with int64, please explicitly cast to a compatible dtype first.\n",
      "\\\\hdrive\\home$\\u045\\shepard\\GitHub\\message-ix-models\\message_ix_models\\report\\legacy\\pp_utils.py:558: FutureWarning: Setting an item of incompatible dtype is deprecated and will raise in a future error of pandas. Value '[2030 2030 2030 2030 2030 2030 2030 2030 2030 2030 2030 2030 2030]' has dtype incompatible with int64, please explicitly cast to a compatible dtype first.\n",
      "\\\\hdrive\\home$\\u045\\shepard\\GitHub\\message-ix-models\\message_ix_models\\report\\legacy\\pp_utils.py:558: FutureWarning: Setting an item of incompatible dtype is deprecated and will raise in a future error of pandas. Value '[2030 2030 2030 2030 2030 2030 2030 2030 2030 2030 2030 2030 2030]' has dtype incompatible with int64, please explicitly cast to a compatible dtype first.\n",
      "\\\\hdrive\\home$\\u045\\shepard\\GitHub\\message-ix-models\\message_ix_models\\report\\legacy\\pp_utils.py:558: FutureWarning: Setting an item of incompatible dtype is deprecated and will raise in a future error of pandas. Value '[2030 2030 2030 2030 2030 2030 2030 2030 2030 2030 2030 2030 2030]' has dtype incompatible with int64, please explicitly cast to a compatible dtype first.\n",
      "\\\\hdrive\\home$\\u045\\shepard\\GitHub\\message-ix-models\\message_ix_models\\report\\legacy\\pp_utils.py:558: FutureWarning: Setting an item of incompatible dtype is deprecated and will raise in a future error of pandas. Value '[2030 2030 2030 2030 2030 2030 2030 2030 2030 2030 2030 2030 2030]' has dtype incompatible with int64, please explicitly cast to a compatible dtype first.\n",
      "\\\\hdrive\\home$\\u045\\shepard\\GitHub\\message-ix-models\\message_ix_models\\report\\legacy\\pp_utils.py:558: FutureWarning: Setting an item of incompatible dtype is deprecated and will raise in a future error of pandas. Value '[2030 2030 2030 2030 2030 2030 2030 2030 2030 2030 2030 2030 2030]' has dtype incompatible with int64, please explicitly cast to a compatible dtype first.\n",
      "\\\\hdrive\\home$\\u045\\shepard\\GitHub\\message-ix-models\\message_ix_models\\report\\legacy\\pp_utils.py:558: FutureWarning: Setting an item of incompatible dtype is deprecated and will raise in a future error of pandas. Value '[2030 2030 2030 2030 2030 2030 2030 2030 2030 2030 2030 2030 2030]' has dtype incompatible with int64, please explicitly cast to a compatible dtype first.\n",
      "\\\\hdrive\\home$\\u045\\shepard\\GitHub\\message-ix-models\\message_ix_models\\report\\legacy\\pp_utils.py:558: FutureWarning: Setting an item of incompatible dtype is deprecated and will raise in a future error of pandas. Value '[2030 2030 2030 2030 2030 2030 2030 2030 2030 2030 2030 2030 2030]' has dtype incompatible with int64, please explicitly cast to a compatible dtype first.\n",
      "\\\\hdrive\\home$\\u045\\shepard\\GitHub\\message-ix-models\\message_ix_models\\report\\legacy\\pp_utils.py:558: FutureWarning: Setting an item of incompatible dtype is deprecated and will raise in a future error of pandas. Value '[2030 2030 2030 2030 2030 2030 2030 2030 2030 2030 2030 2030 2030]' has dtype incompatible with int64, please explicitly cast to a compatible dtype first.\n",
      "\\\\hdrive\\home$\\u045\\shepard\\GitHub\\message-ix-models\\message_ix_models\\report\\legacy\\pp_utils.py:558: FutureWarning: Setting an item of incompatible dtype is deprecated and will raise in a future error of pandas. Value '[2030 2030 2030 2030 2030 2030 2030 2030 2030 2030 2030 2030 2030]' has dtype incompatible with int64, please explicitly cast to a compatible dtype first.\n",
      "\\\\hdrive\\home$\\u045\\shepard\\GitHub\\message-ix-models\\message_ix_models\\report\\legacy\\pp_utils.py:558: FutureWarning: Setting an item of incompatible dtype is deprecated and will raise in a future error of pandas. Value '[2030 2030 2030 2030 2030 2030 2030 2030 2030 2030 2030 2030 2030]' has dtype incompatible with int64, please explicitly cast to a compatible dtype first.\n",
      "\\\\hdrive\\home$\\u045\\shepard\\GitHub\\message-ix-models\\message_ix_models\\report\\legacy\\pp_utils.py:558: FutureWarning: Setting an item of incompatible dtype is deprecated and will raise in a future error of pandas. Value '[2030 2030 2030 2030 2030 2030 2030 2030 2030 2030 2030 2030 2030]' has dtype incompatible with int64, please explicitly cast to a compatible dtype first.\n",
      "\\\\hdrive\\home$\\u045\\shepard\\GitHub\\message-ix-models\\message_ix_models\\report\\legacy\\pp_utils.py:558: FutureWarning: Setting an item of incompatible dtype is deprecated and will raise in a future error of pandas. Value '[2030 2030 2030 2030 2030 2030 2030 2030 2030 2030 2030 2030 2030]' has dtype incompatible with int64, please explicitly cast to a compatible dtype first.\n",
      "\\\\hdrive\\home$\\u045\\shepard\\GitHub\\message-ix-models\\message_ix_models\\report\\legacy\\pp_utils.py:558: FutureWarning: Setting an item of incompatible dtype is deprecated and will raise in a future error of pandas. Value '[2030 2030 2030 2030 2030 2030 2030 2030 2030 2030 2030 2030 2030]' has dtype incompatible with int64, please explicitly cast to a compatible dtype first.\n",
      "\\\\hdrive\\home$\\u045\\shepard\\GitHub\\message-ix-models\\message_ix_models\\report\\legacy\\pp_utils.py:558: FutureWarning: Setting an item of incompatible dtype is deprecated and will raise in a future error of pandas. Value '[2030 2030 2030 2030 2030 2030 2030 2030 2030 2030 2030 2030 2030]' has dtype incompatible with int64, please explicitly cast to a compatible dtype first.\n",
      "\\\\hdrive\\home$\\u045\\shepard\\GitHub\\message-ix-models\\message_ix_models\\report\\legacy\\pp_utils.py:558: FutureWarning: Setting an item of incompatible dtype is deprecated and will raise in a future error of pandas. Value '[2030 2030 2030 2030 2030 2030 2030 2030 2030 2030 2030 2030 2030]' has dtype incompatible with int64, please explicitly cast to a compatible dtype first.\n",
      "\\\\hdrive\\home$\\u045\\shepard\\GitHub\\message-ix-models\\message_ix_models\\report\\legacy\\pp_utils.py:558: FutureWarning: Setting an item of incompatible dtype is deprecated and will raise in a future error of pandas. Value '[2030 2030 2030 2030 2030 2030 2030 2030 2030 2030 2030 2030 2030]' has dtype incompatible with int64, please explicitly cast to a compatible dtype first.\n",
      "\\\\hdrive\\home$\\u045\\shepard\\GitHub\\message-ix-models\\message_ix_models\\report\\legacy\\pp_utils.py:558: FutureWarning: Setting an item of incompatible dtype is deprecated and will raise in a future error of pandas. Value '[2030 2030 2030 2030 2030 2030 2030 2030 2030 2030 2030 2030 2030]' has dtype incompatible with int64, please explicitly cast to a compatible dtype first.\n",
      "\\\\hdrive\\home$\\u045\\shepard\\GitHub\\message-ix-models\\message_ix_models\\report\\legacy\\pp_utils.py:558: FutureWarning: Setting an item of incompatible dtype is deprecated and will raise in a future error of pandas. Value '[2030 2030 2030 2030 2030 2030 2030 2030 2030 2030 2030 2030 2030]' has dtype incompatible with int64, please explicitly cast to a compatible dtype first.\n",
      "\\\\hdrive\\home$\\u045\\shepard\\GitHub\\message-ix-models\\message_ix_models\\report\\legacy\\pp_utils.py:558: FutureWarning: Setting an item of incompatible dtype is deprecated and will raise in a future error of pandas. Value '[2030 2030 2030 2030 2030 2030 2030 2030 2030 2030 2030 2030 2030]' has dtype incompatible with int64, please explicitly cast to a compatible dtype first.\n",
      "\\\\hdrive\\home$\\u045\\shepard\\GitHub\\message-ix-models\\message_ix_models\\report\\legacy\\pp_utils.py:558: FutureWarning: Setting an item of incompatible dtype is deprecated and will raise in a future error of pandas. Value '[2030 2030 2030 2030 2030 2030 2030 2030 2030 2030 2030 2030 2030]' has dtype incompatible with int64, please explicitly cast to a compatible dtype first.\n",
      "\\\\hdrive\\home$\\u045\\shepard\\GitHub\\message-ix-models\\message_ix_models\\report\\legacy\\pp_utils.py:558: FutureWarning: Setting an item of incompatible dtype is deprecated and will raise in a future error of pandas. Value '[2030 2030 2030 2030 2030 2030 2030 2030 2030 2030 2030 2030 2030]' has dtype incompatible with int64, please explicitly cast to a compatible dtype first.\n",
      "\\\\hdrive\\home$\\u045\\shepard\\GitHub\\message-ix-models\\message_ix_models\\report\\legacy\\pp_utils.py:558: FutureWarning: Setting an item of incompatible dtype is deprecated and will raise in a future error of pandas. Value '[2030 2030 2030 2030 2030 2030 2030 2030 2030 2030 2030 2030 2030]' has dtype incompatible with int64, please explicitly cast to a compatible dtype first.\n",
      "\\\\hdrive\\home$\\u045\\shepard\\GitHub\\message-ix-models\\message_ix_models\\report\\legacy\\pp_utils.py:558: FutureWarning: Setting an item of incompatible dtype is deprecated and will raise in a future error of pandas. Value '[2030 2030 2030 2030 2030 2030 2030 2030 2030 2030 2030 2030 2030]' has dtype incompatible with int64, please explicitly cast to a compatible dtype first.\n",
      "\\\\hdrive\\home$\\u045\\shepard\\GitHub\\message-ix-models\\message_ix_models\\report\\legacy\\pp_utils.py:558: FutureWarning: Setting an item of incompatible dtype is deprecated and will raise in a future error of pandas. Value '[2030 2030 2030 2030 2030 2030 2030 2030 2030 2030 2030 2030 2030]' has dtype incompatible with int64, please explicitly cast to a compatible dtype first.\n",
      "\\\\hdrive\\home$\\u045\\shepard\\GitHub\\message-ix-models\\message_ix_models\\report\\legacy\\pp_utils.py:558: FutureWarning: Setting an item of incompatible dtype is deprecated and will raise in a future error of pandas. Value '[2030 2030 2030 2030 2030 2030 2030 2030 2030 2030 2030 2030 2030]' has dtype incompatible with int64, please explicitly cast to a compatible dtype first.\n",
      "\\\\hdrive\\home$\\u045\\shepard\\GitHub\\message-ix-models\\message_ix_models\\report\\legacy\\pp_utils.py:558: FutureWarning: Setting an item of incompatible dtype is deprecated and will raise in a future error of pandas. Value '[2030 2030 2030 2030 2030 2030 2030 2030 2030 2030 2030 2030 2030]' has dtype incompatible with int64, please explicitly cast to a compatible dtype first.\n",
      "\\\\hdrive\\home$\\u045\\shepard\\GitHub\\message-ix-models\\message_ix_models\\report\\legacy\\pp_utils.py:558: FutureWarning: Setting an item of incompatible dtype is deprecated and will raise in a future error of pandas. Value '[2030 2030 2030 2030 2030 2030 2030 2030 2030 2030 2030 2030 2030]' has dtype incompatible with int64, please explicitly cast to a compatible dtype first.\n",
      "\\\\hdrive\\home$\\u045\\shepard\\GitHub\\message-ix-models\\message_ix_models\\report\\legacy\\pp_utils.py:558: FutureWarning: Setting an item of incompatible dtype is deprecated and will raise in a future error of pandas. Value '[2030 2030 2030 2030 2030 2030 2030 2030 2030 2030 2030 2030 2030]' has dtype incompatible with int64, please explicitly cast to a compatible dtype first.\n",
      "\\\\hdrive\\home$\\u045\\shepard\\GitHub\\message-ix-models\\message_ix_models\\report\\legacy\\pp_utils.py:558: FutureWarning: Setting an item of incompatible dtype is deprecated and will raise in a future error of pandas. Value '[2030 2030 2030 2030 2030 2030 2030 2030 2030 2030 2030 2030 2030]' has dtype incompatible with int64, please explicitly cast to a compatible dtype first.\n",
      "\\\\hdrive\\home$\\u045\\shepard\\GitHub\\message-ix-models\\message_ix_models\\report\\legacy\\pp_utils.py:558: FutureWarning: Setting an item of incompatible dtype is deprecated and will raise in a future error of pandas. Value '[2030 2030 2030 2030 2030 2030 2030 2030 2030 2030 2030 2030 2030]' has dtype incompatible with int64, please explicitly cast to a compatible dtype first.\n",
      "\\\\hdrive\\home$\\u045\\shepard\\GitHub\\message-ix-models\\message_ix_models\\report\\legacy\\pp_utils.py:558: FutureWarning: Setting an item of incompatible dtype is deprecated and will raise in a future error of pandas. Value '[2030 2030 2030 2030 2030 2030 2030 2030 2030 2030 2030 2030 2030]' has dtype incompatible with int64, please explicitly cast to a compatible dtype first.\n",
      "\\\\hdrive\\home$\\u045\\shepard\\GitHub\\message-ix-models\\message_ix_models\\report\\legacy\\pp_utils.py:558: FutureWarning: Setting an item of incompatible dtype is deprecated and will raise in a future error of pandas. Value '[2030 2030 2030 2030 2030 2030 2030 2030 2030 2030 2030 2030 2030]' has dtype incompatible with int64, please explicitly cast to a compatible dtype first.\n",
      "\\\\hdrive\\home$\\u045\\shepard\\GitHub\\message-ix-models\\message_ix_models\\report\\legacy\\pp_utils.py:558: FutureWarning: Setting an item of incompatible dtype is deprecated and will raise in a future error of pandas. Value '[2030 2030 2030 2030 2030 2030 2030 2030 2030 2030 2030 2030 2030]' has dtype incompatible with int64, please explicitly cast to a compatible dtype first.\n",
      "\\\\hdrive\\home$\\u045\\shepard\\GitHub\\message-ix-models\\message_ix_models\\report\\legacy\\pp_utils.py:558: FutureWarning: Setting an item of incompatible dtype is deprecated and will raise in a future error of pandas. Value '[2030 2030 2030 2030 2030 2030 2030 2030 2030 2030 2030 2030 2030]' has dtype incompatible with int64, please explicitly cast to a compatible dtype first.\n",
      "\\\\hdrive\\home$\\u045\\shepard\\GitHub\\message-ix-models\\message_ix_models\\report\\legacy\\pp_utils.py:558: FutureWarning: Setting an item of incompatible dtype is deprecated and will raise in a future error of pandas. Value '[2030 2030 2030 2030 2030 2030 2030 2030 2030 2030 2030 2030 2030]' has dtype incompatible with int64, please explicitly cast to a compatible dtype first.\n",
      "\\\\hdrive\\home$\\u045\\shepard\\GitHub\\message-ix-models\\message_ix_models\\report\\legacy\\pp_utils.py:558: FutureWarning: Setting an item of incompatible dtype is deprecated and will raise in a future error of pandas. Value '[2030 2030 2030 2030 2030 2030 2030 2030 2030 2030 2030 2030 2030]' has dtype incompatible with int64, please explicitly cast to a compatible dtype first.\n",
      "\\\\hdrive\\home$\\u045\\shepard\\GitHub\\message-ix-models\\message_ix_models\\report\\legacy\\pp_utils.py:558: FutureWarning: Setting an item of incompatible dtype is deprecated and will raise in a future error of pandas. Value '[2030 2030 2030 2030 2030 2030 2030 2030 2030 2030 2030 2030 2030]' has dtype incompatible with int64, please explicitly cast to a compatible dtype first.\n",
      "\\\\hdrive\\home$\\u045\\shepard\\GitHub\\message-ix-models\\message_ix_models\\report\\legacy\\pp_utils.py:558: FutureWarning: Setting an item of incompatible dtype is deprecated and will raise in a future error of pandas. Value '[2030 2030 2030 2030 2030 2030 2030 2030 2030 2030 2030 2030 2030]' has dtype incompatible with int64, please explicitly cast to a compatible dtype first.\n",
      "\\\\hdrive\\home$\\u045\\shepard\\GitHub\\message-ix-models\\message_ix_models\\report\\legacy\\pp_utils.py:558: FutureWarning: Setting an item of incompatible dtype is deprecated and will raise in a future error of pandas. Value '[2030 2030 2030 2030 2030 2030 2030 2030 2030 2030 2030 2030 2030]' has dtype incompatible with int64, please explicitly cast to a compatible dtype first.\n",
      "\\\\hdrive\\home$\\u045\\shepard\\GitHub\\message-ix-models\\message_ix_models\\report\\legacy\\pp_utils.py:558: FutureWarning: Setting an item of incompatible dtype is deprecated and will raise in a future error of pandas. Value '[2030 2030 2030 2030 2030 2030 2030 2030 2030 2030 2030 2030 2030]' has dtype incompatible with int64, please explicitly cast to a compatible dtype first.\n",
      "\\\\hdrive\\home$\\u045\\shepard\\GitHub\\message-ix-models\\message_ix_models\\report\\legacy\\pp_utils.py:558: FutureWarning: Setting an item of incompatible dtype is deprecated and will raise in a future error of pandas. Value '[2030 2030 2030 2030 2030 2030 2030 2030 2030 2030 2030 2030 2030]' has dtype incompatible with int64, please explicitly cast to a compatible dtype first.\n",
      "\\\\hdrive\\home$\\u045\\shepard\\GitHub\\message-ix-models\\message_ix_models\\report\\legacy\\pp_utils.py:558: FutureWarning: Setting an item of incompatible dtype is deprecated and will raise in a future error of pandas. Value '[2030 2030 2030 2030 2030 2030 2030 2030 2030 2030 2030 2030 2030]' has dtype incompatible with int64, please explicitly cast to a compatible dtype first.\n",
      "\\\\hdrive\\home$\\u045\\shepard\\GitHub\\message-ix-models\\message_ix_models\\report\\legacy\\pp_utils.py:558: FutureWarning: Setting an item of incompatible dtype is deprecated and will raise in a future error of pandas. Value '[2030 2030 2030 2030 2030 2030 2030 2030 2030 2030 2030 2030 2030]' has dtype incompatible with int64, please explicitly cast to a compatible dtype first.\n",
      "\\\\hdrive\\home$\\u045\\shepard\\GitHub\\message-ix-models\\message_ix_models\\report\\legacy\\pp_utils.py:558: FutureWarning: Setting an item of incompatible dtype is deprecated and will raise in a future error of pandas. Value '[2030 2030 2030 2030 2030 2030 2030 2030 2030 2030 2030 2030 2030]' has dtype incompatible with int64, please explicitly cast to a compatible dtype first.\n",
      "\\\\hdrive\\home$\\u045\\shepard\\GitHub\\message-ix-models\\message_ix_models\\report\\legacy\\pp_utils.py:558: FutureWarning: Setting an item of incompatible dtype is deprecated and will raise in a future error of pandas. Value '[2030 2030 2030 2030 2030 2030 2030 2030 2030 2030 2030 2030 2030]' has dtype incompatible with int64, please explicitly cast to a compatible dtype first.\n",
      "\\\\hdrive\\home$\\u045\\shepard\\GitHub\\message-ix-models\\message_ix_models\\report\\legacy\\pp_utils.py:558: FutureWarning: Setting an item of incompatible dtype is deprecated and will raise in a future error of pandas. Value '[2030 2030 2030 2030 2030 2030 2030 2030 2030 2030 2030 2030 2030]' has dtype incompatible with int64, please explicitly cast to a compatible dtype first.\n",
      "\\\\hdrive\\home$\\u045\\shepard\\GitHub\\message-ix-models\\message_ix_models\\report\\legacy\\pp_utils.py:558: FutureWarning: Setting an item of incompatible dtype is deprecated and will raise in a future error of pandas. Value '[2030 2030 2030 2030 2030 2030 2030 2030 2030 2030 2030 2030 2030]' has dtype incompatible with int64, please explicitly cast to a compatible dtype first.\n",
      "\\\\hdrive\\home$\\u045\\shepard\\GitHub\\message-ix-models\\message_ix_models\\report\\legacy\\pp_utils.py:558: FutureWarning: Setting an item of incompatible dtype is deprecated and will raise in a future error of pandas. Value '[2030 2030 2030 2030 2030 2030 2030 2030 2030 2030 2030 2030 2030]' has dtype incompatible with int64, please explicitly cast to a compatible dtype first.\n",
      "\\\\hdrive\\home$\\u045\\shepard\\GitHub\\message-ix-models\\message_ix_models\\report\\legacy\\pp_utils.py:558: FutureWarning: Setting an item of incompatible dtype is deprecated and will raise in a future error of pandas. Value '[2030 2030 2030 2030 2030 2030 2030 2030 2030 2030 2030 2030 2030]' has dtype incompatible with int64, please explicitly cast to a compatible dtype first.\n",
      "\\\\hdrive\\home$\\u045\\shepard\\GitHub\\message-ix-models\\message_ix_models\\report\\legacy\\pp_utils.py:558: FutureWarning: Setting an item of incompatible dtype is deprecated and will raise in a future error of pandas. Value '[2030 2030 2030 2030 2030 2030 2030 2030 2030 2030 2030 2030 2030]' has dtype incompatible with int64, please explicitly cast to a compatible dtype first.\n",
      "\\\\hdrive\\home$\\u045\\shepard\\GitHub\\message-ix-models\\message_ix_models\\report\\legacy\\pp_utils.py:558: FutureWarning: Setting an item of incompatible dtype is deprecated and will raise in a future error of pandas. Value '[2030 2030 2030 2030 2030 2030 2030 2030 2030 2030 2030 2030 2030]' has dtype incompatible with int64, please explicitly cast to a compatible dtype first.\n",
      "\\\\hdrive\\home$\\u045\\shepard\\GitHub\\message-ix-models\\message_ix_models\\report\\legacy\\pp_utils.py:558: FutureWarning: Setting an item of incompatible dtype is deprecated and will raise in a future error of pandas. Value '[2030 2030 2030 2030 2030 2030 2030 2030 2030 2030 2030 2030 2030]' has dtype incompatible with int64, please explicitly cast to a compatible dtype first.\n",
      "\\\\hdrive\\home$\\u045\\shepard\\GitHub\\message-ix-models\\message_ix_models\\report\\legacy\\pp_utils.py:558: FutureWarning: Setting an item of incompatible dtype is deprecated and will raise in a future error of pandas. Value '[2030 2030 2030 2030 2030 2030 2030 2030 2030 2030 2030 2030 2030]' has dtype incompatible with int64, please explicitly cast to a compatible dtype first.\n",
      "\\\\hdrive\\home$\\u045\\shepard\\GitHub\\message-ix-models\\message_ix_models\\report\\legacy\\pp_utils.py:558: FutureWarning: Setting an item of incompatible dtype is deprecated and will raise in a future error of pandas. Value '[2030 2030 2030 2030 2030 2030 2030 2030 2030 2030 2030 2030 2030]' has dtype incompatible with int64, please explicitly cast to a compatible dtype first.\n",
      "\\\\hdrive\\home$\\u045\\shepard\\GitHub\\message-ix-models\\message_ix_models\\report\\legacy\\pp_utils.py:558: FutureWarning: Setting an item of incompatible dtype is deprecated and will raise in a future error of pandas. Value '[2030 2030 2030 2030 2030 2030 2030 2030 2030 2030 2030 2030 2030]' has dtype incompatible with int64, please explicitly cast to a compatible dtype first.\n",
      "\\\\hdrive\\home$\\u045\\shepard\\GitHub\\message-ix-models\\message_ix_models\\report\\legacy\\pp_utils.py:558: FutureWarning: Setting an item of incompatible dtype is deprecated and will raise in a future error of pandas. Value '[2030 2030 2030 2030 2030 2030 2030 2030 2030 2030 2030 2030 2030]' has dtype incompatible with int64, please explicitly cast to a compatible dtype first.\n",
      "\\\\hdrive\\home$\\u045\\shepard\\GitHub\\message-ix-models\\message_ix_models\\report\\legacy\\pp_utils.py:558: FutureWarning: Setting an item of incompatible dtype is deprecated and will raise in a future error of pandas. Value '[2030 2030 2030 2030 2030 2030 2030 2030 2030 2030 2030 2030 2030]' has dtype incompatible with int64, please explicitly cast to a compatible dtype first.\n",
      "\\\\hdrive\\home$\\u045\\shepard\\GitHub\\message-ix-models\\message_ix_models\\report\\legacy\\pp_utils.py:558: FutureWarning: Setting an item of incompatible dtype is deprecated and will raise in a future error of pandas. Value '[2030 2030 2030 2030 2030 2030 2030 2030 2030 2030 2030 2030 2030]' has dtype incompatible with int64, please explicitly cast to a compatible dtype first.\n",
      "\\\\hdrive\\home$\\u045\\shepard\\GitHub\\message-ix-models\\message_ix_models\\report\\legacy\\pp_utils.py:558: FutureWarning: Setting an item of incompatible dtype is deprecated and will raise in a future error of pandas. Value '[2030 2030 2030 2030 2030 2030 2030 2030 2030 2030 2030 2030 2030]' has dtype incompatible with int64, please explicitly cast to a compatible dtype first.\n",
      "\\\\hdrive\\home$\\u045\\shepard\\GitHub\\message-ix-models\\message_ix_models\\report\\legacy\\pp_utils.py:558: FutureWarning: Setting an item of incompatible dtype is deprecated and will raise in a future error of pandas. Value '[2030 2030 2030 2030 2030 2030 2030 2030 2030 2030 2030 2030 2030]' has dtype incompatible with int64, please explicitly cast to a compatible dtype first.\n",
      "\\\\hdrive\\home$\\u045\\shepard\\GitHub\\message-ix-models\\message_ix_models\\report\\legacy\\pp_utils.py:558: FutureWarning: Setting an item of incompatible dtype is deprecated and will raise in a future error of pandas. Value '[2030 2030 2030 2030 2030 2030 2030 2030 2030 2030 2030 2030 2030]' has dtype incompatible with int64, please explicitly cast to a compatible dtype first.\n",
      "\\\\hdrive\\home$\\u045\\shepard\\GitHub\\message-ix-models\\message_ix_models\\report\\legacy\\pp_utils.py:558: FutureWarning: Setting an item of incompatible dtype is deprecated and will raise in a future error of pandas. Value '[2030 2030 2030 2030 2030 2030 2030 2030 2030 2030 2030 2030 2030]' has dtype incompatible with int64, please explicitly cast to a compatible dtype first.\n",
      "\\\\hdrive\\home$\\u045\\shepard\\GitHub\\message-ix-models\\message_ix_models\\report\\legacy\\pp_utils.py:558: FutureWarning: Setting an item of incompatible dtype is deprecated and will raise in a future error of pandas. Value '[2030 2030 2030 2030 2030 2030 2030 2030 2030 2030 2030 2030 2030]' has dtype incompatible with int64, please explicitly cast to a compatible dtype first.\n",
      "\\\\hdrive\\home$\\u045\\shepard\\GitHub\\message-ix-models\\message_ix_models\\report\\legacy\\pp_utils.py:558: FutureWarning: Setting an item of incompatible dtype is deprecated and will raise in a future error of pandas. Value '[2030 2030 2030 2030 2030 2030 2030 2030 2030 2030 2030 2030 2030]' has dtype incompatible with int64, please explicitly cast to a compatible dtype first.\n",
      "\\\\hdrive\\home$\\u045\\shepard\\GitHub\\message-ix-models\\message_ix_models\\report\\legacy\\pp_utils.py:558: FutureWarning: Setting an item of incompatible dtype is deprecated and will raise in a future error of pandas. Value '[2030 2030 2030 2030 2030 2030 2030 2030 2030 2030 2030 2030 2030]' has dtype incompatible with int64, please explicitly cast to a compatible dtype first.\n",
      "\\\\hdrive\\home$\\u045\\shepard\\GitHub\\message-ix-models\\message_ix_models\\report\\legacy\\pp_utils.py:558: FutureWarning: Setting an item of incompatible dtype is deprecated and will raise in a future error of pandas. Value '[2030 2030 2030 2030 2030 2030 2030 2030 2030 2030 2030 2030 2030]' has dtype incompatible with int64, please explicitly cast to a compatible dtype first.\n",
      "\\\\hdrive\\home$\\u045\\shepard\\GitHub\\message-ix-models\\message_ix_models\\report\\legacy\\pp_utils.py:558: FutureWarning: Setting an item of incompatible dtype is deprecated and will raise in a future error of pandas. Value '[2030 2030 2030 2030 2030 2030 2030 2030 2030 2030 2030 2030 2030]' has dtype incompatible with int64, please explicitly cast to a compatible dtype first.\n",
      "\\\\hdrive\\home$\\u045\\shepard\\GitHub\\message-ix-models\\message_ix_models\\report\\legacy\\pp_utils.py:558: FutureWarning: Setting an item of incompatible dtype is deprecated and will raise in a future error of pandas. Value '[2030 2030 2030 2030 2030 2030 2030 2030 2030 2030 2030 2030 2030]' has dtype incompatible with int64, please explicitly cast to a compatible dtype first.\n",
      "\\\\hdrive\\home$\\u045\\shepard\\GitHub\\message-ix-models\\message_ix_models\\report\\legacy\\pp_utils.py:558: FutureWarning: Setting an item of incompatible dtype is deprecated and will raise in a future error of pandas. Value '[2030 2030 2030 2030 2030 2030 2030 2030 2030 2030 2030 2030 2030]' has dtype incompatible with int64, please explicitly cast to a compatible dtype first.\n",
      "\\\\hdrive\\home$\\u045\\shepard\\GitHub\\message-ix-models\\message_ix_models\\report\\legacy\\pp_utils.py:558: FutureWarning: Setting an item of incompatible dtype is deprecated and will raise in a future error of pandas. Value '[2030 2030 2030 2030 2030 2030 2030 2030 2030 2030 2030 2030 2030]' has dtype incompatible with int64, please explicitly cast to a compatible dtype first.\n",
      "\\\\hdrive\\home$\\u045\\shepard\\GitHub\\message-ix-models\\message_ix_models\\report\\legacy\\pp_utils.py:558: FutureWarning: Setting an item of incompatible dtype is deprecated and will raise in a future error of pandas. Value '[2030 2030 2030 2030 2030 2030 2030 2030 2030 2030 2030 2030 2030]' has dtype incompatible with int64, please explicitly cast to a compatible dtype first.\n",
      "\\\\hdrive\\home$\\u045\\shepard\\GitHub\\message-ix-models\\message_ix_models\\report\\legacy\\pp_utils.py:558: FutureWarning: Setting an item of incompatible dtype is deprecated and will raise in a future error of pandas. Value '[2030 2030 2030 2030 2030 2030 2030 2030 2030 2030 2030 2030 2030]' has dtype incompatible with int64, please explicitly cast to a compatible dtype first.\n",
      "\\\\hdrive\\home$\\u045\\shepard\\GitHub\\message-ix-models\\message_ix_models\\report\\legacy\\pp_utils.py:558: FutureWarning: Setting an item of incompatible dtype is deprecated and will raise in a future error of pandas. Value '[2030 2030 2030 2030 2030 2030 2030 2030 2030 2030 2030 2030 2030]' has dtype incompatible with int64, please explicitly cast to a compatible dtype first.\n",
      "\\\\hdrive\\home$\\u045\\shepard\\GitHub\\message-ix-models\\message_ix_models\\report\\legacy\\pp_utils.py:558: FutureWarning: Setting an item of incompatible dtype is deprecated and will raise in a future error of pandas. Value '[2030 2030 2030 2030 2030 2030 2030 2030 2030 2030 2030 2030 2030]' has dtype incompatible with int64, please explicitly cast to a compatible dtype first.\n",
      "\\\\hdrive\\home$\\u045\\shepard\\GitHub\\message-ix-models\\message_ix_models\\report\\legacy\\pp_utils.py:558: FutureWarning: Setting an item of incompatible dtype is deprecated and will raise in a future error of pandas. Value '[2030 2030 2030 2030 2030 2030 2030 2030 2030 2030 2030 2030 2030]' has dtype incompatible with int64, please explicitly cast to a compatible dtype first.\n",
      "\\\\hdrive\\home$\\u045\\shepard\\GitHub\\message-ix-models\\message_ix_models\\report\\legacy\\pp_utils.py:558: FutureWarning: Setting an item of incompatible dtype is deprecated and will raise in a future error of pandas. Value '[2030 2030 2030 2030 2030 2030 2030 2030 2030 2030 2030 2030 2030]' has dtype incompatible with int64, please explicitly cast to a compatible dtype first.\n",
      "\\\\hdrive\\home$\\u045\\shepard\\GitHub\\message-ix-models\\message_ix_models\\report\\legacy\\pp_utils.py:558: FutureWarning: Setting an item of incompatible dtype is deprecated and will raise in a future error of pandas. Value '[2030 2030 2030 2030 2030 2030 2030 2030 2030 2030 2030 2030 2030]' has dtype incompatible with int64, please explicitly cast to a compatible dtype first.\n",
      "\\\\hdrive\\home$\\u045\\shepard\\GitHub\\message-ix-models\\message_ix_models\\report\\legacy\\pp_utils.py:558: FutureWarning: Setting an item of incompatible dtype is deprecated and will raise in a future error of pandas. Value '[2030 2030 2030 2030 2030 2030 2030 2030 2030 2030 2030 2030 2030]' has dtype incompatible with int64, please explicitly cast to a compatible dtype first.\n",
      "\\\\hdrive\\home$\\u045\\shepard\\GitHub\\message-ix-models\\message_ix_models\\report\\legacy\\pp_utils.py:558: FutureWarning: Setting an item of incompatible dtype is deprecated and will raise in a future error of pandas. Value '[2030 2030 2030 2030 2030 2030 2030 2030 2030 2030 2030 2030 2030]' has dtype incompatible with int64, please explicitly cast to a compatible dtype first.\n",
      "\\\\hdrive\\home$\\u045\\shepard\\GitHub\\message-ix-models\\message_ix_models\\report\\legacy\\pp_utils.py:558: FutureWarning: Setting an item of incompatible dtype is deprecated and will raise in a future error of pandas. Value '[2030 2030 2030 2030 2030 2030 2030 2030 2030 2030 2030 2030 2030]' has dtype incompatible with int64, please explicitly cast to a compatible dtype first.\n",
      "\\\\hdrive\\home$\\u045\\shepard\\GitHub\\message-ix-models\\message_ix_models\\report\\legacy\\pp_utils.py:558: FutureWarning: Setting an item of incompatible dtype is deprecated and will raise in a future error of pandas. Value '[2030 2030 2030 2030 2030 2030 2030 2030 2030 2030 2030 2030 2030]' has dtype incompatible with int64, please explicitly cast to a compatible dtype first.\n",
      "\\\\hdrive\\home$\\u045\\shepard\\GitHub\\message-ix-models\\message_ix_models\\report\\legacy\\pp_utils.py:558: FutureWarning: Setting an item of incompatible dtype is deprecated and will raise in a future error of pandas. Value '[2030 2030 2030 2030 2030 2030 2030 2030 2030 2030 2030 2030 2030]' has dtype incompatible with int64, please explicitly cast to a compatible dtype first.\n",
      "\\\\hdrive\\home$\\u045\\shepard\\GitHub\\message-ix-models\\message_ix_models\\report\\legacy\\pp_utils.py:558: FutureWarning: Setting an item of incompatible dtype is deprecated and will raise in a future error of pandas. Value '[2030 2030 2030 2030 2030 2030 2030 2030 2030 2030 2030 2030 2030 2030\n",
      " 2030 2030 2030 2030 2030 2030 2030 2030 2030 2030 2030 2030 2030 2030\n",
      " 2030 2030 2030 2030 2030 2030 2030 2030 2030 2030 2030]' has dtype incompatible with int64, please explicitly cast to a compatible dtype first.\n",
      "\\\\hdrive\\home$\\u045\\shepard\\GitHub\\message-ix-models\\message_ix_models\\report\\legacy\\pp_utils.py:558: FutureWarning: Setting an item of incompatible dtype is deprecated and will raise in a future error of pandas. Value '[2030 2030 2030 2030 2030 2030 2030 2030 2030 2030 2030 2030 2030 2030\n",
      " 2030 2030 2030 2030 2030 2030 2030 2030 2030 2030 2030 2030 2030 2030\n",
      " 2030 2030 2030 2030 2030 2030 2030 2030 2030 2030 2030 2030 2030 2030\n",
      " 2030 2030 2030 2030 2030 2030 2030 2030 2030 2030 2030 2030 2030 2030\n",
      " 2030 2030 2030 2030 2030 2030 2030 2030 2030 2030 2030 2030 2030 2030\n",
      " 2030 2030 2030 2030 2030 2030 2030 2030 2030 2030 2030 2030 2030 2030\n",
      " 2030 2030 2030 2030 2030 2030 2030 2030 2030 2030 2030 2030 2030 2030\n",
      " 2030 2030 2030 2030 2030 2030]' has dtype incompatible with int64, please explicitly cast to a compatible dtype first.\n",
      "\\\\hdrive\\home$\\u045\\shepard\\GitHub\\message-ix-models\\message_ix_models\\report\\legacy\\pp_utils.py:558: FutureWarning: Setting an item of incompatible dtype is deprecated and will raise in a future error of pandas. Value '[2030 2030 2030 2030 2030 2030 2030 2030 2030 2030 2030 2030 2030 2030\n",
      " 2030 2030 2030 2030 2030 2030 2030 2030 2030 2030 2030 2030 2030 2030\n",
      " 2030 2030 2030 2030 2030 2030 2030 2030 2030 2030 2030 2030 2030 2030\n",
      " 2030 2030 2030 2030 2030 2030 2030 2030 2030 2030 2030 2030 2030 2030\n",
      " 2030 2030 2030 2030 2030 2030 2030 2030 2030 2030 2030 2030 2030 2030\n",
      " 2030 2030 2030 2030 2030 2030 2030 2030 2030 2030 2030 2030 2030 2030\n",
      " 2030 2030 2030 2030 2030 2030 2030 2030 2030 2030 2030 2030 2030 2030\n",
      " 2030 2030 2030 2030 2030 2030 2030 2030 2030 2030 2030 2030 2030 2030\n",
      " 2030 2030 2030 2030 2030 2030 2030 2030 2030 2030 2030 2030 2030 2030\n",
      " 2030 2030 2030 2030 2030 2030 2030 2030 2030 2030 2030 2030 2030 2030\n",
      " 2030 2030 2030 2030 2030 2030 2030 2030 2030 2030 2030 2030 2030 2030\n",
      " 2030 2030]' has dtype incompatible with int64, please explicitly cast to a compatible dtype first.\n",
      "\\\\hdrive\\home$\\u045\\shepard\\GitHub\\message-ix-models\\message_ix_models\\report\\legacy\\pp_utils.py:558: FutureWarning: Setting an item of incompatible dtype is deprecated and will raise in a future error of pandas. Value '[2030 2030 2030 2030 2030 2030 2030 2030 2030 2030 2030 2030 2030]' has dtype incompatible with int64, please explicitly cast to a compatible dtype first.\n",
      "\\\\hdrive\\home$\\u045\\shepard\\GitHub\\message-ix-models\\message_ix_models\\report\\legacy\\pp_utils.py:558: FutureWarning: Setting an item of incompatible dtype is deprecated and will raise in a future error of pandas. Value '[2030 2030 2030 2030 2030 2030 2030 2030 2030 2030 2030 2030 2030]' has dtype incompatible with int64, please explicitly cast to a compatible dtype first.\n",
      "\\\\hdrive\\home$\\u045\\shepard\\GitHub\\message-ix-models\\message_ix_models\\report\\legacy\\pp_utils.py:558: FutureWarning: Setting an item of incompatible dtype is deprecated and will raise in a future error of pandas. Value '[2030 2030 2030 2030 2030 2030 2030 2030 2030 2030 2030 2030 2030]' has dtype incompatible with int64, please explicitly cast to a compatible dtype first.\n",
      "\\\\hdrive\\home$\\u045\\shepard\\GitHub\\message-ix-models\\message_ix_models\\report\\legacy\\pp_utils.py:558: FutureWarning: Setting an item of incompatible dtype is deprecated and will raise in a future error of pandas. Value '[2030 2030 2030 2030 2030 2030 2030 2030 2030 2030 2030 2030 2030]' has dtype incompatible with int64, please explicitly cast to a compatible dtype first.\n",
      "\\\\hdrive\\home$\\u045\\shepard\\GitHub\\message-ix-models\\message_ix_models\\report\\legacy\\pp_utils.py:558: FutureWarning: Setting an item of incompatible dtype is deprecated and will raise in a future error of pandas. Value '[2030 2030 2030 2030 2030 2030 2030 2030 2030 2030 2030 2030 2030]' has dtype incompatible with int64, please explicitly cast to a compatible dtype first.\n",
      "\\\\hdrive\\home$\\u045\\shepard\\GitHub\\message-ix-models\\message_ix_models\\report\\legacy\\pp_utils.py:558: FutureWarning: Setting an item of incompatible dtype is deprecated and will raise in a future error of pandas. Value '[2030 2030 2030 2030 2030 2030 2030 2030 2030 2030 2030 2030 2030]' has dtype incompatible with int64, please explicitly cast to a compatible dtype first.\n",
      "\\\\hdrive\\home$\\u045\\shepard\\GitHub\\message-ix-models\\message_ix_models\\report\\legacy\\pp_utils.py:558: FutureWarning: Setting an item of incompatible dtype is deprecated and will raise in a future error of pandas. Value '[2030 2030 2030 2030 2030 2030 2030 2030 2030 2030 2030 2030 2030]' has dtype incompatible with int64, please explicitly cast to a compatible dtype first.\n",
      "\\\\hdrive\\home$\\u045\\shepard\\GitHub\\message-ix-models\\message_ix_models\\report\\legacy\\pp_utils.py:558: FutureWarning: Setting an item of incompatible dtype is deprecated and will raise in a future error of pandas. Value '[2030 2030 2030 2030 2030 2030 2030 2030 2030 2030 2030 2030 2030]' has dtype incompatible with int64, please explicitly cast to a compatible dtype first.\n",
      "\\\\hdrive\\home$\\u045\\shepard\\GitHub\\message-ix-models\\message_ix_models\\report\\legacy\\pp_utils.py:558: FutureWarning: Setting an item of incompatible dtype is deprecated and will raise in a future error of pandas. Value '[2030 2030 2030 2030 2030 2030 2030 2030 2030 2030 2030 2030 2030]' has dtype incompatible with int64, please explicitly cast to a compatible dtype first.\n",
      "\\\\hdrive\\home$\\u045\\shepard\\GitHub\\message-ix-models\\message_ix_models\\report\\legacy\\pp_utils.py:558: FutureWarning: Setting an item of incompatible dtype is deprecated and will raise in a future error of pandas. Value '[2030 2030 2030 2030 2030 2030 2030 2030 2030 2030 2030 2030 2030]' has dtype incompatible with int64, please explicitly cast to a compatible dtype first.\n",
      "\\\\hdrive\\home$\\u045\\shepard\\GitHub\\message-ix-models\\message_ix_models\\report\\legacy\\pp_utils.py:558: FutureWarning: Setting an item of incompatible dtype is deprecated and will raise in a future error of pandas. Value '[2030 2030 2030 2030 2030 2030 2030 2030 2030 2030 2030 2030 2030]' has dtype incompatible with int64, please explicitly cast to a compatible dtype first.\n",
      "\\\\hdrive\\home$\\u045\\shepard\\GitHub\\message-ix-models\\message_ix_models\\report\\legacy\\pp_utils.py:558: FutureWarning: Setting an item of incompatible dtype is deprecated and will raise in a future error of pandas. Value '[2030 2030 2030 2030 2030 2030 2030 2030 2030 2030 2030 2030 2030]' has dtype incompatible with int64, please explicitly cast to a compatible dtype first.\n",
      "\\\\hdrive\\home$\\u045\\shepard\\GitHub\\message-ix-models\\message_ix_models\\report\\legacy\\pp_utils.py:558: FutureWarning: Setting an item of incompatible dtype is deprecated and will raise in a future error of pandas. Value '[2030 2030 2030 2030 2030 2030 2030 2030 2030 2030 2030 2030 2030]' has dtype incompatible with int64, please explicitly cast to a compatible dtype first.\n",
      "\\\\hdrive\\home$\\u045\\shepard\\GitHub\\message-ix-models\\message_ix_models\\report\\legacy\\pp_utils.py:558: FutureWarning: Setting an item of incompatible dtype is deprecated and will raise in a future error of pandas. Value '[2030 2030 2030 2030 2030 2030 2030 2030 2030 2030 2030 2030 2030]' has dtype incompatible with int64, please explicitly cast to a compatible dtype first.\n",
      "\\\\hdrive\\home$\\u045\\shepard\\GitHub\\message-ix-models\\message_ix_models\\report\\legacy\\pp_utils.py:558: FutureWarning: Setting an item of incompatible dtype is deprecated and will raise in a future error of pandas. Value '[2030 2030 2030 2030 2030 2030 2030 2030 2030 2030 2030 2030 2030]' has dtype incompatible with int64, please explicitly cast to a compatible dtype first.\n",
      "\\\\hdrive\\home$\\u045\\shepard\\GitHub\\message-ix-models\\message_ix_models\\report\\legacy\\pp_utils.py:558: FutureWarning: Setting an item of incompatible dtype is deprecated and will raise in a future error of pandas. Value '[2030 2030 2030 2030 2030 2030 2030 2030 2030 2030 2030 2030 2030]' has dtype incompatible with int64, please explicitly cast to a compatible dtype first.\n",
      "\\\\hdrive\\home$\\u045\\shepard\\GitHub\\message-ix-models\\message_ix_models\\report\\legacy\\pp_utils.py:558: FutureWarning: Setting an item of incompatible dtype is deprecated and will raise in a future error of pandas. Value '[2030 2030 2030 2030 2030 2030 2030 2030 2030 2030 2030 2030 2030]' has dtype incompatible with int64, please explicitly cast to a compatible dtype first.\n",
      "\\\\hdrive\\home$\\u045\\shepard\\GitHub\\message-ix-models\\message_ix_models\\report\\legacy\\pp_utils.py:558: FutureWarning: Setting an item of incompatible dtype is deprecated and will raise in a future error of pandas. Value '[2030 2030 2030 2030 2030 2030 2030 2030 2030 2030 2030 2030 2030]' has dtype incompatible with int64, please explicitly cast to a compatible dtype first.\n",
      "\\\\hdrive\\home$\\u045\\shepard\\GitHub\\message-ix-models\\message_ix_models\\report\\legacy\\pp_utils.py:558: FutureWarning: Setting an item of incompatible dtype is deprecated and will raise in a future error of pandas. Value '[2030 2030 2030 2030 2030 2030 2030 2030 2030 2030 2030 2030 2030]' has dtype incompatible with int64, please explicitly cast to a compatible dtype first.\n",
      "\\\\hdrive\\home$\\u045\\shepard\\GitHub\\message-ix-models\\message_ix_models\\report\\legacy\\pp_utils.py:558: FutureWarning: Setting an item of incompatible dtype is deprecated and will raise in a future error of pandas. Value '[2030 2030 2030 2030 2030 2030 2030 2030 2030 2030 2030 2030 2030]' has dtype incompatible with int64, please explicitly cast to a compatible dtype first.\n",
      "\\\\hdrive\\home$\\u045\\shepard\\GitHub\\message-ix-models\\message_ix_models\\report\\legacy\\pp_utils.py:558: FutureWarning: Setting an item of incompatible dtype is deprecated and will raise in a future error of pandas. Value '[2030 2030 2030 2030 2030 2030 2030 2030 2030 2030 2030 2030 2030 2030\n",
      " 2030 2030 2030 2030 2030 2030 2030 2030 2030 2030 2030 2030 2030 2030\n",
      " 2030 2030 2030 2030 2030 2030 2030 2030 2030 2030 2030 2030 2030 2030\n",
      " 2030 2030 2030 2030 2030 2030 2030 2030 2030 2030]' has dtype incompatible with int64, please explicitly cast to a compatible dtype first.\n",
      "\\\\hdrive\\home$\\u045\\shepard\\GitHub\\message-ix-models\\message_ix_models\\report\\legacy\\pp_utils.py:558: FutureWarning: Setting an item of incompatible dtype is deprecated and will raise in a future error of pandas. Value '[2030 2030 2030 2030 2030 2030 2030 2030 2030 2030 2030 2030 2030]' has dtype incompatible with int64, please explicitly cast to a compatible dtype first.\n",
      "\\\\hdrive\\home$\\u045\\shepard\\GitHub\\message-ix-models\\message_ix_models\\report\\legacy\\pp_utils.py:558: FutureWarning: Setting an item of incompatible dtype is deprecated and will raise in a future error of pandas. Value '[2030 2030 2030 2030 2030 2030 2030 2030 2030 2030 2030 2030 2030 2030\n",
      " 2030 2030 2030 2030 2030 2030 2030 2030 2030 2030 2030 2030 2030 2030\n",
      " 2030 2030 2030 2030 2030 2030 2030 2030 2030 2030 2030 2030 2030 2030\n",
      " 2030 2030 2030 2030 2030 2030 2030 2030 2030 2030]' has dtype incompatible with int64, please explicitly cast to a compatible dtype first.\n",
      "\\\\hdrive\\home$\\u045\\shepard\\GitHub\\message-ix-models\\message_ix_models\\report\\legacy\\pp_utils.py:558: FutureWarning: Setting an item of incompatible dtype is deprecated and will raise in a future error of pandas. Value '[2030 2030 2030 2030 2030 2030 2030 2030 2030 2030 2030 2030 2030]' has dtype incompatible with int64, please explicitly cast to a compatible dtype first.\n",
      "\\\\hdrive\\home$\\u045\\shepard\\GitHub\\message-ix-models\\message_ix_models\\report\\legacy\\pp_utils.py:558: FutureWarning: Setting an item of incompatible dtype is deprecated and will raise in a future error of pandas. Value '[2030 2030 2030 2030 2030 2030 2030 2030 2030 2030 2030 2030 2030 2030\n",
      " 2030 2030 2030 2030 2030 2030 2030 2030 2030 2030 2030 2030 2030 2030\n",
      " 2030 2030 2030 2030 2030 2030 2030 2030 2030 2030 2030 2030 2030 2030\n",
      " 2030 2030 2030 2030 2030 2030 2030 2030 2030 2030]' has dtype incompatible with int64, please explicitly cast to a compatible dtype first.\n",
      "\\\\hdrive\\home$\\u045\\shepard\\GitHub\\message-ix-models\\message_ix_models\\report\\legacy\\pp_utils.py:558: FutureWarning: Setting an item of incompatible dtype is deprecated and will raise in a future error of pandas. Value '[2030 2030 2030 2030 2030 2030 2030 2030 2030 2030 2030 2030 2030]' has dtype incompatible with int64, please explicitly cast to a compatible dtype first.\n",
      "\\\\hdrive\\home$\\u045\\shepard\\GitHub\\message-ix-models\\message_ix_models\\report\\legacy\\pp_utils.py:558: FutureWarning: Setting an item of incompatible dtype is deprecated and will raise in a future error of pandas. Value '[2030 2030 2030 2030 2030 2030 2030 2030 2030 2030 2030 2030 2030]' has dtype incompatible with int64, please explicitly cast to a compatible dtype first.\n",
      "\\\\hdrive\\home$\\u045\\shepard\\GitHub\\message-ix-models\\message_ix_models\\report\\legacy\\pp_utils.py:558: FutureWarning: Setting an item of incompatible dtype is deprecated and will raise in a future error of pandas. Value '[2030 2030 2030 2030 2030 2030 2030 2030 2030 2030 2030 2030 2030 2030\n",
      " 2030 2030 2030 2030 2030 2030 2030 2030 2030 2030 2030 2030 2030 2030\n",
      " 2030 2030 2030 2030 2030 2030 2030 2030 2030 2030 2030 2030 2030 2030\n",
      " 2030 2030 2030 2030 2030 2030 2030 2030 2030 2030]' has dtype incompatible with int64, please explicitly cast to a compatible dtype first.\n",
      "\\\\hdrive\\home$\\u045\\shepard\\GitHub\\message-ix-models\\message_ix_models\\report\\legacy\\pp_utils.py:558: FutureWarning: Setting an item of incompatible dtype is deprecated and will raise in a future error of pandas. Value '[2030 2030 2030 2030 2030 2030 2030 2030 2030 2030 2030 2030 2030]' has dtype incompatible with int64, please explicitly cast to a compatible dtype first.\n",
      "\\\\hdrive\\home$\\u045\\shepard\\GitHub\\message-ix-models\\message_ix_models\\report\\legacy\\pp_utils.py:558: FutureWarning: Setting an item of incompatible dtype is deprecated and will raise in a future error of pandas. Value '[2030 2030 2030 2030 2030 2030 2030 2030 2030 2030 2030 2030 2030]' has dtype incompatible with int64, please explicitly cast to a compatible dtype first.\n",
      "\\\\hdrive\\home$\\u045\\shepard\\GitHub\\message-ix-models\\message_ix_models\\report\\legacy\\pp_utils.py:558: FutureWarning: Setting an item of incompatible dtype is deprecated and will raise in a future error of pandas. Value '[2030 2030 2030 2030 2030 2030 2030 2030 2030 2030 2030 2030 2030]' has dtype incompatible with int64, please explicitly cast to a compatible dtype first.\n",
      "\\\\hdrive\\home$\\u045\\shepard\\GitHub\\message-ix-models\\message_ix_models\\report\\legacy\\pp_utils.py:558: FutureWarning: Setting an item of incompatible dtype is deprecated and will raise in a future error of pandas. Value '[2030 2030 2030 2030 2030 2030 2030 2030 2030 2030 2030 2030 2030]' has dtype incompatible with int64, please explicitly cast to a compatible dtype first.\n",
      "\\\\hdrive\\home$\\u045\\shepard\\GitHub\\message-ix-models\\message_ix_models\\report\\legacy\\pp_utils.py:558: FutureWarning: Setting an item of incompatible dtype is deprecated and will raise in a future error of pandas. Value '[2030 2030 2030 2030 2030 2030 2030 2030 2030 2030 2030 2030 2030]' has dtype incompatible with int64, please explicitly cast to a compatible dtype first.\n",
      "\\\\hdrive\\home$\\u045\\shepard\\GitHub\\message-ix-models\\message_ix_models\\report\\legacy\\pp_utils.py:558: FutureWarning: Setting an item of incompatible dtype is deprecated and will raise in a future error of pandas. Value '[2030 2030 2030 2030 2030 2030 2030 2030 2030 2030 2030 2030 2030]' has dtype incompatible with int64, please explicitly cast to a compatible dtype first.\n",
      "\\\\hdrive\\home$\\u045\\shepard\\GitHub\\message-ix-models\\message_ix_models\\report\\legacy\\pp_utils.py:558: FutureWarning: Setting an item of incompatible dtype is deprecated and will raise in a future error of pandas. Value '[2030 2030 2030 2030 2030 2030 2030 2030 2030 2030 2030 2030 2030]' has dtype incompatible with int64, please explicitly cast to a compatible dtype first.\n",
      "\\\\hdrive\\home$\\u045\\shepard\\GitHub\\message-ix-models\\message_ix_models\\report\\legacy\\pp_utils.py:558: FutureWarning: Setting an item of incompatible dtype is deprecated and will raise in a future error of pandas. Value '[2030 2030 2030 2030 2030 2030 2030 2030 2030 2030 2030 2030 2030]' has dtype incompatible with int64, please explicitly cast to a compatible dtype first.\n",
      "\\\\hdrive\\home$\\u045\\shepard\\GitHub\\message-ix-models\\message_ix_models\\report\\legacy\\pp_utils.py:558: FutureWarning: Setting an item of incompatible dtype is deprecated and will raise in a future error of pandas. Value '[2030 2030 2030 2030 2030 2030 2030 2030 2030 2030 2030 2030 2030]' has dtype incompatible with int64, please explicitly cast to a compatible dtype first.\n",
      "\\\\hdrive\\home$\\u045\\shepard\\GitHub\\message-ix-models\\message_ix_models\\report\\legacy\\pp_utils.py:558: FutureWarning: Setting an item of incompatible dtype is deprecated and will raise in a future error of pandas. Value '[2030 2030 2030 2030 2030 2030 2030 2030 2030 2030 2030 2030 2030]' has dtype incompatible with int64, please explicitly cast to a compatible dtype first.\n",
      "\\\\hdrive\\home$\\u045\\shepard\\GitHub\\message-ix-models\\message_ix_models\\report\\legacy\\pp_utils.py:558: FutureWarning: Setting an item of incompatible dtype is deprecated and will raise in a future error of pandas. Value '[2030 2030 2030 2030 2030 2030 2030 2030 2030 2030 2030 2030 2030]' has dtype incompatible with int64, please explicitly cast to a compatible dtype first.\n",
      "\\\\hdrive\\home$\\u045\\shepard\\GitHub\\message-ix-models\\message_ix_models\\report\\legacy\\pp_utils.py:558: FutureWarning: Setting an item of incompatible dtype is deprecated and will raise in a future error of pandas. Value '[2030 2030 2030 2030 2030 2030 2030 2030 2030 2030 2030 2030 2030]' has dtype incompatible with int64, please explicitly cast to a compatible dtype first.\n",
      "\\\\hdrive\\home$\\u045\\shepard\\GitHub\\message-ix-models\\message_ix_models\\report\\legacy\\pp_utils.py:558: FutureWarning: Setting an item of incompatible dtype is deprecated and will raise in a future error of pandas. Value '[2030 2030 2030 2030 2030 2030 2030 2030 2030 2030 2030 2030 2030]' has dtype incompatible with int64, please explicitly cast to a compatible dtype first.\n",
      "\\\\hdrive\\home$\\u045\\shepard\\GitHub\\message-ix-models\\message_ix_models\\report\\legacy\\pp_utils.py:558: FutureWarning: Setting an item of incompatible dtype is deprecated and will raise in a future error of pandas. Value '[2030 2030 2030 2030 2030 2030 2030 2030 2030 2030 2030 2030 2030]' has dtype incompatible with int64, please explicitly cast to a compatible dtype first.\n",
      "\\\\hdrive\\home$\\u045\\shepard\\GitHub\\message-ix-models\\message_ix_models\\report\\legacy\\pp_utils.py:558: FutureWarning: Setting an item of incompatible dtype is deprecated and will raise in a future error of pandas. Value '[2030 2030 2030 2030 2030 2030 2030 2030 2030 2030 2030 2030 2030]' has dtype incompatible with int64, please explicitly cast to a compatible dtype first.\n",
      "\\\\hdrive\\home$\\u045\\shepard\\GitHub\\message-ix-models\\message_ix_models\\report\\legacy\\pp_utils.py:558: FutureWarning: Setting an item of incompatible dtype is deprecated and will raise in a future error of pandas. Value '[2030 2030 2030 2030 2030 2030 2030 2030 2030 2030 2030 2030 2030]' has dtype incompatible with int64, please explicitly cast to a compatible dtype first.\n",
      "\\\\hdrive\\home$\\u045\\shepard\\GitHub\\message-ix-models\\message_ix_models\\report\\legacy\\pp_utils.py:558: FutureWarning: Setting an item of incompatible dtype is deprecated and will raise in a future error of pandas. Value '[2030 2030 2030 2030 2030 2030 2030 2030 2030 2030 2030 2030 2030]' has dtype incompatible with int64, please explicitly cast to a compatible dtype first.\n",
      "\\\\hdrive\\home$\\u045\\shepard\\GitHub\\message-ix-models\\message_ix_models\\report\\legacy\\pp_utils.py:558: FutureWarning: Setting an item of incompatible dtype is deprecated and will raise in a future error of pandas. Value '[2030 2030 2030 2030 2030 2030 2030 2030 2030 2030 2030 2030 2030]' has dtype incompatible with int64, please explicitly cast to a compatible dtype first.\n",
      "\\\\hdrive\\home$\\u045\\shepard\\GitHub\\message-ix-models\\message_ix_models\\report\\legacy\\pp_utils.py:558: FutureWarning: Setting an item of incompatible dtype is deprecated and will raise in a future error of pandas. Value '[2030 2030 2030 2030 2030 2030 2030 2030 2030 2030 2030 2030 2030]' has dtype incompatible with int64, please explicitly cast to a compatible dtype first.\n",
      "\\\\hdrive\\home$\\u045\\shepard\\GitHub\\message-ix-models\\message_ix_models\\report\\legacy\\pp_utils.py:558: FutureWarning: Setting an item of incompatible dtype is deprecated and will raise in a future error of pandas. Value '[2030 2030 2030 2030 2030 2030 2030 2030 2030 2030 2030 2030 2030 2030\n",
      " 2030 2030 2030 2030 2030 2030 2030 2030 2030 2030 2030 2030]' has dtype incompatible with int64, please explicitly cast to a compatible dtype first.\n",
      "\\\\hdrive\\home$\\u045\\shepard\\GitHub\\message-ix-models\\message_ix_models\\report\\legacy\\pp_utils.py:558: FutureWarning: Setting an item of incompatible dtype is deprecated and will raise in a future error of pandas. Value '[2030 2030 2030 2030 2030 2030 2030 2030 2030 2030 2030 2030 2030 2030\n",
      " 2030 2030 2030 2030 2030 2030 2030 2030 2030 2030 2030 2030]' has dtype incompatible with int64, please explicitly cast to a compatible dtype first.\n",
      "\\\\hdrive\\home$\\u045\\shepard\\GitHub\\message-ix-models\\message_ix_models\\report\\legacy\\pp_utils.py:558: FutureWarning: Setting an item of incompatible dtype is deprecated and will raise in a future error of pandas. Value '[2030 2030 2030 2030 2030 2030 2030 2030 2030 2030 2030 2030 2030]' has dtype incompatible with int64, please explicitly cast to a compatible dtype first.\n",
      "\\\\hdrive\\home$\\u045\\shepard\\GitHub\\message-ix-models\\message_ix_models\\report\\legacy\\pp_utils.py:558: FutureWarning: Setting an item of incompatible dtype is deprecated and will raise in a future error of pandas. Value '[2030 2030 2030 2030 2030 2030 2030 2030 2030 2030 2030 2030 2030]' has dtype incompatible with int64, please explicitly cast to a compatible dtype first.\n",
      "\\\\hdrive\\home$\\u045\\shepard\\GitHub\\message-ix-models\\message_ix_models\\report\\legacy\\pp_utils.py:558: FutureWarning: Setting an item of incompatible dtype is deprecated and will raise in a future error of pandas. Value '[2030 2030 2030 2030 2030 2030 2030 2030 2030 2030 2030 2030 2030]' has dtype incompatible with int64, please explicitly cast to a compatible dtype first.\n",
      "\\\\hdrive\\home$\\u045\\shepard\\GitHub\\message-ix-models\\message_ix_models\\report\\legacy\\pp_utils.py:558: FutureWarning: Setting an item of incompatible dtype is deprecated and will raise in a future error of pandas. Value '[2030 2030 2030 2030 2030 2030 2030 2030 2030 2030 2030 2030 2030]' has dtype incompatible with int64, please explicitly cast to a compatible dtype first.\n",
      "\\\\hdrive\\home$\\u045\\shepard\\GitHub\\message-ix-models\\message_ix_models\\report\\legacy\\pp_utils.py:558: FutureWarning: Setting an item of incompatible dtype is deprecated and will raise in a future error of pandas. Value '[2030 2030 2030 2030 2030 2030 2030 2030 2030 2030 2030 2030 2030]' has dtype incompatible with int64, please explicitly cast to a compatible dtype first.\n",
      "\\\\hdrive\\home$\\u045\\shepard\\GitHub\\message-ix-models\\message_ix_models\\report\\legacy\\pp_utils.py:558: FutureWarning: Setting an item of incompatible dtype is deprecated and will raise in a future error of pandas. Value '[2030 2030 2030 2030 2030 2030 2030 2030 2030 2030 2030 2030 2030]' has dtype incompatible with int64, please explicitly cast to a compatible dtype first.\n",
      "\\\\hdrive\\home$\\u045\\shepard\\GitHub\\message-ix-models\\message_ix_models\\report\\legacy\\pp_utils.py:558: FutureWarning: Setting an item of incompatible dtype is deprecated and will raise in a future error of pandas. Value '[2030 2030 2030 2030 2030 2030 2030 2030 2030 2030 2030 2030 2030]' has dtype incompatible with int64, please explicitly cast to a compatible dtype first.\n",
      "\\\\hdrive\\home$\\u045\\shepard\\GitHub\\message-ix-models\\message_ix_models\\report\\legacy\\pp_utils.py:558: FutureWarning: Setting an item of incompatible dtype is deprecated and will raise in a future error of pandas. Value '[2030 2030 2030 2030 2030 2030 2030 2030 2030 2030 2030 2030 2030]' has dtype incompatible with int64, please explicitly cast to a compatible dtype first.\n",
      "\\\\hdrive\\home$\\u045\\shepard\\GitHub\\message-ix-models\\message_ix_models\\report\\legacy\\pp_utils.py:558: FutureWarning: Setting an item of incompatible dtype is deprecated and will raise in a future error of pandas. Value '[2030 2030 2030 2030 2030 2030 2030 2030 2030 2030 2030 2030 2030]' has dtype incompatible with int64, please explicitly cast to a compatible dtype first.\n",
      "\\\\hdrive\\home$\\u045\\shepard\\GitHub\\message-ix-models\\message_ix_models\\report\\legacy\\pp_utils.py:558: FutureWarning: Setting an item of incompatible dtype is deprecated and will raise in a future error of pandas. Value '[2030 2030 2030 2030 2030 2030 2030 2030 2030 2030 2030 2030 2030]' has dtype incompatible with int64, please explicitly cast to a compatible dtype first.\n",
      "\\\\hdrive\\home$\\u045\\shepard\\GitHub\\message-ix-models\\message_ix_models\\report\\legacy\\pp_utils.py:558: FutureWarning: Setting an item of incompatible dtype is deprecated and will raise in a future error of pandas. Value '[2030 2030 2030 2030 2030 2030 2030 2030 2030 2030 2030 2030 2030]' has dtype incompatible with int64, please explicitly cast to a compatible dtype first.\n",
      "\\\\hdrive\\home$\\u045\\shepard\\GitHub\\message-ix-models\\message_ix_models\\report\\legacy\\pp_utils.py:558: FutureWarning: Setting an item of incompatible dtype is deprecated and will raise in a future error of pandas. Value '[2030 2030 2030 2030 2030 2030 2030 2030 2030 2030 2030 2030 2030]' has dtype incompatible with int64, please explicitly cast to a compatible dtype first.\n",
      "\\\\hdrive\\home$\\u045\\shepard\\GitHub\\message-ix-models\\message_ix_models\\report\\legacy\\pp_utils.py:558: FutureWarning: Setting an item of incompatible dtype is deprecated and will raise in a future error of pandas. Value '[2030 2030 2030 2030 2030 2030 2030 2030 2030 2030 2030 2030 2030]' has dtype incompatible with int64, please explicitly cast to a compatible dtype first.\n",
      "\\\\hdrive\\home$\\u045\\shepard\\GitHub\\message-ix-models\\message_ix_models\\report\\legacy\\pp_utils.py:558: FutureWarning: Setting an item of incompatible dtype is deprecated and will raise in a future error of pandas. Value '[2030 2030 2030 2030 2030 2030 2030 2030 2030 2030 2030 2030 2030]' has dtype incompatible with int64, please explicitly cast to a compatible dtype first.\n",
      "\\\\hdrive\\home$\\u045\\shepard\\GitHub\\message-ix-models\\message_ix_models\\report\\legacy\\pp_utils.py:558: FutureWarning: Setting an item of incompatible dtype is deprecated and will raise in a future error of pandas. Value '[2030 2030 2030 2030 2030 2030 2030 2030 2030 2030 2030 2030 2030 2030\n",
      " 2030 2030 2030 2030 2030 2030 2030 2030 2030 2030 2030 2030]' has dtype incompatible with int64, please explicitly cast to a compatible dtype first.\n",
      "\\\\hdrive\\home$\\u045\\shepard\\GitHub\\message-ix-models\\message_ix_models\\report\\legacy\\pp_utils.py:558: FutureWarning: Setting an item of incompatible dtype is deprecated and will raise in a future error of pandas. Value '[2030 2030 2030 2030 2030 2030 2030 2030 2030 2030 2030 2030 2030 2030\n",
      " 2030 2030 2030 2030 2030 2030 2030 2030 2030 2030 2030 2030]' has dtype incompatible with int64, please explicitly cast to a compatible dtype first.\n",
      "\\\\hdrive\\home$\\u045\\shepard\\GitHub\\message-ix-models\\message_ix_models\\report\\legacy\\pp_utils.py:558: FutureWarning: Setting an item of incompatible dtype is deprecated and will raise in a future error of pandas. Value '[2030 2030 2030 2030 2030 2030 2030 2030 2030 2030 2030 2030 2030]' has dtype incompatible with int64, please explicitly cast to a compatible dtype first.\n",
      "\\\\hdrive\\home$\\u045\\shepard\\GitHub\\message-ix-models\\message_ix_models\\report\\legacy\\pp_utils.py:558: FutureWarning: Setting an item of incompatible dtype is deprecated and will raise in a future error of pandas. Value '[2030 2030 2030 2030 2030 2030 2030 2030 2030 2030 2030 2030 2030]' has dtype incompatible with int64, please explicitly cast to a compatible dtype first.\n",
      "\\\\hdrive\\home$\\u045\\shepard\\GitHub\\message-ix-models\\message_ix_models\\report\\legacy\\pp_utils.py:558: FutureWarning: Setting an item of incompatible dtype is deprecated and will raise in a future error of pandas. Value '[2030 2030 2030 2030 2030 2030 2030 2030 2030 2030 2030 2030 2030]' has dtype incompatible with int64, please explicitly cast to a compatible dtype first.\n",
      "\\\\hdrive\\home$\\u045\\shepard\\GitHub\\message-ix-models\\message_ix_models\\report\\legacy\\pp_utils.py:558: FutureWarning: Setting an item of incompatible dtype is deprecated and will raise in a future error of pandas. Value '[2030 2030 2030 2030 2030 2030 2030 2030 2030 2030 2030 2030 2030]' has dtype incompatible with int64, please explicitly cast to a compatible dtype first.\n",
      "\\\\hdrive\\home$\\u045\\shepard\\GitHub\\message-ix-models\\message_ix_models\\report\\legacy\\pp_utils.py:558: FutureWarning: Setting an item of incompatible dtype is deprecated and will raise in a future error of pandas. Value '[2030 2030 2030 2030 2030 2030 2030 2030 2030 2030 2030 2030 2030]' has dtype incompatible with int64, please explicitly cast to a compatible dtype first.\n",
      "\\\\hdrive\\home$\\u045\\shepard\\GitHub\\message-ix-models\\message_ix_models\\report\\legacy\\pp_utils.py:558: FutureWarning: Setting an item of incompatible dtype is deprecated and will raise in a future error of pandas. Value '[2030 2030 2030 2030 2030 2030 2030 2030 2030 2030 2030 2030 2030]' has dtype incompatible with int64, please explicitly cast to a compatible dtype first.\n",
      "\\\\hdrive\\home$\\u045\\shepard\\GitHub\\message-ix-models\\message_ix_models\\report\\legacy\\pp_utils.py:558: FutureWarning: Setting an item of incompatible dtype is deprecated and will raise in a future error of pandas. Value '[2030 2030 2030 2030 2030 2030 2030 2030 2030 2030 2030 2030 2030]' has dtype incompatible with int64, please explicitly cast to a compatible dtype first.\n",
      "\\\\hdrive\\home$\\u045\\shepard\\GitHub\\message-ix-models\\message_ix_models\\report\\legacy\\pp_utils.py:558: FutureWarning: Setting an item of incompatible dtype is deprecated and will raise in a future error of pandas. Value '[2030 2030 2030 2030 2030 2030 2030 2030 2030 2030 2030 2030 2030]' has dtype incompatible with int64, please explicitly cast to a compatible dtype first.\n",
      "\\\\hdrive\\home$\\u045\\shepard\\GitHub\\message-ix-models\\message_ix_models\\report\\legacy\\pp_utils.py:558: FutureWarning: Setting an item of incompatible dtype is deprecated and will raise in a future error of pandas. Value '[2030 2030 2030 2030 2030 2030 2030 2030 2030 2030 2030 2030 2030]' has dtype incompatible with int64, please explicitly cast to a compatible dtype first.\n",
      "\\\\hdrive\\home$\\u045\\shepard\\GitHub\\message-ix-models\\message_ix_models\\report\\legacy\\pp_utils.py:558: FutureWarning: Setting an item of incompatible dtype is deprecated and will raise in a future error of pandas. Value '[2030 2030 2030 2030 2030 2030 2030 2030 2030 2030 2030 2030 2030]' has dtype incompatible with int64, please explicitly cast to a compatible dtype first.\n",
      "\\\\hdrive\\home$\\u045\\shepard\\GitHub\\message-ix-models\\message_ix_models\\report\\legacy\\pp_utils.py:558: FutureWarning: Setting an item of incompatible dtype is deprecated and will raise in a future error of pandas. Value '[2030 2030 2030 2030 2030 2030 2030 2030 2030 2030 2030 2030 2030]' has dtype incompatible with int64, please explicitly cast to a compatible dtype first.\n",
      "\\\\hdrive\\home$\\u045\\shepard\\GitHub\\message-ix-models\\message_ix_models\\report\\legacy\\pp_utils.py:558: FutureWarning: Setting an item of incompatible dtype is deprecated and will raise in a future error of pandas. Value '[2030 2030 2030 2030 2030 2030 2030 2030 2030 2030 2030 2030 2030]' has dtype incompatible with int64, please explicitly cast to a compatible dtype first.\n",
      "\\\\hdrive\\home$\\u045\\shepard\\GitHub\\message-ix-models\\message_ix_models\\report\\legacy\\pp_utils.py:558: FutureWarning: Setting an item of incompatible dtype is deprecated and will raise in a future error of pandas. Value '[2030 2030 2030 2030 2030 2030 2030 2030 2030 2030 2030 2030 2030]' has dtype incompatible with int64, please explicitly cast to a compatible dtype first.\n",
      "\\\\hdrive\\home$\\u045\\shepard\\GitHub\\message-ix-models\\message_ix_models\\report\\legacy\\pp_utils.py:558: FutureWarning: Setting an item of incompatible dtype is deprecated and will raise in a future error of pandas. Value '[2030 2030 2030 2030 2030 2030 2030 2030 2030 2030 2030 2030 2030]' has dtype incompatible with int64, please explicitly cast to a compatible dtype first.\n",
      "\\\\hdrive\\home$\\u045\\shepard\\GitHub\\message-ix-models\\message_ix_models\\report\\legacy\\pp_utils.py:558: FutureWarning: Setting an item of incompatible dtype is deprecated and will raise in a future error of pandas. Value '[2030 2030 2030 2030 2030 2030 2030 2030 2030 2030 2030 2030 2030]' has dtype incompatible with int64, please explicitly cast to a compatible dtype first.\n",
      "\\\\hdrive\\home$\\u045\\shepard\\GitHub\\message-ix-models\\message_ix_models\\report\\legacy\\pp_utils.py:558: FutureWarning: Setting an item of incompatible dtype is deprecated and will raise in a future error of pandas. Value '[2030 2030 2030 2030 2030 2030 2030 2030 2030 2030 2030 2030 2030]' has dtype incompatible with int64, please explicitly cast to a compatible dtype first.\n",
      "\\\\hdrive\\home$\\u045\\shepard\\GitHub\\message-ix-models\\message_ix_models\\report\\legacy\\pp_utils.py:558: FutureWarning: Setting an item of incompatible dtype is deprecated and will raise in a future error of pandas. Value '[2030 2030 2030 2030 2030 2030 2030 2030 2030 2030 2030 2030 2030]' has dtype incompatible with int64, please explicitly cast to a compatible dtype first.\n",
      "\\\\hdrive\\home$\\u045\\shepard\\GitHub\\message-ix-models\\message_ix_models\\report\\legacy\\pp_utils.py:558: FutureWarning: Setting an item of incompatible dtype is deprecated and will raise in a future error of pandas. Value '[2030 2030 2030 2030 2030 2030 2030 2030 2030 2030 2030 2030 2030]' has dtype incompatible with int64, please explicitly cast to a compatible dtype first.\n",
      "\\\\hdrive\\home$\\u045\\shepard\\GitHub\\message-ix-models\\message_ix_models\\report\\legacy\\pp_utils.py:558: FutureWarning: Setting an item of incompatible dtype is deprecated and will raise in a future error of pandas. Value '[2030 2030 2030 2030 2030 2030 2030 2030 2030 2030 2030 2030 2030]' has dtype incompatible with int64, please explicitly cast to a compatible dtype first.\n",
      "\\\\hdrive\\home$\\u045\\shepard\\GitHub\\message-ix-models\\message_ix_models\\report\\legacy\\pp_utils.py:558: FutureWarning: Setting an item of incompatible dtype is deprecated and will raise in a future error of pandas. Value '[2030 2030 2030 2030 2030 2030 2030 2030 2030 2030 2030 2030 2030 2030\n",
      " 2030 2030 2030 2030 2030 2030 2030 2030 2030 2030 2030 2030]' has dtype incompatible with int64, please explicitly cast to a compatible dtype first.\n"
     ]
    },
    {
     "name": "stdout",
     "output_type": "stream",
     "text": [
      "processing Table: Water Withdrawal\n"
     ]
    },
    {
     "name": "stderr",
     "output_type": "stream",
     "text": [
      "\\\\hdrive\\home$\\u045\\shepard\\GitHub\\message-ix-models\\message_ix_models\\report\\legacy\\pp_utils.py:558: FutureWarning: Setting an item of incompatible dtype is deprecated and will raise in a future error of pandas. Value '[2030 2030 2030 2030 2030 2030 2030 2030 2030 2030 2030 2030 2030]' has dtype incompatible with int64, please explicitly cast to a compatible dtype first.\n",
      "\\\\hdrive\\home$\\u045\\shepard\\GitHub\\message-ix-models\\message_ix_models\\report\\legacy\\pp_utils.py:558: FutureWarning: Setting an item of incompatible dtype is deprecated and will raise in a future error of pandas. Value '[2030 2030 2030 2030 2030 2030 2030 2030 2030 2030 2030 2030 2030]' has dtype incompatible with int64, please explicitly cast to a compatible dtype first.\n",
      "\\\\hdrive\\home$\\u045\\shepard\\GitHub\\message-ix-models\\message_ix_models\\report\\legacy\\pp_utils.py:558: FutureWarning: Setting an item of incompatible dtype is deprecated and will raise in a future error of pandas. Value '[2030 2030 2030 2030 2030 2030 2030 2030 2030 2030 2030 2030 2030]' has dtype incompatible with int64, please explicitly cast to a compatible dtype first.\n",
      "\\\\hdrive\\home$\\u045\\shepard\\GitHub\\message-ix-models\\message_ix_models\\report\\legacy\\pp_utils.py:558: FutureWarning: Setting an item of incompatible dtype is deprecated and will raise in a future error of pandas. Value '[2030 2030 2030 2030 2030 2030 2030 2030 2030 2030 2030 2030 2030]' has dtype incompatible with int64, please explicitly cast to a compatible dtype first.\n",
      "\\\\hdrive\\home$\\u045\\shepard\\GitHub\\message-ix-models\\message_ix_models\\report\\legacy\\pp_utils.py:558: FutureWarning: Setting an item of incompatible dtype is deprecated and will raise in a future error of pandas. Value '[2030 2030 2030 2030 2030 2030 2030 2030 2030 2030 2030 2030 2030]' has dtype incompatible with int64, please explicitly cast to a compatible dtype first.\n",
      "\\\\hdrive\\home$\\u045\\shepard\\GitHub\\message-ix-models\\message_ix_models\\report\\legacy\\pp_utils.py:558: FutureWarning: Setting an item of incompatible dtype is deprecated and will raise in a future error of pandas. Value '[2030 2030 2030 2030 2030 2030 2030 2030 2030 2030 2030 2030 2030]' has dtype incompatible with int64, please explicitly cast to a compatible dtype first.\n",
      "\\\\hdrive\\home$\\u045\\shepard\\GitHub\\message-ix-models\\message_ix_models\\report\\legacy\\pp_utils.py:558: FutureWarning: Setting an item of incompatible dtype is deprecated and will raise in a future error of pandas. Value '[2030 2030 2030 2030 2030 2030 2030 2030 2030 2030 2030 2030 2030]' has dtype incompatible with int64, please explicitly cast to a compatible dtype first.\n",
      "\\\\hdrive\\home$\\u045\\shepard\\GitHub\\message-ix-models\\message_ix_models\\report\\legacy\\pp_utils.py:558: FutureWarning: Setting an item of incompatible dtype is deprecated and will raise in a future error of pandas. Value '[2030 2030 2030 2030 2030 2030 2030 2030 2030 2030 2030 2030 2030]' has dtype incompatible with int64, please explicitly cast to a compatible dtype first.\n",
      "\\\\hdrive\\home$\\u045\\shepard\\GitHub\\message-ix-models\\message_ix_models\\report\\legacy\\pp_utils.py:558: FutureWarning: Setting an item of incompatible dtype is deprecated and will raise in a future error of pandas. Value '[2030 2030 2030 2030 2030 2030 2030 2030 2030 2030 2030 2030 2030]' has dtype incompatible with int64, please explicitly cast to a compatible dtype first.\n",
      "\\\\hdrive\\home$\\u045\\shepard\\GitHub\\message-ix-models\\message_ix_models\\report\\legacy\\pp_utils.py:558: FutureWarning: Setting an item of incompatible dtype is deprecated and will raise in a future error of pandas. Value '[2030 2030 2030 2030 2030 2030 2030 2030 2030 2030 2030 2030 2030]' has dtype incompatible with int64, please explicitly cast to a compatible dtype first.\n",
      "\\\\hdrive\\home$\\u045\\shepard\\GitHub\\message-ix-models\\message_ix_models\\report\\legacy\\pp_utils.py:558: FutureWarning: Setting an item of incompatible dtype is deprecated and will raise in a future error of pandas. Value '[2030 2030 2030 2030 2030 2030 2030 2030 2030 2030 2030 2030 2030]' has dtype incompatible with int64, please explicitly cast to a compatible dtype first.\n",
      "\\\\hdrive\\home$\\u045\\shepard\\GitHub\\message-ix-models\\message_ix_models\\report\\legacy\\pp_utils.py:558: FutureWarning: Setting an item of incompatible dtype is deprecated and will raise in a future error of pandas. Value '[2030 2030 2030 2030 2030 2030 2030 2030 2030 2030 2030 2030 2030]' has dtype incompatible with int64, please explicitly cast to a compatible dtype first.\n",
      "\\\\hdrive\\home$\\u045\\shepard\\GitHub\\message-ix-models\\message_ix_models\\report\\legacy\\pp_utils.py:558: FutureWarning: Setting an item of incompatible dtype is deprecated and will raise in a future error of pandas. Value '[2030 2030 2030 2030 2030 2030 2030 2030 2030 2030 2030 2030 2030]' has dtype incompatible with int64, please explicitly cast to a compatible dtype first.\n",
      "\\\\hdrive\\home$\\u045\\shepard\\GitHub\\message-ix-models\\message_ix_models\\report\\legacy\\pp_utils.py:558: FutureWarning: Setting an item of incompatible dtype is deprecated and will raise in a future error of pandas. Value '[2030 2030 2030 2030 2030 2030 2030 2030 2030 2030 2030 2030 2030]' has dtype incompatible with int64, please explicitly cast to a compatible dtype first.\n",
      "\\\\hdrive\\home$\\u045\\shepard\\GitHub\\message-ix-models\\message_ix_models\\report\\legacy\\pp_utils.py:558: FutureWarning: Setting an item of incompatible dtype is deprecated and will raise in a future error of pandas. Value '[2030 2030 2030 2030 2030 2030 2030 2030 2030 2030 2030 2030 2030]' has dtype incompatible with int64, please explicitly cast to a compatible dtype first.\n",
      "\\\\hdrive\\home$\\u045\\shepard\\GitHub\\message-ix-models\\message_ix_models\\report\\legacy\\pp_utils.py:558: FutureWarning: Setting an item of incompatible dtype is deprecated and will raise in a future error of pandas. Value '[2030 2030 2030 2030 2030 2030 2030 2030 2030 2030 2030 2030 2030]' has dtype incompatible with int64, please explicitly cast to a compatible dtype first.\n",
      "\\\\hdrive\\home$\\u045\\shepard\\GitHub\\message-ix-models\\message_ix_models\\report\\legacy\\pp_utils.py:558: FutureWarning: Setting an item of incompatible dtype is deprecated and will raise in a future error of pandas. Value '[2030 2030 2030 2030 2030 2030 2030 2030 2030 2030 2030 2030 2030]' has dtype incompatible with int64, please explicitly cast to a compatible dtype first.\n",
      "\\\\hdrive\\home$\\u045\\shepard\\GitHub\\message-ix-models\\message_ix_models\\report\\legacy\\pp_utils.py:558: FutureWarning: Setting an item of incompatible dtype is deprecated and will raise in a future error of pandas. Value '[2030 2030 2030 2030 2030 2030 2030 2030 2030 2030 2030 2030 2030]' has dtype incompatible with int64, please explicitly cast to a compatible dtype first.\n",
      "\\\\hdrive\\home$\\u045\\shepard\\GitHub\\message-ix-models\\message_ix_models\\report\\legacy\\pp_utils.py:558: FutureWarning: Setting an item of incompatible dtype is deprecated and will raise in a future error of pandas. Value '[2030 2030 2030 2030 2030 2030 2030 2030 2030 2030 2030 2030 2030]' has dtype incompatible with int64, please explicitly cast to a compatible dtype first.\n",
      "\\\\hdrive\\home$\\u045\\shepard\\GitHub\\message-ix-models\\message_ix_models\\report\\legacy\\pp_utils.py:558: FutureWarning: Setting an item of incompatible dtype is deprecated and will raise in a future error of pandas. Value '[2030 2030 2030 2030 2030 2030 2030 2030 2030 2030 2030 2030 2030]' has dtype incompatible with int64, please explicitly cast to a compatible dtype first.\n",
      "\\\\hdrive\\home$\\u045\\shepard\\GitHub\\message-ix-models\\message_ix_models\\report\\legacy\\pp_utils.py:558: FutureWarning: Setting an item of incompatible dtype is deprecated and will raise in a future error of pandas. Value '[2030 2030 2030 2030 2030 2030 2030 2030 2030 2030 2030 2030 2030]' has dtype incompatible with int64, please explicitly cast to a compatible dtype first.\n",
      "\\\\hdrive\\home$\\u045\\shepard\\GitHub\\message-ix-models\\message_ix_models\\report\\legacy\\pp_utils.py:558: FutureWarning: Setting an item of incompatible dtype is deprecated and will raise in a future error of pandas. Value '[2030 2030 2030 2030 2030 2030 2030 2030 2030 2030 2030 2030 2030]' has dtype incompatible with int64, please explicitly cast to a compatible dtype first.\n",
      "\\\\hdrive\\home$\\u045\\shepard\\GitHub\\message-ix-models\\message_ix_models\\report\\legacy\\pp_utils.py:558: FutureWarning: Setting an item of incompatible dtype is deprecated and will raise in a future error of pandas. Value '[2030 2030 2030 2030 2030 2030 2030 2030 2030 2030 2030 2030 2030]' has dtype incompatible with int64, please explicitly cast to a compatible dtype first.\n",
      "\\\\hdrive\\home$\\u045\\shepard\\GitHub\\message-ix-models\\message_ix_models\\report\\legacy\\pp_utils.py:558: FutureWarning: Setting an item of incompatible dtype is deprecated and will raise in a future error of pandas. Value '[2030 2030 2030 2030 2030 2030 2030 2030 2030 2030 2030 2030 2030]' has dtype incompatible with int64, please explicitly cast to a compatible dtype first.\n",
      "\\\\hdrive\\home$\\u045\\shepard\\GitHub\\message-ix-models\\message_ix_models\\report\\legacy\\pp_utils.py:558: FutureWarning: Setting an item of incompatible dtype is deprecated and will raise in a future error of pandas. Value '[2030 2030 2030 2030 2030 2030 2030 2030 2030 2030 2030 2030 2030]' has dtype incompatible with int64, please explicitly cast to a compatible dtype first.\n",
      "\\\\hdrive\\home$\\u045\\shepard\\GitHub\\message-ix-models\\message_ix_models\\report\\legacy\\pp_utils.py:558: FutureWarning: Setting an item of incompatible dtype is deprecated and will raise in a future error of pandas. Value '[2030 2030 2030 2030 2030 2030 2030 2030 2030 2030 2030 2030 2030]' has dtype incompatible with int64, please explicitly cast to a compatible dtype first.\n",
      "\\\\hdrive\\home$\\u045\\shepard\\GitHub\\message-ix-models\\message_ix_models\\report\\legacy\\pp_utils.py:558: FutureWarning: Setting an item of incompatible dtype is deprecated and will raise in a future error of pandas. Value '[2030 2030 2030 2030 2030 2030 2030 2030 2030 2030 2030 2030 2030]' has dtype incompatible with int64, please explicitly cast to a compatible dtype first.\n",
      "\\\\hdrive\\home$\\u045\\shepard\\GitHub\\message-ix-models\\message_ix_models\\report\\legacy\\pp_utils.py:558: FutureWarning: Setting an item of incompatible dtype is deprecated and will raise in a future error of pandas. Value '[2030 2030 2030 2030 2030 2030 2030 2030 2030 2030 2030 2030 2030]' has dtype incompatible with int64, please explicitly cast to a compatible dtype first.\n",
      "\\\\hdrive\\home$\\u045\\shepard\\GitHub\\message-ix-models\\message_ix_models\\report\\legacy\\pp_utils.py:558: FutureWarning: Setting an item of incompatible dtype is deprecated and will raise in a future error of pandas. Value '[2030 2030 2030 2030 2030 2030 2030 2030 2030 2030 2030 2030 2030]' has dtype incompatible with int64, please explicitly cast to a compatible dtype first.\n",
      "\\\\hdrive\\home$\\u045\\shepard\\GitHub\\message-ix-models\\message_ix_models\\report\\legacy\\pp_utils.py:558: FutureWarning: Setting an item of incompatible dtype is deprecated and will raise in a future error of pandas. Value '[2030 2030 2030 2030 2030 2030 2030 2030 2030 2030 2030 2030 2030]' has dtype incompatible with int64, please explicitly cast to a compatible dtype first.\n",
      "\\\\hdrive\\home$\\u045\\shepard\\GitHub\\message-ix-models\\message_ix_models\\report\\legacy\\pp_utils.py:558: FutureWarning: Setting an item of incompatible dtype is deprecated and will raise in a future error of pandas. Value '[2030 2030 2030 2030 2030 2030 2030 2030 2030 2030 2030 2030 2030]' has dtype incompatible with int64, please explicitly cast to a compatible dtype first.\n",
      "\\\\hdrive\\home$\\u045\\shepard\\GitHub\\message-ix-models\\message_ix_models\\report\\legacy\\pp_utils.py:558: FutureWarning: Setting an item of incompatible dtype is deprecated and will raise in a future error of pandas. Value '[2030 2030 2030 2030 2030 2030 2030 2030 2030 2030 2030 2030 2030]' has dtype incompatible with int64, please explicitly cast to a compatible dtype first.\n",
      "\\\\hdrive\\home$\\u045\\shepard\\GitHub\\message-ix-models\\message_ix_models\\report\\legacy\\pp_utils.py:558: FutureWarning: Setting an item of incompatible dtype is deprecated and will raise in a future error of pandas. Value '[2030 2030 2030 2030 2030 2030 2030 2030 2030 2030 2030 2030 2030]' has dtype incompatible with int64, please explicitly cast to a compatible dtype first.\n",
      "\\\\hdrive\\home$\\u045\\shepard\\GitHub\\message-ix-models\\message_ix_models\\report\\legacy\\pp_utils.py:558: FutureWarning: Setting an item of incompatible dtype is deprecated and will raise in a future error of pandas. Value '[2030 2030 2030 2030 2030 2030 2030 2030 2030 2030 2030 2030 2030]' has dtype incompatible with int64, please explicitly cast to a compatible dtype first.\n",
      "\\\\hdrive\\home$\\u045\\shepard\\GitHub\\message-ix-models\\message_ix_models\\report\\legacy\\pp_utils.py:558: FutureWarning: Setting an item of incompatible dtype is deprecated and will raise in a future error of pandas. Value '[2030 2030 2030 2030 2030 2030 2030 2030 2030 2030 2030 2030 2030]' has dtype incompatible with int64, please explicitly cast to a compatible dtype first.\n",
      "\\\\hdrive\\home$\\u045\\shepard\\GitHub\\message-ix-models\\message_ix_models\\report\\legacy\\pp_utils.py:558: FutureWarning: Setting an item of incompatible dtype is deprecated and will raise in a future error of pandas. Value '[2030 2030 2030 2030 2030 2030 2030 2030 2030 2030 2030 2030 2030]' has dtype incompatible with int64, please explicitly cast to a compatible dtype first.\n",
      "\\\\hdrive\\home$\\u045\\shepard\\GitHub\\message-ix-models\\message_ix_models\\report\\legacy\\pp_utils.py:558: FutureWarning: Setting an item of incompatible dtype is deprecated and will raise in a future error of pandas. Value '[2030 2030 2030 2030 2030 2030 2030 2030 2030 2030 2030 2030 2030]' has dtype incompatible with int64, please explicitly cast to a compatible dtype first.\n",
      "\\\\hdrive\\home$\\u045\\shepard\\GitHub\\message-ix-models\\message_ix_models\\report\\legacy\\pp_utils.py:558: FutureWarning: Setting an item of incompatible dtype is deprecated and will raise in a future error of pandas. Value '[2030 2030 2030 2030 2030 2030 2030 2030 2030 2030 2030 2030 2030]' has dtype incompatible with int64, please explicitly cast to a compatible dtype first.\n",
      "\\\\hdrive\\home$\\u045\\shepard\\GitHub\\message-ix-models\\message_ix_models\\report\\legacy\\pp_utils.py:558: FutureWarning: Setting an item of incompatible dtype is deprecated and will raise in a future error of pandas. Value '[2030 2030 2030 2030 2030 2030 2030 2030 2030 2030 2030 2030 2030]' has dtype incompatible with int64, please explicitly cast to a compatible dtype first.\n",
      "\\\\hdrive\\home$\\u045\\shepard\\GitHub\\message-ix-models\\message_ix_models\\report\\legacy\\pp_utils.py:558: FutureWarning: Setting an item of incompatible dtype is deprecated and will raise in a future error of pandas. Value '[2030 2030 2030 2030 2030 2030 2030 2030 2030 2030 2030 2030 2030]' has dtype incompatible with int64, please explicitly cast to a compatible dtype first.\n",
      "\\\\hdrive\\home$\\u045\\shepard\\GitHub\\message-ix-models\\message_ix_models\\report\\legacy\\pp_utils.py:558: FutureWarning: Setting an item of incompatible dtype is deprecated and will raise in a future error of pandas. Value '[2030 2030 2030 2030 2030 2030 2030 2030 2030 2030 2030 2030 2030]' has dtype incompatible with int64, please explicitly cast to a compatible dtype first.\n",
      "\\\\hdrive\\home$\\u045\\shepard\\GitHub\\message-ix-models\\message_ix_models\\report\\legacy\\pp_utils.py:558: FutureWarning: Setting an item of incompatible dtype is deprecated and will raise in a future error of pandas. Value '[2030 2030 2030 2030 2030 2030 2030 2030 2030 2030 2030 2030 2030]' has dtype incompatible with int64, please explicitly cast to a compatible dtype first.\n",
      "\\\\hdrive\\home$\\u045\\shepard\\GitHub\\message-ix-models\\message_ix_models\\report\\legacy\\pp_utils.py:558: FutureWarning: Setting an item of incompatible dtype is deprecated and will raise in a future error of pandas. Value '[2030 2030 2030 2030 2030 2030 2030 2030 2030 2030 2030 2030 2030]' has dtype incompatible with int64, please explicitly cast to a compatible dtype first.\n",
      "\\\\hdrive\\home$\\u045\\shepard\\GitHub\\message-ix-models\\message_ix_models\\report\\legacy\\pp_utils.py:558: FutureWarning: Setting an item of incompatible dtype is deprecated and will raise in a future error of pandas. Value '[2030 2030 2030 2030 2030 2030 2030 2030 2030 2030 2030 2030 2030]' has dtype incompatible with int64, please explicitly cast to a compatible dtype first.\n",
      "\\\\hdrive\\home$\\u045\\shepard\\GitHub\\message-ix-models\\message_ix_models\\report\\legacy\\pp_utils.py:558: FutureWarning: Setting an item of incompatible dtype is deprecated and will raise in a future error of pandas. Value '[2030 2030 2030 2030 2030 2030 2030 2030 2030 2030 2030 2030 2030]' has dtype incompatible with int64, please explicitly cast to a compatible dtype first.\n",
      "\\\\hdrive\\home$\\u045\\shepard\\GitHub\\message-ix-models\\message_ix_models\\report\\legacy\\pp_utils.py:558: FutureWarning: Setting an item of incompatible dtype is deprecated and will raise in a future error of pandas. Value '[2030 2030 2030 2030 2030 2030 2030 2030 2030 2030 2030 2030 2030]' has dtype incompatible with int64, please explicitly cast to a compatible dtype first.\n",
      "\\\\hdrive\\home$\\u045\\shepard\\GitHub\\message-ix-models\\message_ix_models\\report\\legacy\\pp_utils.py:558: FutureWarning: Setting an item of incompatible dtype is deprecated and will raise in a future error of pandas. Value '[2030 2030 2030 2030 2030 2030 2030 2030 2030 2030 2030 2030 2030]' has dtype incompatible with int64, please explicitly cast to a compatible dtype first.\n",
      "\\\\hdrive\\home$\\u045\\shepard\\GitHub\\message-ix-models\\message_ix_models\\report\\legacy\\pp_utils.py:558: FutureWarning: Setting an item of incompatible dtype is deprecated and will raise in a future error of pandas. Value '[2030 2030 2030 2030 2030 2030 2030 2030 2030 2030 2030 2030 2030]' has dtype incompatible with int64, please explicitly cast to a compatible dtype first.\n",
      "\\\\hdrive\\home$\\u045\\shepard\\GitHub\\message-ix-models\\message_ix_models\\report\\legacy\\pp_utils.py:558: FutureWarning: Setting an item of incompatible dtype is deprecated and will raise in a future error of pandas. Value '[2030 2030 2030 2030 2030 2030 2030 2030 2030 2030 2030 2030 2030]' has dtype incompatible with int64, please explicitly cast to a compatible dtype first.\n",
      "\\\\hdrive\\home$\\u045\\shepard\\GitHub\\message-ix-models\\message_ix_models\\report\\legacy\\pp_utils.py:558: FutureWarning: Setting an item of incompatible dtype is deprecated and will raise in a future error of pandas. Value '[2030 2030 2030 2030 2030 2030 2030 2030 2030 2030 2030 2030 2030]' has dtype incompatible with int64, please explicitly cast to a compatible dtype first.\n",
      "\\\\hdrive\\home$\\u045\\shepard\\GitHub\\message-ix-models\\message_ix_models\\report\\legacy\\pp_utils.py:558: FutureWarning: Setting an item of incompatible dtype is deprecated and will raise in a future error of pandas. Value '[2030 2030 2030 2030 2030 2030 2030 2030 2030 2030 2030 2030 2030]' has dtype incompatible with int64, please explicitly cast to a compatible dtype first.\n",
      "\\\\hdrive\\home$\\u045\\shepard\\GitHub\\message-ix-models\\message_ix_models\\report\\legacy\\pp_utils.py:558: FutureWarning: Setting an item of incompatible dtype is deprecated and will raise in a future error of pandas. Value '[2030 2030 2030 2030 2030 2030 2030 2030 2030 2030 2030 2030 2030]' has dtype incompatible with int64, please explicitly cast to a compatible dtype first.\n",
      "\\\\hdrive\\home$\\u045\\shepard\\GitHub\\message-ix-models\\message_ix_models\\report\\legacy\\pp_utils.py:558: FutureWarning: Setting an item of incompatible dtype is deprecated and will raise in a future error of pandas. Value '[2030 2030 2030 2030 2030 2030 2030 2030 2030 2030 2030 2030 2030]' has dtype incompatible with int64, please explicitly cast to a compatible dtype first.\n",
      "\\\\hdrive\\home$\\u045\\shepard\\GitHub\\message-ix-models\\message_ix_models\\report\\legacy\\pp_utils.py:558: FutureWarning: Setting an item of incompatible dtype is deprecated and will raise in a future error of pandas. Value '[2030 2030 2030 2030 2030 2030 2030 2030 2030 2030 2030 2030 2030]' has dtype incompatible with int64, please explicitly cast to a compatible dtype first.\n",
      "\\\\hdrive\\home$\\u045\\shepard\\GitHub\\message-ix-models\\message_ix_models\\report\\legacy\\pp_utils.py:558: FutureWarning: Setting an item of incompatible dtype is deprecated and will raise in a future error of pandas. Value '[2030 2030 2030 2030 2030 2030 2030 2030 2030 2030 2030 2030 2030]' has dtype incompatible with int64, please explicitly cast to a compatible dtype first.\n",
      "\\\\hdrive\\home$\\u045\\shepard\\GitHub\\message-ix-models\\message_ix_models\\report\\legacy\\pp_utils.py:558: FutureWarning: Setting an item of incompatible dtype is deprecated and will raise in a future error of pandas. Value '[2030 2030 2030 2030 2030 2030 2030 2030 2030 2030 2030 2030 2030]' has dtype incompatible with int64, please explicitly cast to a compatible dtype first.\n",
      "\\\\hdrive\\home$\\u045\\shepard\\GitHub\\message-ix-models\\message_ix_models\\report\\legacy\\pp_utils.py:558: FutureWarning: Setting an item of incompatible dtype is deprecated and will raise in a future error of pandas. Value '[2030 2030 2030 2030 2030 2030 2030 2030 2030 2030 2030 2030 2030]' has dtype incompatible with int64, please explicitly cast to a compatible dtype first.\n",
      "\\\\hdrive\\home$\\u045\\shepard\\GitHub\\message-ix-models\\message_ix_models\\report\\legacy\\pp_utils.py:558: FutureWarning: Setting an item of incompatible dtype is deprecated and will raise in a future error of pandas. Value '[2030 2030 2030 2030 2030 2030 2030 2030 2030 2030 2030 2030 2030]' has dtype incompatible with int64, please explicitly cast to a compatible dtype first.\n",
      "\\\\hdrive\\home$\\u045\\shepard\\GitHub\\message-ix-models\\message_ix_models\\report\\legacy\\pp_utils.py:558: FutureWarning: Setting an item of incompatible dtype is deprecated and will raise in a future error of pandas. Value '[2030 2030 2030 2030 2030 2030 2030 2030 2030 2030 2030 2030 2030]' has dtype incompatible with int64, please explicitly cast to a compatible dtype first.\n",
      "\\\\hdrive\\home$\\u045\\shepard\\GitHub\\message-ix-models\\message_ix_models\\report\\legacy\\pp_utils.py:558: FutureWarning: Setting an item of incompatible dtype is deprecated and will raise in a future error of pandas. Value '[2030 2030 2030 2030 2030 2030 2030 2030 2030 2030 2030 2030 2030]' has dtype incompatible with int64, please explicitly cast to a compatible dtype first.\n",
      "\\\\hdrive\\home$\\u045\\shepard\\GitHub\\message-ix-models\\message_ix_models\\report\\legacy\\pp_utils.py:558: FutureWarning: Setting an item of incompatible dtype is deprecated and will raise in a future error of pandas. Value '[2030 2030 2030 2030 2030 2030 2030 2030 2030 2030 2030 2030 2030]' has dtype incompatible with int64, please explicitly cast to a compatible dtype first.\n",
      "\\\\hdrive\\home$\\u045\\shepard\\GitHub\\message-ix-models\\message_ix_models\\report\\legacy\\pp_utils.py:558: FutureWarning: Setting an item of incompatible dtype is deprecated and will raise in a future error of pandas. Value '[2030 2030 2030 2030 2030 2030 2030 2030 2030 2030 2030 2030 2030]' has dtype incompatible with int64, please explicitly cast to a compatible dtype first.\n",
      "\\\\hdrive\\home$\\u045\\shepard\\GitHub\\message-ix-models\\message_ix_models\\report\\legacy\\pp_utils.py:558: FutureWarning: Setting an item of incompatible dtype is deprecated and will raise in a future error of pandas. Value '[2030 2030 2030 2030 2030 2030 2030 2030 2030 2030 2030 2030 2030]' has dtype incompatible with int64, please explicitly cast to a compatible dtype first.\n",
      "\\\\hdrive\\home$\\u045\\shepard\\GitHub\\message-ix-models\\message_ix_models\\report\\legacy\\pp_utils.py:558: FutureWarning: Setting an item of incompatible dtype is deprecated and will raise in a future error of pandas. Value '[2030 2030 2030 2030 2030 2030 2030 2030 2030 2030 2030 2030 2030]' has dtype incompatible with int64, please explicitly cast to a compatible dtype first.\n",
      "\\\\hdrive\\home$\\u045\\shepard\\GitHub\\message-ix-models\\message_ix_models\\report\\legacy\\pp_utils.py:558: FutureWarning: Setting an item of incompatible dtype is deprecated and will raise in a future error of pandas. Value '[2030 2030 2030 2030 2030 2030 2030 2030 2030 2030 2030 2030 2030]' has dtype incompatible with int64, please explicitly cast to a compatible dtype first.\n",
      "\\\\hdrive\\home$\\u045\\shepard\\GitHub\\message-ix-models\\message_ix_models\\report\\legacy\\pp_utils.py:558: FutureWarning: Setting an item of incompatible dtype is deprecated and will raise in a future error of pandas. Value '[2030 2030 2030 2030 2030 2030 2030 2030 2030 2030 2030 2030 2030]' has dtype incompatible with int64, please explicitly cast to a compatible dtype first.\n",
      "\\\\hdrive\\home$\\u045\\shepard\\GitHub\\message-ix-models\\message_ix_models\\report\\legacy\\pp_utils.py:558: FutureWarning: Setting an item of incompatible dtype is deprecated and will raise in a future error of pandas. Value '[2030 2030 2030 2030 2030 2030 2030 2030 2030 2030 2030 2030 2030]' has dtype incompatible with int64, please explicitly cast to a compatible dtype first.\n",
      "\\\\hdrive\\home$\\u045\\shepard\\GitHub\\message-ix-models\\message_ix_models\\report\\legacy\\pp_utils.py:558: FutureWarning: Setting an item of incompatible dtype is deprecated and will raise in a future error of pandas. Value '[2030 2030 2030 2030 2030 2030 2030 2030 2030 2030 2030 2030 2030]' has dtype incompatible with int64, please explicitly cast to a compatible dtype first.\n",
      "\\\\hdrive\\home$\\u045\\shepard\\GitHub\\message-ix-models\\message_ix_models\\report\\legacy\\pp_utils.py:558: FutureWarning: Setting an item of incompatible dtype is deprecated and will raise in a future error of pandas. Value '[2030 2030 2030 2030 2030 2030 2030 2030 2030 2030 2030 2030 2030]' has dtype incompatible with int64, please explicitly cast to a compatible dtype first.\n",
      "\\\\hdrive\\home$\\u045\\shepard\\GitHub\\message-ix-models\\message_ix_models\\report\\legacy\\pp_utils.py:558: FutureWarning: Setting an item of incompatible dtype is deprecated and will raise in a future error of pandas. Value '[2030 2030 2030 2030 2030 2030 2030 2030 2030 2030 2030 2030 2030]' has dtype incompatible with int64, please explicitly cast to a compatible dtype first.\n",
      "\\\\hdrive\\home$\\u045\\shepard\\GitHub\\message-ix-models\\message_ix_models\\report\\legacy\\pp_utils.py:558: FutureWarning: Setting an item of incompatible dtype is deprecated and will raise in a future error of pandas. Value '[2030 2030 2030 2030 2030 2030 2030 2030 2030 2030 2030 2030 2030]' has dtype incompatible with int64, please explicitly cast to a compatible dtype first.\n",
      "\\\\hdrive\\home$\\u045\\shepard\\GitHub\\message-ix-models\\message_ix_models\\report\\legacy\\pp_utils.py:558: FutureWarning: Setting an item of incompatible dtype is deprecated and will raise in a future error of pandas. Value '[2030 2030 2030 2030 2030 2030 2030 2030 2030 2030 2030 2030 2030]' has dtype incompatible with int64, please explicitly cast to a compatible dtype first.\n",
      "\\\\hdrive\\home$\\u045\\shepard\\GitHub\\message-ix-models\\message_ix_models\\report\\legacy\\pp_utils.py:558: FutureWarning: Setting an item of incompatible dtype is deprecated and will raise in a future error of pandas. Value '[2030 2030 2030 2030 2030 2030 2030 2030 2030 2030 2030 2030 2030]' has dtype incompatible with int64, please explicitly cast to a compatible dtype first.\n",
      "\\\\hdrive\\home$\\u045\\shepard\\GitHub\\message-ix-models\\message_ix_models\\report\\legacy\\pp_utils.py:558: FutureWarning: Setting an item of incompatible dtype is deprecated and will raise in a future error of pandas. Value '[2030 2030 2030 2030 2030 2030 2030 2030 2030 2030 2030 2030 2030]' has dtype incompatible with int64, please explicitly cast to a compatible dtype first.\n",
      "\\\\hdrive\\home$\\u045\\shepard\\GitHub\\message-ix-models\\message_ix_models\\report\\legacy\\pp_utils.py:558: FutureWarning: Setting an item of incompatible dtype is deprecated and will raise in a future error of pandas. Value '[2030 2030 2030 2030 2030 2030 2030 2030 2030 2030 2030 2030 2030]' has dtype incompatible with int64, please explicitly cast to a compatible dtype first.\n",
      "\\\\hdrive\\home$\\u045\\shepard\\GitHub\\message-ix-models\\message_ix_models\\report\\legacy\\pp_utils.py:558: FutureWarning: Setting an item of incompatible dtype is deprecated and will raise in a future error of pandas. Value '[2030 2030 2030 2030 2030 2030 2030 2030 2030 2030 2030 2030 2030]' has dtype incompatible with int64, please explicitly cast to a compatible dtype first.\n",
      "\\\\hdrive\\home$\\u045\\shepard\\GitHub\\message-ix-models\\message_ix_models\\report\\legacy\\pp_utils.py:558: FutureWarning: Setting an item of incompatible dtype is deprecated and will raise in a future error of pandas. Value '[2030 2030 2030 2030 2030 2030 2030 2030 2030 2030 2030 2030 2030]' has dtype incompatible with int64, please explicitly cast to a compatible dtype first.\n",
      "\\\\hdrive\\home$\\u045\\shepard\\GitHub\\message-ix-models\\message_ix_models\\report\\legacy\\pp_utils.py:558: FutureWarning: Setting an item of incompatible dtype is deprecated and will raise in a future error of pandas. Value '[2030 2030 2030 2030 2030 2030 2030 2030 2030 2030 2030 2030 2030]' has dtype incompatible with int64, please explicitly cast to a compatible dtype first.\n",
      "\\\\hdrive\\home$\\u045\\shepard\\GitHub\\message-ix-models\\message_ix_models\\report\\legacy\\pp_utils.py:558: FutureWarning: Setting an item of incompatible dtype is deprecated and will raise in a future error of pandas. Value '[2030 2030 2030 2030 2030 2030 2030 2030 2030 2030 2030 2030 2030]' has dtype incompatible with int64, please explicitly cast to a compatible dtype first.\n",
      "\\\\hdrive\\home$\\u045\\shepard\\GitHub\\message-ix-models\\message_ix_models\\report\\legacy\\pp_utils.py:558: FutureWarning: Setting an item of incompatible dtype is deprecated and will raise in a future error of pandas. Value '[2030 2030 2030 2030 2030 2030 2030 2030 2030 2030 2030 2030 2030]' has dtype incompatible with int64, please explicitly cast to a compatible dtype first.\n",
      "\\\\hdrive\\home$\\u045\\shepard\\GitHub\\message-ix-models\\message_ix_models\\report\\legacy\\pp_utils.py:558: FutureWarning: Setting an item of incompatible dtype is deprecated and will raise in a future error of pandas. Value '[2030 2030 2030 2030 2030 2030 2030 2030 2030 2030 2030 2030 2030]' has dtype incompatible with int64, please explicitly cast to a compatible dtype first.\n",
      "\\\\hdrive\\home$\\u045\\shepard\\GitHub\\message-ix-models\\message_ix_models\\report\\legacy\\pp_utils.py:558: FutureWarning: Setting an item of incompatible dtype is deprecated and will raise in a future error of pandas. Value '[2030 2030 2030 2030 2030 2030 2030 2030 2030 2030 2030 2030 2030]' has dtype incompatible with int64, please explicitly cast to a compatible dtype first.\n",
      "\\\\hdrive\\home$\\u045\\shepard\\GitHub\\message-ix-models\\message_ix_models\\report\\legacy\\pp_utils.py:558: FutureWarning: Setting an item of incompatible dtype is deprecated and will raise in a future error of pandas. Value '[2030 2030 2030 2030 2030 2030 2030 2030 2030 2030 2030 2030 2030]' has dtype incompatible with int64, please explicitly cast to a compatible dtype first.\n",
      "\\\\hdrive\\home$\\u045\\shepard\\GitHub\\message-ix-models\\message_ix_models\\report\\legacy\\pp_utils.py:558: FutureWarning: Setting an item of incompatible dtype is deprecated and will raise in a future error of pandas. Value '[2030 2030 2030 2030 2030 2030 2030 2030 2030 2030 2030 2030 2030]' has dtype incompatible with int64, please explicitly cast to a compatible dtype first.\n",
      "\\\\hdrive\\home$\\u045\\shepard\\GitHub\\message-ix-models\\message_ix_models\\report\\legacy\\pp_utils.py:558: FutureWarning: Setting an item of incompatible dtype is deprecated and will raise in a future error of pandas. Value '[2030 2030 2030 2030 2030 2030 2030 2030 2030 2030 2030 2030 2030]' has dtype incompatible with int64, please explicitly cast to a compatible dtype first.\n",
      "\\\\hdrive\\home$\\u045\\shepard\\GitHub\\message-ix-models\\message_ix_models\\report\\legacy\\pp_utils.py:558: FutureWarning: Setting an item of incompatible dtype is deprecated and will raise in a future error of pandas. Value '[2030 2030 2030 2030 2030 2030 2030 2030 2030 2030 2030 2030 2030]' has dtype incompatible with int64, please explicitly cast to a compatible dtype first.\n",
      "\\\\hdrive\\home$\\u045\\shepard\\GitHub\\message-ix-models\\message_ix_models\\report\\legacy\\pp_utils.py:558: FutureWarning: Setting an item of incompatible dtype is deprecated and will raise in a future error of pandas. Value '[2030 2030 2030 2030 2030 2030 2030 2030 2030 2030 2030 2030 2030]' has dtype incompatible with int64, please explicitly cast to a compatible dtype first.\n",
      "\\\\hdrive\\home$\\u045\\shepard\\GitHub\\message-ix-models\\message_ix_models\\report\\legacy\\pp_utils.py:558: FutureWarning: Setting an item of incompatible dtype is deprecated and will raise in a future error of pandas. Value '[2030 2030 2030 2030 2030 2030 2030 2030 2030 2030 2030 2030 2030]' has dtype incompatible with int64, please explicitly cast to a compatible dtype first.\n",
      "\\\\hdrive\\home$\\u045\\shepard\\GitHub\\message-ix-models\\message_ix_models\\report\\legacy\\pp_utils.py:558: FutureWarning: Setting an item of incompatible dtype is deprecated and will raise in a future error of pandas. Value '[2030 2030 2030 2030 2030 2030 2030 2030 2030 2030 2030 2030 2030]' has dtype incompatible with int64, please explicitly cast to a compatible dtype first.\n",
      "\\\\hdrive\\home$\\u045\\shepard\\GitHub\\message-ix-models\\message_ix_models\\report\\legacy\\pp_utils.py:558: FutureWarning: Setting an item of incompatible dtype is deprecated and will raise in a future error of pandas. Value '[2030 2030 2030 2030 2030 2030 2030 2030 2030 2030 2030 2030 2030]' has dtype incompatible with int64, please explicitly cast to a compatible dtype first.\n",
      "\\\\hdrive\\home$\\u045\\shepard\\GitHub\\message-ix-models\\message_ix_models\\report\\legacy\\pp_utils.py:558: FutureWarning: Setting an item of incompatible dtype is deprecated and will raise in a future error of pandas. Value '[2030 2030 2030 2030 2030 2030 2030 2030 2030 2030 2030 2030 2030]' has dtype incompatible with int64, please explicitly cast to a compatible dtype first.\n",
      "\\\\hdrive\\home$\\u045\\shepard\\GitHub\\message-ix-models\\message_ix_models\\report\\legacy\\pp_utils.py:558: FutureWarning: Setting an item of incompatible dtype is deprecated and will raise in a future error of pandas. Value '[2030 2030 2030 2030 2030 2030 2030 2030 2030 2030 2030 2030 2030]' has dtype incompatible with int64, please explicitly cast to a compatible dtype first.\n",
      "\\\\hdrive\\home$\\u045\\shepard\\GitHub\\message-ix-models\\message_ix_models\\report\\legacy\\pp_utils.py:558: FutureWarning: Setting an item of incompatible dtype is deprecated and will raise in a future error of pandas. Value '[2030 2030 2030 2030 2030 2030 2030 2030 2030 2030 2030 2030 2030]' has dtype incompatible with int64, please explicitly cast to a compatible dtype first.\n",
      "\\\\hdrive\\home$\\u045\\shepard\\GitHub\\message-ix-models\\message_ix_models\\report\\legacy\\pp_utils.py:558: FutureWarning: Setting an item of incompatible dtype is deprecated and will raise in a future error of pandas. Value '[2030 2030 2030 2030 2030 2030 2030 2030 2030 2030 2030 2030 2030]' has dtype incompatible with int64, please explicitly cast to a compatible dtype first.\n",
      "\\\\hdrive\\home$\\u045\\shepard\\GitHub\\message-ix-models\\message_ix_models\\report\\legacy\\pp_utils.py:558: FutureWarning: Setting an item of incompatible dtype is deprecated and will raise in a future error of pandas. Value '[2030 2030 2030 2030 2030 2030 2030 2030 2030 2030 2030 2030 2030]' has dtype incompatible with int64, please explicitly cast to a compatible dtype first.\n",
      "\\\\hdrive\\home$\\u045\\shepard\\GitHub\\message-ix-models\\message_ix_models\\report\\legacy\\pp_utils.py:558: FutureWarning: Setting an item of incompatible dtype is deprecated and will raise in a future error of pandas. Value '[2030 2030 2030 2030 2030 2030 2030 2030 2030 2030 2030 2030 2030]' has dtype incompatible with int64, please explicitly cast to a compatible dtype first.\n",
      "\\\\hdrive\\home$\\u045\\shepard\\GitHub\\message-ix-models\\message_ix_models\\report\\legacy\\pp_utils.py:558: FutureWarning: Setting an item of incompatible dtype is deprecated and will raise in a future error of pandas. Value '[2030 2030 2030 2030 2030 2030 2030 2030 2030 2030 2030 2030 2030]' has dtype incompatible with int64, please explicitly cast to a compatible dtype first.\n",
      "\\\\hdrive\\home$\\u045\\shepard\\GitHub\\message-ix-models\\message_ix_models\\report\\legacy\\pp_utils.py:558: FutureWarning: Setting an item of incompatible dtype is deprecated and will raise in a future error of pandas. Value '[2030 2030 2030 2030 2030 2030 2030 2030 2030 2030 2030 2030 2030]' has dtype incompatible with int64, please explicitly cast to a compatible dtype first.\n",
      "\\\\hdrive\\home$\\u045\\shepard\\GitHub\\message-ix-models\\message_ix_models\\report\\legacy\\pp_utils.py:558: FutureWarning: Setting an item of incompatible dtype is deprecated and will raise in a future error of pandas. Value '[2030 2030 2030 2030 2030 2030 2030 2030 2030 2030 2030 2030 2030]' has dtype incompatible with int64, please explicitly cast to a compatible dtype first.\n",
      "\\\\hdrive\\home$\\u045\\shepard\\GitHub\\message-ix-models\\message_ix_models\\report\\legacy\\pp_utils.py:558: FutureWarning: Setting an item of incompatible dtype is deprecated and will raise in a future error of pandas. Value '[2030 2030 2030 2030 2030 2030 2030 2030 2030 2030 2030 2030 2030]' has dtype incompatible with int64, please explicitly cast to a compatible dtype first.\n",
      "\\\\hdrive\\home$\\u045\\shepard\\GitHub\\message-ix-models\\message_ix_models\\report\\legacy\\pp_utils.py:558: FutureWarning: Setting an item of incompatible dtype is deprecated and will raise in a future error of pandas. Value '[2030 2030 2030 2030 2030 2030 2030 2030 2030 2030 2030 2030 2030]' has dtype incompatible with int64, please explicitly cast to a compatible dtype first.\n",
      "\\\\hdrive\\home$\\u045\\shepard\\GitHub\\message-ix-models\\message_ix_models\\report\\legacy\\pp_utils.py:558: FutureWarning: Setting an item of incompatible dtype is deprecated and will raise in a future error of pandas. Value '[2030 2030 2030 2030 2030 2030 2030 2030 2030 2030 2030 2030 2030]' has dtype incompatible with int64, please explicitly cast to a compatible dtype first.\n",
      "\\\\hdrive\\home$\\u045\\shepard\\GitHub\\message-ix-models\\message_ix_models\\report\\legacy\\pp_utils.py:558: FutureWarning: Setting an item of incompatible dtype is deprecated and will raise in a future error of pandas. Value '[2030 2030 2030 2030 2030 2030 2030 2030 2030 2030 2030 2030 2030]' has dtype incompatible with int64, please explicitly cast to a compatible dtype first.\n",
      "\\\\hdrive\\home$\\u045\\shepard\\GitHub\\message-ix-models\\message_ix_models\\report\\legacy\\pp_utils.py:558: FutureWarning: Setting an item of incompatible dtype is deprecated and will raise in a future error of pandas. Value '[2030 2030 2030 2030 2030 2030 2030 2030 2030 2030 2030 2030 2030]' has dtype incompatible with int64, please explicitly cast to a compatible dtype first.\n",
      "\\\\hdrive\\home$\\u045\\shepard\\GitHub\\message-ix-models\\message_ix_models\\report\\legacy\\pp_utils.py:558: FutureWarning: Setting an item of incompatible dtype is deprecated and will raise in a future error of pandas. Value '[2030 2030 2030 2030 2030 2030 2030 2030 2030 2030 2030 2030 2030]' has dtype incompatible with int64, please explicitly cast to a compatible dtype first.\n",
      "\\\\hdrive\\home$\\u045\\shepard\\GitHub\\message-ix-models\\message_ix_models\\report\\legacy\\pp_utils.py:558: FutureWarning: Setting an item of incompatible dtype is deprecated and will raise in a future error of pandas. Value '[2030 2030 2030 2030 2030 2030 2030 2030 2030 2030 2030 2030 2030]' has dtype incompatible with int64, please explicitly cast to a compatible dtype first.\n",
      "\\\\hdrive\\home$\\u045\\shepard\\GitHub\\message-ix-models\\message_ix_models\\report\\legacy\\pp_utils.py:558: FutureWarning: Setting an item of incompatible dtype is deprecated and will raise in a future error of pandas. Value '[2030 2030 2030 2030 2030 2030 2030 2030 2030 2030 2030 2030 2030]' has dtype incompatible with int64, please explicitly cast to a compatible dtype first.\n",
      "\\\\hdrive\\home$\\u045\\shepard\\GitHub\\message-ix-models\\message_ix_models\\report\\legacy\\pp_utils.py:558: FutureWarning: Setting an item of incompatible dtype is deprecated and will raise in a future error of pandas. Value '[2030 2030 2030 2030 2030 2030 2030 2030 2030 2030 2030 2030 2030]' has dtype incompatible with int64, please explicitly cast to a compatible dtype first.\n",
      "\\\\hdrive\\home$\\u045\\shepard\\GitHub\\message-ix-models\\message_ix_models\\report\\legacy\\pp_utils.py:558: FutureWarning: Setting an item of incompatible dtype is deprecated and will raise in a future error of pandas. Value '[2030 2030 2030 2030 2030 2030 2030 2030 2030 2030 2030 2030 2030]' has dtype incompatible with int64, please explicitly cast to a compatible dtype first.\n",
      "\\\\hdrive\\home$\\u045\\shepard\\GitHub\\message-ix-models\\message_ix_models\\report\\legacy\\pp_utils.py:558: FutureWarning: Setting an item of incompatible dtype is deprecated and will raise in a future error of pandas. Value '[2030 2030 2030 2030 2030 2030 2030 2030 2030 2030 2030 2030 2030]' has dtype incompatible with int64, please explicitly cast to a compatible dtype first.\n",
      "\\\\hdrive\\home$\\u045\\shepard\\GitHub\\message-ix-models\\message_ix_models\\report\\legacy\\pp_utils.py:558: FutureWarning: Setting an item of incompatible dtype is deprecated and will raise in a future error of pandas. Value '[2030 2030 2030 2030 2030 2030 2030 2030 2030 2030 2030 2030 2030]' has dtype incompatible with int64, please explicitly cast to a compatible dtype first.\n",
      "\\\\hdrive\\home$\\u045\\shepard\\GitHub\\message-ix-models\\message_ix_models\\report\\legacy\\pp_utils.py:558: FutureWarning: Setting an item of incompatible dtype is deprecated and will raise in a future error of pandas. Value '[2030 2030 2030 2030 2030 2030 2030 2030 2030 2030 2030 2030 2030]' has dtype incompatible with int64, please explicitly cast to a compatible dtype first.\n",
      "\\\\hdrive\\home$\\u045\\shepard\\GitHub\\message-ix-models\\message_ix_models\\report\\legacy\\pp_utils.py:558: FutureWarning: Setting an item of incompatible dtype is deprecated and will raise in a future error of pandas. Value '[2030 2030 2030 2030 2030 2030 2030 2030 2030 2030 2030 2030 2030]' has dtype incompatible with int64, please explicitly cast to a compatible dtype first.\n",
      "\\\\hdrive\\home$\\u045\\shepard\\GitHub\\message-ix-models\\message_ix_models\\report\\legacy\\pp_utils.py:558: FutureWarning: Setting an item of incompatible dtype is deprecated and will raise in a future error of pandas. Value '[2030 2030 2030 2030 2030 2030 2030 2030 2030 2030 2030 2030 2030]' has dtype incompatible with int64, please explicitly cast to a compatible dtype first.\n",
      "\\\\hdrive\\home$\\u045\\shepard\\GitHub\\message-ix-models\\message_ix_models\\report\\legacy\\pp_utils.py:558: FutureWarning: Setting an item of incompatible dtype is deprecated and will raise in a future error of pandas. Value '[2030 2030 2030 2030 2030 2030 2030 2030 2030 2030 2030 2030 2030]' has dtype incompatible with int64, please explicitly cast to a compatible dtype first.\n",
      "\\\\hdrive\\home$\\u045\\shepard\\GitHub\\message-ix-models\\message_ix_models\\report\\legacy\\pp_utils.py:558: FutureWarning: Setting an item of incompatible dtype is deprecated and will raise in a future error of pandas. Value '[2030 2030 2030 2030 2030 2030 2030 2030 2030 2030 2030 2030 2030]' has dtype incompatible with int64, please explicitly cast to a compatible dtype first.\n",
      "\\\\hdrive\\home$\\u045\\shepard\\GitHub\\message-ix-models\\message_ix_models\\report\\legacy\\pp_utils.py:558: FutureWarning: Setting an item of incompatible dtype is deprecated and will raise in a future error of pandas. Value '[2030 2030 2030 2030 2030 2030 2030 2030 2030 2030 2030 2030 2030]' has dtype incompatible with int64, please explicitly cast to a compatible dtype first.\n",
      "\\\\hdrive\\home$\\u045\\shepard\\GitHub\\message-ix-models\\message_ix_models\\report\\legacy\\pp_utils.py:558: FutureWarning: Setting an item of incompatible dtype is deprecated and will raise in a future error of pandas. Value '[2030 2030 2030 2030 2030 2030 2030 2030 2030 2030 2030 2030 2030]' has dtype incompatible with int64, please explicitly cast to a compatible dtype first.\n",
      "\\\\hdrive\\home$\\u045\\shepard\\GitHub\\message-ix-models\\message_ix_models\\report\\legacy\\pp_utils.py:558: FutureWarning: Setting an item of incompatible dtype is deprecated and will raise in a future error of pandas. Value '[2030 2030 2030 2030 2030 2030 2030 2030 2030 2030 2030 2030 2030]' has dtype incompatible with int64, please explicitly cast to a compatible dtype first.\n",
      "\\\\hdrive\\home$\\u045\\shepard\\GitHub\\message-ix-models\\message_ix_models\\report\\legacy\\pp_utils.py:558: FutureWarning: Setting an item of incompatible dtype is deprecated and will raise in a future error of pandas. Value '[2030 2030 2030 2030 2030 2030 2030 2030 2030 2030 2030 2030 2030]' has dtype incompatible with int64, please explicitly cast to a compatible dtype first.\n",
      "\\\\hdrive\\home$\\u045\\shepard\\GitHub\\message-ix-models\\message_ix_models\\report\\legacy\\pp_utils.py:558: FutureWarning: Setting an item of incompatible dtype is deprecated and will raise in a future error of pandas. Value '[2030 2030 2030 2030 2030 2030 2030 2030 2030 2030 2030 2030 2030]' has dtype incompatible with int64, please explicitly cast to a compatible dtype first.\n",
      "\\\\hdrive\\home$\\u045\\shepard\\GitHub\\message-ix-models\\message_ix_models\\report\\legacy\\pp_utils.py:558: FutureWarning: Setting an item of incompatible dtype is deprecated and will raise in a future error of pandas. Value '[2030 2030 2030 2030 2030 2030 2030 2030 2030 2030 2030 2030 2030]' has dtype incompatible with int64, please explicitly cast to a compatible dtype first.\n",
      "\\\\hdrive\\home$\\u045\\shepard\\GitHub\\message-ix-models\\message_ix_models\\report\\legacy\\pp_utils.py:558: FutureWarning: Setting an item of incompatible dtype is deprecated and will raise in a future error of pandas. Value '[2030 2030 2030 2030 2030 2030 2030 2030 2030 2030 2030 2030 2030]' has dtype incompatible with int64, please explicitly cast to a compatible dtype first.\n",
      "\\\\hdrive\\home$\\u045\\shepard\\GitHub\\message-ix-models\\message_ix_models\\report\\legacy\\pp_utils.py:558: FutureWarning: Setting an item of incompatible dtype is deprecated and will raise in a future error of pandas. Value '[2030 2030 2030 2030 2030 2030 2030 2030 2030 2030 2030 2030 2030]' has dtype incompatible with int64, please explicitly cast to a compatible dtype first.\n",
      "\\\\hdrive\\home$\\u045\\shepard\\GitHub\\message-ix-models\\message_ix_models\\report\\legacy\\pp_utils.py:558: FutureWarning: Setting an item of incompatible dtype is deprecated and will raise in a future error of pandas. Value '[2030 2030 2030 2030 2030 2030 2030 2030 2030 2030 2030 2030 2030]' has dtype incompatible with int64, please explicitly cast to a compatible dtype first.\n",
      "\\\\hdrive\\home$\\u045\\shepard\\GitHub\\message-ix-models\\message_ix_models\\report\\legacy\\pp_utils.py:558: FutureWarning: Setting an item of incompatible dtype is deprecated and will raise in a future error of pandas. Value '[2030 2030 2030 2030 2030 2030 2030 2030 2030 2030 2030 2030 2030]' has dtype incompatible with int64, please explicitly cast to a compatible dtype first.\n",
      "\\\\hdrive\\home$\\u045\\shepard\\GitHub\\message-ix-models\\message_ix_models\\report\\legacy\\pp_utils.py:558: FutureWarning: Setting an item of incompatible dtype is deprecated and will raise in a future error of pandas. Value '[2030 2030 2030 2030 2030 2030 2030 2030 2030 2030 2030 2030 2030]' has dtype incompatible with int64, please explicitly cast to a compatible dtype first.\n",
      "\\\\hdrive\\home$\\u045\\shepard\\GitHub\\message-ix-models\\message_ix_models\\report\\legacy\\pp_utils.py:558: FutureWarning: Setting an item of incompatible dtype is deprecated and will raise in a future error of pandas. Value '[2030 2030 2030 2030 2030 2030 2030 2030 2030 2030 2030 2030 2030]' has dtype incompatible with int64, please explicitly cast to a compatible dtype first.\n",
      "\\\\hdrive\\home$\\u045\\shepard\\GitHub\\message-ix-models\\message_ix_models\\report\\legacy\\pp_utils.py:558: FutureWarning: Setting an item of incompatible dtype is deprecated and will raise in a future error of pandas. Value '[2030 2030 2030 2030 2030 2030 2030 2030 2030 2030 2030 2030 2030]' has dtype incompatible with int64, please explicitly cast to a compatible dtype first.\n",
      "\\\\hdrive\\home$\\u045\\shepard\\GitHub\\message-ix-models\\message_ix_models\\report\\legacy\\pp_utils.py:558: FutureWarning: Setting an item of incompatible dtype is deprecated and will raise in a future error of pandas. Value '[2030 2030 2030 2030 2030 2030 2030 2030 2030 2030 2030 2030 2030]' has dtype incompatible with int64, please explicitly cast to a compatible dtype first.\n",
      "\\\\hdrive\\home$\\u045\\shepard\\GitHub\\message-ix-models\\message_ix_models\\report\\legacy\\pp_utils.py:558: FutureWarning: Setting an item of incompatible dtype is deprecated and will raise in a future error of pandas. Value '[2030 2030 2030 2030 2030 2030 2030 2030 2030 2030 2030 2030 2030]' has dtype incompatible with int64, please explicitly cast to a compatible dtype first.\n",
      "\\\\hdrive\\home$\\u045\\shepard\\GitHub\\message-ix-models\\message_ix_models\\report\\legacy\\pp_utils.py:558: FutureWarning: Setting an item of incompatible dtype is deprecated and will raise in a future error of pandas. Value '[2030 2030 2030 2030 2030 2030 2030 2030 2030 2030 2030 2030 2030]' has dtype incompatible with int64, please explicitly cast to a compatible dtype first.\n",
      "\\\\hdrive\\home$\\u045\\shepard\\GitHub\\message-ix-models\\message_ix_models\\report\\legacy\\pp_utils.py:558: FutureWarning: Setting an item of incompatible dtype is deprecated and will raise in a future error of pandas. Value '[2030 2030 2030 2030 2030 2030 2030 2030 2030 2030 2030 2030 2030]' has dtype incompatible with int64, please explicitly cast to a compatible dtype first.\n",
      "\\\\hdrive\\home$\\u045\\shepard\\GitHub\\message-ix-models\\message_ix_models\\report\\legacy\\pp_utils.py:558: FutureWarning: Setting an item of incompatible dtype is deprecated and will raise in a future error of pandas. Value '[2030 2030 2030 2030 2030 2030 2030 2030 2030 2030 2030 2030 2030]' has dtype incompatible with int64, please explicitly cast to a compatible dtype first.\n",
      "\\\\hdrive\\home$\\u045\\shepard\\GitHub\\message-ix-models\\message_ix_models\\report\\legacy\\pp_utils.py:558: FutureWarning: Setting an item of incompatible dtype is deprecated and will raise in a future error of pandas. Value '[2030 2030 2030 2030 2030 2030 2030 2030 2030 2030 2030 2030 2030]' has dtype incompatible with int64, please explicitly cast to a compatible dtype first.\n",
      "\\\\hdrive\\home$\\u045\\shepard\\GitHub\\message-ix-models\\message_ix_models\\report\\legacy\\pp_utils.py:558: FutureWarning: Setting an item of incompatible dtype is deprecated and will raise in a future error of pandas. Value '[2030 2030 2030 2030 2030 2030 2030 2030 2030 2030 2030 2030 2030]' has dtype incompatible with int64, please explicitly cast to a compatible dtype first.\n",
      "\\\\hdrive\\home$\\u045\\shepard\\GitHub\\message-ix-models\\message_ix_models\\report\\legacy\\pp_utils.py:558: FutureWarning: Setting an item of incompatible dtype is deprecated and will raise in a future error of pandas. Value '[2030 2030 2030 2030 2030 2030 2030 2030 2030 2030 2030 2030 2030]' has dtype incompatible with int64, please explicitly cast to a compatible dtype first.\n",
      "\\\\hdrive\\home$\\u045\\shepard\\GitHub\\message-ix-models\\message_ix_models\\report\\legacy\\pp_utils.py:558: FutureWarning: Setting an item of incompatible dtype is deprecated and will raise in a future error of pandas. Value '[2030 2030 2030 2030 2030 2030 2030 2030 2030 2030 2030 2030 2030]' has dtype incompatible with int64, please explicitly cast to a compatible dtype first.\n",
      "\\\\hdrive\\home$\\u045\\shepard\\GitHub\\message-ix-models\\message_ix_models\\report\\legacy\\pp_utils.py:558: FutureWarning: Setting an item of incompatible dtype is deprecated and will raise in a future error of pandas. Value '[2030 2030 2030 2030 2030 2030 2030 2030 2030 2030 2030 2030 2030]' has dtype incompatible with int64, please explicitly cast to a compatible dtype first.\n",
      "\\\\hdrive\\home$\\u045\\shepard\\GitHub\\message-ix-models\\message_ix_models\\report\\legacy\\pp_utils.py:558: FutureWarning: Setting an item of incompatible dtype is deprecated and will raise in a future error of pandas. Value '[2030 2030 2030 2030 2030 2030 2030 2030 2030 2030 2030 2030 2030]' has dtype incompatible with int64, please explicitly cast to a compatible dtype first.\n",
      "\\\\hdrive\\home$\\u045\\shepard\\GitHub\\message-ix-models\\message_ix_models\\report\\legacy\\pp_utils.py:558: FutureWarning: Setting an item of incompatible dtype is deprecated and will raise in a future error of pandas. Value '[2030 2030 2030 2030 2030 2030 2030 2030 2030 2030 2030 2030 2030]' has dtype incompatible with int64, please explicitly cast to a compatible dtype first.\n",
      "\\\\hdrive\\home$\\u045\\shepard\\GitHub\\message-ix-models\\message_ix_models\\report\\legacy\\pp_utils.py:558: FutureWarning: Setting an item of incompatible dtype is deprecated and will raise in a future error of pandas. Value '[2030 2030 2030 2030 2030 2030 2030 2030 2030 2030 2030 2030 2030]' has dtype incompatible with int64, please explicitly cast to a compatible dtype first.\n",
      "\\\\hdrive\\home$\\u045\\shepard\\GitHub\\message-ix-models\\message_ix_models\\report\\legacy\\pp_utils.py:558: FutureWarning: Setting an item of incompatible dtype is deprecated and will raise in a future error of pandas. Value '[2030 2030 2030 2030 2030 2030 2030 2030 2030 2030 2030 2030 2030]' has dtype incompatible with int64, please explicitly cast to a compatible dtype first.\n",
      "\\\\hdrive\\home$\\u045\\shepard\\GitHub\\message-ix-models\\message_ix_models\\report\\legacy\\pp_utils.py:558: FutureWarning: Setting an item of incompatible dtype is deprecated and will raise in a future error of pandas. Value '[2030 2030 2030 2030 2030 2030 2030 2030 2030 2030 2030 2030 2030]' has dtype incompatible with int64, please explicitly cast to a compatible dtype first.\n",
      "\\\\hdrive\\home$\\u045\\shepard\\GitHub\\message-ix-models\\message_ix_models\\report\\legacy\\pp_utils.py:558: FutureWarning: Setting an item of incompatible dtype is deprecated and will raise in a future error of pandas. Value '[2030 2030 2030 2030 2030 2030 2030 2030 2030 2030 2030 2030 2030]' has dtype incompatible with int64, please explicitly cast to a compatible dtype first.\n",
      "\\\\hdrive\\home$\\u045\\shepard\\GitHub\\message-ix-models\\message_ix_models\\report\\legacy\\pp_utils.py:558: FutureWarning: Setting an item of incompatible dtype is deprecated and will raise in a future error of pandas. Value '[2030 2030 2030 2030 2030 2030 2030 2030 2030 2030 2030 2030 2030]' has dtype incompatible with int64, please explicitly cast to a compatible dtype first.\n",
      "\\\\hdrive\\home$\\u045\\shepard\\GitHub\\message-ix-models\\message_ix_models\\report\\legacy\\pp_utils.py:558: FutureWarning: Setting an item of incompatible dtype is deprecated and will raise in a future error of pandas. Value '[2030 2030 2030 2030 2030 2030 2030 2030 2030 2030 2030 2030 2030]' has dtype incompatible with int64, please explicitly cast to a compatible dtype first.\n",
      "\\\\hdrive\\home$\\u045\\shepard\\GitHub\\message-ix-models\\message_ix_models\\report\\legacy\\pp_utils.py:558: FutureWarning: Setting an item of incompatible dtype is deprecated and will raise in a future error of pandas. Value '[2030 2030 2030 2030 2030 2030 2030 2030 2030 2030 2030 2030 2030]' has dtype incompatible with int64, please explicitly cast to a compatible dtype first.\n",
      "\\\\hdrive\\home$\\u045\\shepard\\GitHub\\message-ix-models\\message_ix_models\\report\\legacy\\pp_utils.py:558: FutureWarning: Setting an item of incompatible dtype is deprecated and will raise in a future error of pandas. Value '[2030 2030 2030 2030 2030 2030 2030 2030 2030 2030 2030 2030 2030]' has dtype incompatible with int64, please explicitly cast to a compatible dtype first.\n",
      "\\\\hdrive\\home$\\u045\\shepard\\GitHub\\message-ix-models\\message_ix_models\\report\\legacy\\pp_utils.py:558: FutureWarning: Setting an item of incompatible dtype is deprecated and will raise in a future error of pandas. Value '[2030 2030 2030 2030 2030 2030 2030 2030 2030 2030 2030 2030 2030]' has dtype incompatible with int64, please explicitly cast to a compatible dtype first.\n",
      "\\\\hdrive\\home$\\u045\\shepard\\GitHub\\message-ix-models\\message_ix_models\\report\\legacy\\pp_utils.py:558: FutureWarning: Setting an item of incompatible dtype is deprecated and will raise in a future error of pandas. Value '[2030 2030 2030 2030 2030 2030 2030 2030 2030 2030 2030 2030 2030]' has dtype incompatible with int64, please explicitly cast to a compatible dtype first.\n",
      "\\\\hdrive\\home$\\u045\\shepard\\GitHub\\message-ix-models\\message_ix_models\\report\\legacy\\pp_utils.py:558: FutureWarning: Setting an item of incompatible dtype is deprecated and will raise in a future error of pandas. Value '[2030 2030 2030 2030 2030 2030 2030 2030 2030 2030 2030 2030 2030]' has dtype incompatible with int64, please explicitly cast to a compatible dtype first.\n",
      "\\\\hdrive\\home$\\u045\\shepard\\GitHub\\message-ix-models\\message_ix_models\\report\\legacy\\pp_utils.py:558: FutureWarning: Setting an item of incompatible dtype is deprecated and will raise in a future error of pandas. Value '[2030 2030 2030 2030 2030 2030 2030 2030 2030 2030 2030 2030 2030]' has dtype incompatible with int64, please explicitly cast to a compatible dtype first.\n",
      "\\\\hdrive\\home$\\u045\\shepard\\GitHub\\message-ix-models\\message_ix_models\\report\\legacy\\pp_utils.py:558: FutureWarning: Setting an item of incompatible dtype is deprecated and will raise in a future error of pandas. Value '[2030 2030 2030 2030 2030 2030 2030 2030 2030 2030 2030 2030 2030]' has dtype incompatible with int64, please explicitly cast to a compatible dtype first.\n",
      "\\\\hdrive\\home$\\u045\\shepard\\GitHub\\message-ix-models\\message_ix_models\\report\\legacy\\pp_utils.py:558: FutureWarning: Setting an item of incompatible dtype is deprecated and will raise in a future error of pandas. Value '[2030 2030 2030 2030 2030 2030 2030 2030 2030 2030 2030 2030 2030]' has dtype incompatible with int64, please explicitly cast to a compatible dtype first.\n",
      "\\\\hdrive\\home$\\u045\\shepard\\GitHub\\message-ix-models\\message_ix_models\\report\\legacy\\pp_utils.py:558: FutureWarning: Setting an item of incompatible dtype is deprecated and will raise in a future error of pandas. Value '[2030 2030 2030 2030 2030 2030 2030 2030 2030 2030 2030 2030 2030]' has dtype incompatible with int64, please explicitly cast to a compatible dtype first.\n",
      "\\\\hdrive\\home$\\u045\\shepard\\GitHub\\message-ix-models\\message_ix_models\\report\\legacy\\pp_utils.py:558: FutureWarning: Setting an item of incompatible dtype is deprecated and will raise in a future error of pandas. Value '[2030 2030 2030 2030 2030 2030 2030 2030 2030 2030 2030 2030 2030]' has dtype incompatible with int64, please explicitly cast to a compatible dtype first.\n",
      "\\\\hdrive\\home$\\u045\\shepard\\GitHub\\message-ix-models\\message_ix_models\\report\\legacy\\pp_utils.py:558: FutureWarning: Setting an item of incompatible dtype is deprecated and will raise in a future error of pandas. Value '[2030 2030 2030 2030 2030 2030 2030 2030 2030 2030 2030 2030 2030]' has dtype incompatible with int64, please explicitly cast to a compatible dtype first.\n",
      "\\\\hdrive\\home$\\u045\\shepard\\GitHub\\message-ix-models\\message_ix_models\\report\\legacy\\pp_utils.py:558: FutureWarning: Setting an item of incompatible dtype is deprecated and will raise in a future error of pandas. Value '[2030 2030 2030 2030 2030 2030 2030 2030 2030 2030 2030 2030 2030]' has dtype incompatible with int64, please explicitly cast to a compatible dtype first.\n",
      "\\\\hdrive\\home$\\u045\\shepard\\GitHub\\message-ix-models\\message_ix_models\\report\\legacy\\pp_utils.py:558: FutureWarning: Setting an item of incompatible dtype is deprecated and will raise in a future error of pandas. Value '[2030 2030 2030 2030 2030 2030 2030 2030 2030 2030 2030 2030 2030]' has dtype incompatible with int64, please explicitly cast to a compatible dtype first.\n",
      "\\\\hdrive\\home$\\u045\\shepard\\GitHub\\message-ix-models\\message_ix_models\\report\\legacy\\pp_utils.py:558: FutureWarning: Setting an item of incompatible dtype is deprecated and will raise in a future error of pandas. Value '[2030 2030 2030 2030 2030 2030 2030 2030 2030 2030 2030 2030 2030]' has dtype incompatible with int64, please explicitly cast to a compatible dtype first.\n",
      "\\\\hdrive\\home$\\u045\\shepard\\GitHub\\message-ix-models\\message_ix_models\\report\\legacy\\pp_utils.py:558: FutureWarning: Setting an item of incompatible dtype is deprecated and will raise in a future error of pandas. Value '[2030 2030 2030 2030 2030 2030 2030 2030 2030 2030 2030 2030 2030]' has dtype incompatible with int64, please explicitly cast to a compatible dtype first.\n",
      "\\\\hdrive\\home$\\u045\\shepard\\GitHub\\message-ix-models\\message_ix_models\\report\\legacy\\pp_utils.py:558: FutureWarning: Setting an item of incompatible dtype is deprecated and will raise in a future error of pandas. Value '[2030 2030 2030 2030 2030 2030 2030 2030 2030 2030 2030 2030 2030]' has dtype incompatible with int64, please explicitly cast to a compatible dtype first.\n",
      "\\\\hdrive\\home$\\u045\\shepard\\GitHub\\message-ix-models\\message_ix_models\\report\\legacy\\pp_utils.py:558: FutureWarning: Setting an item of incompatible dtype is deprecated and will raise in a future error of pandas. Value '[2030 2030 2030 2030 2030 2030 2030 2030 2030 2030 2030 2030 2030]' has dtype incompatible with int64, please explicitly cast to a compatible dtype first.\n",
      "\\\\hdrive\\home$\\u045\\shepard\\GitHub\\message-ix-models\\message_ix_models\\report\\legacy\\pp_utils.py:558: FutureWarning: Setting an item of incompatible dtype is deprecated and will raise in a future error of pandas. Value '[2030 2030 2030 2030 2030 2030 2030 2030 2030 2030 2030 2030 2030]' has dtype incompatible with int64, please explicitly cast to a compatible dtype first.\n",
      "\\\\hdrive\\home$\\u045\\shepard\\GitHub\\message-ix-models\\message_ix_models\\report\\legacy\\pp_utils.py:558: FutureWarning: Setting an item of incompatible dtype is deprecated and will raise in a future error of pandas. Value '[2030 2030 2030 2030 2030 2030 2030 2030 2030 2030 2030 2030 2030]' has dtype incompatible with int64, please explicitly cast to a compatible dtype first.\n",
      "\\\\hdrive\\home$\\u045\\shepard\\GitHub\\message-ix-models\\message_ix_models\\report\\legacy\\pp_utils.py:558: FutureWarning: Setting an item of incompatible dtype is deprecated and will raise in a future error of pandas. Value '[2030 2030 2030 2030 2030 2030 2030 2030 2030 2030 2030 2030 2030]' has dtype incompatible with int64, please explicitly cast to a compatible dtype first.\n",
      "\\\\hdrive\\home$\\u045\\shepard\\GitHub\\message-ix-models\\message_ix_models\\report\\legacy\\pp_utils.py:558: FutureWarning: Setting an item of incompatible dtype is deprecated and will raise in a future error of pandas. Value '[2030 2030 2030 2030 2030 2030 2030 2030 2030 2030 2030 2030 2030]' has dtype incompatible with int64, please explicitly cast to a compatible dtype first.\n",
      "\\\\hdrive\\home$\\u045\\shepard\\GitHub\\message-ix-models\\message_ix_models\\report\\legacy\\pp_utils.py:558: FutureWarning: Setting an item of incompatible dtype is deprecated and will raise in a future error of pandas. Value '[2030 2030 2030 2030 2030 2030 2030 2030 2030 2030 2030 2030 2030]' has dtype incompatible with int64, please explicitly cast to a compatible dtype first.\n",
      "\\\\hdrive\\home$\\u045\\shepard\\GitHub\\message-ix-models\\message_ix_models\\report\\legacy\\pp_utils.py:558: FutureWarning: Setting an item of incompatible dtype is deprecated and will raise in a future error of pandas. Value '[2030 2030 2030 2030 2030 2030 2030 2030 2030 2030 2030 2030 2030]' has dtype incompatible with int64, please explicitly cast to a compatible dtype first.\n",
      "\\\\hdrive\\home$\\u045\\shepard\\GitHub\\message-ix-models\\message_ix_models\\report\\legacy\\pp_utils.py:558: FutureWarning: Setting an item of incompatible dtype is deprecated and will raise in a future error of pandas. Value '[2030 2030 2030 2030 2030 2030 2030 2030 2030 2030 2030 2030 2030]' has dtype incompatible with int64, please explicitly cast to a compatible dtype first.\n",
      "\\\\hdrive\\home$\\u045\\shepard\\GitHub\\message-ix-models\\message_ix_models\\report\\legacy\\pp_utils.py:558: FutureWarning: Setting an item of incompatible dtype is deprecated and will raise in a future error of pandas. Value '[2030 2030 2030 2030 2030 2030 2030 2030 2030 2030 2030 2030 2030]' has dtype incompatible with int64, please explicitly cast to a compatible dtype first.\n",
      "\\\\hdrive\\home$\\u045\\shepard\\GitHub\\message-ix-models\\message_ix_models\\report\\legacy\\pp_utils.py:558: FutureWarning: Setting an item of incompatible dtype is deprecated and will raise in a future error of pandas. Value '[2030 2030 2030 2030 2030 2030 2030 2030 2030 2030 2030 2030 2030]' has dtype incompatible with int64, please explicitly cast to a compatible dtype first.\n",
      "\\\\hdrive\\home$\\u045\\shepard\\GitHub\\message-ix-models\\message_ix_models\\report\\legacy\\pp_utils.py:558: FutureWarning: Setting an item of incompatible dtype is deprecated and will raise in a future error of pandas. Value '[2030 2030 2030 2030 2030 2030 2030 2030 2030 2030 2030 2030 2030]' has dtype incompatible with int64, please explicitly cast to a compatible dtype first.\n",
      "\\\\hdrive\\home$\\u045\\shepard\\GitHub\\message-ix-models\\message_ix_models\\report\\legacy\\pp_utils.py:558: FutureWarning: Setting an item of incompatible dtype is deprecated and will raise in a future error of pandas. Value '[2030 2030 2030 2030 2030 2030 2030 2030 2030 2030 2030 2030 2030]' has dtype incompatible with int64, please explicitly cast to a compatible dtype first.\n",
      "\\\\hdrive\\home$\\u045\\shepard\\GitHub\\message-ix-models\\message_ix_models\\report\\legacy\\pp_utils.py:558: FutureWarning: Setting an item of incompatible dtype is deprecated and will raise in a future error of pandas. Value '[2030 2030 2030 2030 2030 2030 2030 2030 2030 2030 2030 2030 2030]' has dtype incompatible with int64, please explicitly cast to a compatible dtype first.\n",
      "\\\\hdrive\\home$\\u045\\shepard\\GitHub\\message-ix-models\\message_ix_models\\report\\legacy\\pp_utils.py:558: FutureWarning: Setting an item of incompatible dtype is deprecated and will raise in a future error of pandas. Value '[2030 2030 2030 2030 2030 2030 2030 2030 2030 2030 2030 2030 2030]' has dtype incompatible with int64, please explicitly cast to a compatible dtype first.\n",
      "\\\\hdrive\\home$\\u045\\shepard\\GitHub\\message-ix-models\\message_ix_models\\report\\legacy\\pp_utils.py:558: FutureWarning: Setting an item of incompatible dtype is deprecated and will raise in a future error of pandas. Value '[2030 2030 2030 2030 2030 2030 2030 2030 2030 2030 2030 2030 2030]' has dtype incompatible with int64, please explicitly cast to a compatible dtype first.\n",
      "\\\\hdrive\\home$\\u045\\shepard\\GitHub\\message-ix-models\\message_ix_models\\report\\legacy\\pp_utils.py:558: FutureWarning: Setting an item of incompatible dtype is deprecated and will raise in a future error of pandas. Value '[2030 2030 2030 2030 2030 2030 2030 2030 2030 2030 2030 2030 2030]' has dtype incompatible with int64, please explicitly cast to a compatible dtype first.\n",
      "\\\\hdrive\\home$\\u045\\shepard\\GitHub\\message-ix-models\\message_ix_models\\report\\legacy\\pp_utils.py:558: FutureWarning: Setting an item of incompatible dtype is deprecated and will raise in a future error of pandas. Value '[2030 2030 2030 2030 2030 2030 2030 2030 2030 2030 2030 2030 2030]' has dtype incompatible with int64, please explicitly cast to a compatible dtype first.\n",
      "\\\\hdrive\\home$\\u045\\shepard\\GitHub\\message-ix-models\\message_ix_models\\report\\legacy\\pp_utils.py:558: FutureWarning: Setting an item of incompatible dtype is deprecated and will raise in a future error of pandas. Value '[2030 2030 2030 2030 2030 2030 2030 2030 2030 2030 2030 2030 2030]' has dtype incompatible with int64, please explicitly cast to a compatible dtype first.\n",
      "\\\\hdrive\\home$\\u045\\shepard\\GitHub\\message-ix-models\\message_ix_models\\report\\legacy\\pp_utils.py:558: FutureWarning: Setting an item of incompatible dtype is deprecated and will raise in a future error of pandas. Value '[2030 2030 2030 2030 2030 2030 2030 2030 2030 2030 2030 2030 2030]' has dtype incompatible with int64, please explicitly cast to a compatible dtype first.\n",
      "\\\\hdrive\\home$\\u045\\shepard\\GitHub\\message-ix-models\\message_ix_models\\report\\legacy\\pp_utils.py:558: FutureWarning: Setting an item of incompatible dtype is deprecated and will raise in a future error of pandas. Value '[2030 2030 2030 2030 2030 2030 2030 2030 2030 2030 2030 2030 2030]' has dtype incompatible with int64, please explicitly cast to a compatible dtype first.\n",
      "\\\\hdrive\\home$\\u045\\shepard\\GitHub\\message-ix-models\\message_ix_models\\report\\legacy\\pp_utils.py:558: FutureWarning: Setting an item of incompatible dtype is deprecated and will raise in a future error of pandas. Value '[2030 2030 2030 2030 2030 2030 2030 2030 2030 2030 2030 2030 2030]' has dtype incompatible with int64, please explicitly cast to a compatible dtype first.\n",
      "\\\\hdrive\\home$\\u045\\shepard\\GitHub\\message-ix-models\\message_ix_models\\report\\legacy\\pp_utils.py:558: FutureWarning: Setting an item of incompatible dtype is deprecated and will raise in a future error of pandas. Value '[2030 2030 2030 2030 2030 2030 2030 2030 2030 2030 2030 2030 2030]' has dtype incompatible with int64, please explicitly cast to a compatible dtype first.\n",
      "\\\\hdrive\\home$\\u045\\shepard\\GitHub\\message-ix-models\\message_ix_models\\report\\legacy\\pp_utils.py:558: FutureWarning: Setting an item of incompatible dtype is deprecated and will raise in a future error of pandas. Value '[2030 2030 2030 2030 2030 2030 2030 2030 2030 2030 2030 2030 2030]' has dtype incompatible with int64, please explicitly cast to a compatible dtype first.\n",
      "\\\\hdrive\\home$\\u045\\shepard\\GitHub\\message-ix-models\\message_ix_models\\report\\legacy\\pp_utils.py:558: FutureWarning: Setting an item of incompatible dtype is deprecated and will raise in a future error of pandas. Value '[2030 2030 2030 2030 2030 2030 2030 2030 2030 2030 2030 2030 2030]' has dtype incompatible with int64, please explicitly cast to a compatible dtype first.\n",
      "\\\\hdrive\\home$\\u045\\shepard\\GitHub\\message-ix-models\\message_ix_models\\report\\legacy\\pp_utils.py:558: FutureWarning: Setting an item of incompatible dtype is deprecated and will raise in a future error of pandas. Value '[2030 2030 2030 2030 2030 2030 2030 2030 2030 2030 2030 2030 2030]' has dtype incompatible with int64, please explicitly cast to a compatible dtype first.\n",
      "\\\\hdrive\\home$\\u045\\shepard\\GitHub\\message-ix-models\\message_ix_models\\report\\legacy\\pp_utils.py:558: FutureWarning: Setting an item of incompatible dtype is deprecated and will raise in a future error of pandas. Value '[2030 2030 2030 2030 2030 2030 2030 2030 2030 2030 2030 2030 2030]' has dtype incompatible with int64, please explicitly cast to a compatible dtype first.\n",
      "\\\\hdrive\\home$\\u045\\shepard\\GitHub\\message-ix-models\\message_ix_models\\report\\legacy\\pp_utils.py:558: FutureWarning: Setting an item of incompatible dtype is deprecated and will raise in a future error of pandas. Value '[2030 2030 2030 2030 2030 2030 2030 2030 2030 2030 2030 2030 2030]' has dtype incompatible with int64, please explicitly cast to a compatible dtype first.\n",
      "\\\\hdrive\\home$\\u045\\shepard\\GitHub\\message-ix-models\\message_ix_models\\report\\legacy\\pp_utils.py:558: FutureWarning: Setting an item of incompatible dtype is deprecated and will raise in a future error of pandas. Value '[2030 2030 2030 2030 2030 2030 2030 2030 2030 2030 2030 2030 2030]' has dtype incompatible with int64, please explicitly cast to a compatible dtype first.\n",
      "\\\\hdrive\\home$\\u045\\shepard\\GitHub\\message-ix-models\\message_ix_models\\report\\legacy\\pp_utils.py:558: FutureWarning: Setting an item of incompatible dtype is deprecated and will raise in a future error of pandas. Value '[2030 2030 2030 2030 2030 2030 2030 2030 2030 2030 2030 2030 2030]' has dtype incompatible with int64, please explicitly cast to a compatible dtype first.\n",
      "\\\\hdrive\\home$\\u045\\shepard\\GitHub\\message-ix-models\\message_ix_models\\report\\legacy\\pp_utils.py:558: FutureWarning: Setting an item of incompatible dtype is deprecated and will raise in a future error of pandas. Value '[2030 2030 2030 2030 2030 2030 2030 2030 2030 2030 2030 2030 2030]' has dtype incompatible with int64, please explicitly cast to a compatible dtype first.\n",
      "\\\\hdrive\\home$\\u045\\shepard\\GitHub\\message-ix-models\\message_ix_models\\report\\legacy\\pp_utils.py:558: FutureWarning: Setting an item of incompatible dtype is deprecated and will raise in a future error of pandas. Value '[2030 2030 2030 2030 2030 2030 2030 2030 2030 2030 2030 2030 2030]' has dtype incompatible with int64, please explicitly cast to a compatible dtype first.\n",
      "\\\\hdrive\\home$\\u045\\shepard\\GitHub\\message-ix-models\\message_ix_models\\report\\legacy\\pp_utils.py:558: FutureWarning: Setting an item of incompatible dtype is deprecated and will raise in a future error of pandas. Value '[2030 2030 2030 2030 2030 2030 2030 2030 2030 2030 2030 2030 2030]' has dtype incompatible with int64, please explicitly cast to a compatible dtype first.\n",
      "\\\\hdrive\\home$\\u045\\shepard\\GitHub\\message-ix-models\\message_ix_models\\report\\legacy\\pp_utils.py:558: FutureWarning: Setting an item of incompatible dtype is deprecated and will raise in a future error of pandas. Value '[2030 2030 2030 2030 2030 2030 2030 2030 2030 2030 2030 2030 2030]' has dtype incompatible with int64, please explicitly cast to a compatible dtype first.\n",
      "\\\\hdrive\\home$\\u045\\shepard\\GitHub\\message-ix-models\\message_ix_models\\report\\legacy\\pp_utils.py:558: FutureWarning: Setting an item of incompatible dtype is deprecated and will raise in a future error of pandas. Value '[2030 2030 2030 2030 2030 2030 2030 2030 2030 2030 2030 2030 2030]' has dtype incompatible with int64, please explicitly cast to a compatible dtype first.\n",
      "\\\\hdrive\\home$\\u045\\shepard\\GitHub\\message-ix-models\\message_ix_models\\report\\legacy\\pp_utils.py:558: FutureWarning: Setting an item of incompatible dtype is deprecated and will raise in a future error of pandas. Value '[2030 2030 2030 2030 2030 2030 2030 2030 2030 2030 2030 2030 2030]' has dtype incompatible with int64, please explicitly cast to a compatible dtype first.\n",
      "\\\\hdrive\\home$\\u045\\shepard\\GitHub\\message-ix-models\\message_ix_models\\report\\legacy\\pp_utils.py:558: FutureWarning: Setting an item of incompatible dtype is deprecated and will raise in a future error of pandas. Value '[2030 2030 2030 2030 2030 2030 2030 2030 2030 2030 2030 2030 2030]' has dtype incompatible with int64, please explicitly cast to a compatible dtype first.\n",
      "\\\\hdrive\\home$\\u045\\shepard\\GitHub\\message-ix-models\\message_ix_models\\report\\legacy\\pp_utils.py:558: FutureWarning: Setting an item of incompatible dtype is deprecated and will raise in a future error of pandas. Value '[2030 2030 2030 2030 2030 2030 2030 2030 2030 2030 2030 2030 2030]' has dtype incompatible with int64, please explicitly cast to a compatible dtype first.\n"
     ]
    },
    {
     "name": "stdout",
     "output_type": "stream",
     "text": [
      "processing Table: GDP\n"
     ]
    },
    {
     "name": "stderr",
     "output_type": "stream",
     "text": [
      "\\\\hdrive\\home$\\u045\\shepard\\GitHub\\message-ix-models\\message_ix_models\\report\\legacy\\default_tables.py:1935: FutureWarning: DataFrame.fillna with 'method' is deprecated and will raise in a future version. Use obj.ffill() or obj.bfill() instead.\n"
     ]
    },
    {
     "name": "stdout",
     "output_type": "stream",
     "text": [
      "processing Table: Cost\n",
      "processing Table: GLOBIOM Feedback\n"
     ]
    },
    {
     "name": "stderr",
     "output_type": "stream",
     "text": [
      "\\\\hdrive\\home$\\u045\\shepard\\GitHub\\message-ix-models\\message_ix_models\\report\\legacy\\default_tables.py:1824: FutureWarning: DataFrame.fillna with 'method' is deprecated and will raise in a future version. Use obj.ffill() or obj.bfill() instead.\n"
     ]
    },
    {
     "name": "stdout",
     "output_type": "stream",
     "text": [
      "no emissions included\n",
      "no emissions included\n",
      "no emissions included\n",
      "no emissions included\n",
      "no emissions included\n",
      "no emissions included\n",
      "no emissions included\n",
      "no emissions included\n",
      "no emissions included\n",
      "no emissions included\n"
     ]
    },
    {
     "name": "stderr",
     "output_type": "stream",
     "text": [
      "\\\\hdrive\\home$\\u045\\shepard\\GitHub\\message-ix-models\\message_ix_models\\util\\compat\\message_data\\utilities.py:191: FutureWarning: DataFrame.applymap has been deprecated. Use DataFrame.map instead.\n"
     ]
    },
    {
     "name": "stdout",
     "output_type": "stream",
     "text": [
      "no emissions included\n"
     ]
    },
    {
     "name": "stderr",
     "output_type": "stream",
     "text": [
      "\\\\hdrive\\home$\\u045\\shepard\\GitHub\\message-ix-models\\message_ix_models\\util\\compat\\message_data\\utilities.py:191: FutureWarning: DataFrame.applymap has been deprecated. Use DataFrame.map instead.\n",
      "\\\\hdrive\\home$\\u045\\shepard\\GitHub\\message-ix-models\\message_ix_models\\util\\compat\\message_data\\utilities.py:191: FutureWarning: DataFrame.applymap has been deprecated. Use DataFrame.map instead.\n",
      "\\\\hdrive\\home$\\u045\\shepard\\GitHub\\message-ix-models\\message_ix_models\\util\\compat\\message_data\\utilities.py:191: FutureWarning: DataFrame.applymap has been deprecated. Use DataFrame.map instead.\n",
      "\\\\hdrive\\home$\\u045\\shepard\\GitHub\\message-ix-models\\message_ix_models\\util\\compat\\message_data\\utilities.py:191: FutureWarning: DataFrame.applymap has been deprecated. Use DataFrame.map instead.\n",
      "\\\\hdrive\\home$\\u045\\shepard\\GitHub\\message-ix-models\\message_ix_models\\util\\compat\\message_data\\utilities.py:191: FutureWarning: DataFrame.applymap has been deprecated. Use DataFrame.map instead.\n",
      "\\\\hdrive\\home$\\u045\\shepard\\GitHub\\message-ix-models\\message_ix_models\\util\\compat\\message_data\\utilities.py:191: FutureWarning: DataFrame.applymap has been deprecated. Use DataFrame.map instead.\n",
      "\\\\hdrive\\home$\\u045\\shepard\\GitHub\\message-ix-models\\message_ix_models\\util\\compat\\message_data\\utilities.py:191: FutureWarning: DataFrame.applymap has been deprecated. Use DataFrame.map instead.\n",
      "\\\\hdrive\\home$\\u045\\shepard\\GitHub\\message-ix-models\\message_ix_models\\util\\compat\\message_data\\utilities.py:191: FutureWarning: DataFrame.applymap has been deprecated. Use DataFrame.map instead.\n",
      "\\\\hdrive\\home$\\u045\\shepard\\GitHub\\message-ix-models\\message_ix_models\\util\\compat\\message_data\\utilities.py:191: FutureWarning: DataFrame.applymap has been deprecated. Use DataFrame.map instead.\n",
      "\\\\hdrive\\home$\\u045\\shepard\\GitHub\\message-ix-models\\message_ix_models\\util\\compat\\message_data\\utilities.py:191: FutureWarning: DataFrame.applymap has been deprecated. Use DataFrame.map instead.\n"
     ]
    },
    {
     "name": "stdout",
     "output_type": "stream",
     "text": [
      "no emissions included\n",
      "no emissions included\n",
      "no emissions included\n",
      "no emissions included\n",
      "no emissions included\n",
      "no emissions included\n",
      "no emissions included\n",
      "no emissions included\n",
      "no emissions included\n",
      "no emissions included\n",
      "no emissions included\n",
      "no emissions included\n",
      "no emissions included\n",
      "no emissions included\n",
      "no emissions included\n",
      "no emissions included\n",
      "no emissions included\n",
      "no emissions included\n",
      "no emissions included\n",
      "no emissions included\n",
      "no emissions included\n",
      "no emissions included\n",
      "no emissions included\n",
      "no emissions included\n",
      "no emissions included\n",
      "no emissions included\n",
      "no emissions included\n",
      "no emissions included\n",
      "no emissions included\n",
      "no emissions included\n",
      "no emissions included\n"
     ]
    }
   ],
   "source": [
    "if run_reporting == True:\n",
    "    run_legacy_reporting(scenarios_models = included_scenarios) "
   ]
  },
  {
   "cell_type": "code",
   "execution_count": 6,
   "id": "c77cfaf4-59ac-4e4d-8081-4b48ec622157",
   "metadata": {},
   "outputs": [],
   "source": [
    "def create_simple_interactive_chart(df,\n",
    "                                    color_by, figtitle):\n",
    "    \"\"\"\n",
    "    Simpler version using ipywidgets.interact\n",
    "    \"\"\"\n",
    "    models = sorted(df['Model'].unique())\n",
    "    scenarios = sorted(df['Scenario'].unique())\n",
    "    regions = sorted(df['Region'].unique())\n",
    "    \n",
    "    @widgets.interact(\n",
    "        model=widgets.Dropdown(options=models, value=models[0], description='Model:'),\n",
    "        scenario=widgets.Dropdown(options=scenarios, value=scenarios[0], description='Scenario:'),\n",
    "        region=widgets.Dropdown(options=regions, value=regions[0], description='Region:')\n",
    "    )\n",
    "    def plot_chart(model, scenario, region):\n",
    "        # Filter data\n",
    "        filtered_df = df[(df['Model'] == model) & (df['Scenario'] == scenario) & (df['Region'] == region)]\n",
    "        \n",
    "        if filtered_df.empty:\n",
    "            print(f\"No data available for Model: {model}, Scenario: {scenario}, Region: {region}\")\n",
    "            return\n",
    "        \n",
    "        # Create pivot table\n",
    "        pivot_df = filtered_df.pivot_table(\n",
    "            index='Year', \n",
    "            columns=color_by, \n",
    "            values='Value', \n",
    "            aggfunc='sum',\n",
    "            fill_value=0\n",
    "        )\n",
    "        \n",
    "        # Create stacked bar chart\n",
    "        fig = px.bar(\n",
    "            filtered_df, \n",
    "            x='Year', \n",
    "            y='Value', \n",
    "            color=color_by,\n",
    "            title= figtitle + ' by ' + color_by + f' - {model}, {scenario}, {region}',\n",
    "            labels={'Value': 'GWa', 'Year': 'Year'},\n",
    "            color_discrete_sequence=px.colors.qualitative.D3\n",
    "        )\n",
    "        \n",
    "        fig.update_layout(\n",
    "            width=900,\n",
    "            height=600,\n",
    "            title_x=0.5,\n",
    "            hovermode='x unified'\n",
    "        )\n",
    "        \n",
    "        fig.update_xaxes(tickangle=45)\n",
    "        fig.update_yaxes(tickformat=',.0f')\n",
    "        \n",
    "        fig.show()"
   ]
  },
  {
   "cell_type": "markdown",
   "id": "0e0aba0e-bd13-4f2f-a62d-15b5813e60c6",
   "metadata": {},
   "source": [
    "## Import and standardize files"
   ]
  },
  {
   "cell_type": "code",
   "execution_count": 25,
   "id": "b1988846-ec99-4adb-a8a9-7e3e966efd55",
   "metadata": {},
   "outputs": [],
   "source": [
    "# Import files\n",
    "widedf = pd.DataFrame()\n",
    "\n",
    "for s in included_scenarios.keys():\n",
    "    indf = pd.read_excel(os.path.join(\n",
    "                            package_data_path(\"report\", \"legacy\", \"reporting_output\"),\n",
    "                            included_scenarios[s] + '_' + s + '.xlsx'))\n",
    "    widedf = pd.concat([widedf, indf])"
   ]
  },
  {
   "cell_type": "code",
   "execution_count": 26,
   "id": "3b71061f-b909-42fb-b89c-3476ba24169d",
   "metadata": {},
   "outputs": [],
   "source": [
    "# Standardize (make long)\n",
    "year_list = [y for y in widedf.columns if y not in ['Model', 'Region', 'Scenario', 'Unit', 'Variable']]\n",
    "\n",
    "longdf = pd.DataFrame()\n",
    "for y in year_list:\n",
    "    df = widedf[[y, 'Model', 'Region', 'Scenario', 'Unit', 'Variable']]\n",
    "    df = df.rename(columns = {y:'Value'})\n",
    "    df['Year'] = int(y)\n",
    "    longdf = pd.concat([longdf, df])"
   ]
  },
  {
   "cell_type": "markdown",
   "id": "456fc473-18a6-4bc7-b891-2ff1e3ffc534",
   "metadata": {},
   "source": [
    "## 1 | Primary Energy"
   ]
  },
  {
   "cell_type": "code",
   "execution_count": 27,
   "id": "dd435aa8-e3bf-4d96-a498-c4b0d649d646",
   "metadata": {},
   "outputs": [],
   "source": [
    "primary_energy_supply = {'Biomass': 'Primary Energy|Biomass',\n",
    "                         'Coal': 'Primary Energy|Coal',\n",
    "                         'Gas': 'Primary Energy|Gas',\n",
    "                         'Geothermal': 'Primary Energy|Geothermal',\n",
    "                         'Hydro': 'Primary Energy|Hydro',\n",
    "                         'Ocean': 'Primary Energy|Ocean',\n",
    "                         'Oil': 'Primary Energy|Oil',\n",
    "                         'Other': 'Primary Energy|Other',\n",
    "                         'Solar': 'Primary Energy|Solar',\n",
    "                         'Wind': 'Primary Energy|Wind'}"
   ]
  },
  {
   "cell_type": "code",
   "execution_count": 28,
   "id": "65f8e509-58bf-49dc-ac03-3784f05e8aa1",
   "metadata": {},
   "outputs": [],
   "source": [
    "pesdf = longdf[longdf['Variable'].isin(list(primary_energy_supply.values()))].copy()\n",
    "\n",
    "pesdf['Fuel'] = ''\n",
    "for f in primary_energy_supply.keys():\n",
    "    pesdf['Fuel'] = np.where(pesdf['Variable'] == primary_energy_supply[f],\n",
    "                             f, pesdf['Fuel'])\n",
    "\n",
    "pesdf = pesdf[['Model', 'Scenario', 'Year', 'Region', 'Fuel', 'Value']]"
   ]
  },
  {
   "cell_type": "code",
   "execution_count": 29,
   "id": "57446537-5535-4980-b1b4-f9808d8c26b0",
   "metadata": {},
   "outputs": [
    {
     "data": {
      "application/vnd.jupyter.widget-view+json": {
       "model_id": "1b17504d66a64b85a144ae5ac9ee2063",
       "version_major": 2,
       "version_minor": 0
      },
      "text/plain": [
       "interactive(children=(Dropdown(description='Model:', options=('NP_SSP2_6.2',), value='NP_SSP2_6.2'), Dropdown(…"
      ]
     },
     "metadata": {},
     "output_type": "display_data"
    }
   ],
   "source": [
    "create_simple_interactive_chart(pesdf, color_by = 'Fuel', figtitle = 'Primary Energy')"
   ]
  },
  {
   "cell_type": "markdown",
   "id": "effdd2c2-8370-4b40-8838-acd723cfaef2",
   "metadata": {},
   "source": [
    "## 2 | Secondary Energy by Type"
   ]
  },
  {
   "cell_type": "code",
   "execution_count": 30,
   "id": "13022931-6dd4-42b0-9fea-7c8997346ecf",
   "metadata": {},
   "outputs": [],
   "source": [
    "secondary_energy = {'Electricity': 'Secondary Energy|Electricity',\n",
    "                    'Gases': 'Secondary Energy|Gases',\n",
    "                    'Heat': 'Secondary Energy|Heat',\n",
    "                    'Hydrogen': 'Secondary Energy|Hydrogen',\n",
    "                    'Liquids': 'Secondary Energy|Liquids',\n",
    "                    'Solids': 'Secondary Energy|Solids'}"
   ]
  },
  {
   "cell_type": "code",
   "execution_count": 31,
   "id": "2dfaa1a1-e702-4a44-9b90-c8629b3d1122",
   "metadata": {},
   "outputs": [],
   "source": [
    "sesdf = longdf[longdf['Variable'].isin(list(secondary_energy.values()))].copy()\n",
    "\n",
    "sesdf['Type'] = ''\n",
    "for f in secondary_energy.keys():\n",
    "    sesdf['Type'] = np.where(sesdf['Variable'] == secondary_energy[f],\n",
    "                             f, sesdf['Type'])\n",
    "\n",
    "sesdf = sesdf[['Model', 'Scenario', 'Year', 'Region', 'Type', 'Value']]"
   ]
  },
  {
   "cell_type": "code",
   "execution_count": 32,
   "id": "d0d66593-93e2-4b12-815a-313f2140b7d4",
   "metadata": {},
   "outputs": [
    {
     "data": {
      "application/vnd.jupyter.widget-view+json": {
       "model_id": "54ef550683394931ba1f81616a2e4686",
       "version_major": 2,
       "version_minor": 0
      },
      "text/plain": [
       "interactive(children=(Dropdown(description='Model:', options=('NP_SSP2_6.2',), value='NP_SSP2_6.2'), Dropdown(…"
      ]
     },
     "metadata": {},
     "output_type": "display_data"
    }
   ],
   "source": [
    "create_simple_interactive_chart(sesdf, color_by = 'Type', figtitle = 'Secondary Energy')"
   ]
  },
  {
   "cell_type": "markdown",
   "id": "4e2a94dd-7923-470a-ade5-6dc948c8e978",
   "metadata": {},
   "source": [
    "## 3 | Electricity Generation by Source"
   ]
  },
  {
   "cell_type": "code",
   "execution_count": 33,
   "id": "4d4632ae-d02c-44c9-a2b1-4755238622e3",
   "metadata": {},
   "outputs": [],
   "source": [
    "electricity = {'Biomass': 'Secondary Energy|Electricity|Biomass',\n",
    "               'Coal': 'Secondary Energy|Electricity|Coal',\n",
    "               'Gas': 'Secondary Energy|Electricity|Gas',\n",
    "               'Geothermal': 'Secondary Energy|Electricity|Geothermal',\n",
    "               'Hydro': 'Secondary Energy|Electricity|Hydro',\n",
    "               'Nuclear': 'Secondary Energy|Electricity|Nuclear',\n",
    "               'Oil': 'Secondary Energy|Electricity|Oil',\n",
    "               'Other': 'Secondary Energy|Electricity|Other',\n",
    "               'Solar': 'Secondary Energy|Electricity|Solar',\n",
    "#               'Storage Losses': 'Secondary Energy|Electricity|Storage Losses',\n",
    "#               'Transmission Losses': 'Secondary Energy|Electricity|Transmission Losses',\n",
    "               'Wind': 'Secondary Energy|Electricity|Wind'}"
   ]
  },
  {
   "cell_type": "code",
   "execution_count": 34,
   "id": "3d431b1e-20eb-4690-8b4d-fd68f551bac4",
   "metadata": {},
   "outputs": [],
   "source": [
    "eledf = longdf[longdf['Variable'].isin(list(electricity.values()))].copy()\n",
    "\n",
    "eledf['Source'] = ''\n",
    "for f in electricity.keys():\n",
    "    eledf['Source'] = np.where(eledf['Variable'] == electricity[f],\n",
    "                             f, eledf['Source'])\n",
    "\n",
    "eledf = eledf[['Model', 'Scenario', 'Year', 'Region', 'Source', 'Value']]"
   ]
  },
  {
   "cell_type": "code",
   "execution_count": 35,
   "id": "3d1694fa-8d50-4016-9073-ba18c2c02ed8",
   "metadata": {},
   "outputs": [
    {
     "data": {
      "application/vnd.jupyter.widget-view+json": {
       "model_id": "eefc1d3f83e54e4ebdf7faba45d8c49f",
       "version_major": 2,
       "version_minor": 0
      },
      "text/plain": [
       "interactive(children=(Dropdown(description='Model:', options=('NP_SSP2_6.2',), value='NP_SSP2_6.2'), Dropdown(…"
      ]
     },
     "metadata": {},
     "output_type": "display_data"
    }
   ],
   "source": [
    "create_simple_interactive_chart(eledf, color_by = 'Source', figtitle = 'Electricity Generation')"
   ]
  },
  {
   "cell_type": "markdown",
   "id": "8a91db19-b643-40d0-9f1f-dff2d26fbac2",
   "metadata": {},
   "source": [
    "## 3 | Final Energy by Sector"
   ]
  },
  {
   "cell_type": "code",
   "execution_count": 18,
   "id": "3fb40949-ebea-496e-afa8-59fe2a348fd6",
   "metadata": {},
   "outputs": [],
   "source": [
    "final_energy_sector = {'Industry': 'Final Energy|Industry',\n",
    "                       'Residential and Commercial': 'Final Energy|Residential and Commercial',\n",
    "                       'Transportation': 'Final Energy|Transportation',\n",
    "                       'Non-Energy': 'Final Energy|Non-Energy'}"
   ]
  },
  {
   "cell_type": "code",
   "execution_count": 19,
   "id": "77a4a792-0329-4f82-b95a-67f1debebac4",
   "metadata": {},
   "outputs": [],
   "source": [
    "feddf = longdf[longdf['Variable'].isin(list(final_energy_sector.values()))].copy()\n",
    "\n",
    "feddf['Sector'] = ''\n",
    "for f in final_energy_sector.keys():\n",
    "    feddf['Sector'] = np.where(feddf['Variable'] == final_energy_sector[f],\n",
    "                             f, feddf['Sector'])\n",
    "\n",
    "feddf = feddf[['Model', 'Scenario', 'Year', 'Region', 'Sector', 'Value']]"
   ]
  },
  {
   "cell_type": "code",
   "execution_count": 20,
   "id": "b510f990-ad6f-40d3-a553-8f4429430ecf",
   "metadata": {},
   "outputs": [
    {
     "data": {
      "application/vnd.jupyter.widget-view+json": {
       "model_id": "63da4b95b8714b2f888ad4ea7005c3f6",
       "version_major": 2,
       "version_minor": 0
      },
      "text/plain": [
       "interactive(children=(Dropdown(description='Model:', options=('NP_SSP2_6.2',), value='NP_SSP2_6.2'), Dropdown(…"
      ]
     },
     "metadata": {},
     "output_type": "display_data"
    }
   ],
   "source": [
    "create_simple_interactive_chart(feddf, color_by = 'Sector', figtitle = 'Final Energy Demand')"
   ]
  },
  {
   "cell_type": "markdown",
   "id": "a935038c-070b-449f-bb86-88dfe13354e6",
   "metadata": {},
   "source": [
    "## 4| Extraction"
   ]
  },
  {
   "cell_type": "code",
   "execution_count": 21,
   "id": "0f3fdb7e-7a23-4cbe-a904-ade63f03f8fc",
   "metadata": {},
   "outputs": [],
   "source": [
    "extraction = {'Coal': 'Resource|Cumulative Extraction|Coal',\n",
    "              'Gas (Conventional)': 'Resource|Cumulative Extraction|Gas|Conventional',\n",
    "              'Gas (Unconventional)': 'Resource|Cumulative Extraction|Gas|Unconventional',\n",
    "              'Oil (Conventional)': 'Resource|Cumulative Extraction|Oil|Conventional',\n",
    "              'Oil (Unconventional)': 'Resource|Cumulative Extraction|Oil|Unconventional',\n",
    "              'Uranium': 'Resource|Cumulative Extraction|Uranium'}"
   ]
  },
  {
   "cell_type": "code",
   "execution_count": 22,
   "id": "ca5ed4f5-4b0b-46cf-a6df-ca9eaa2a66db",
   "metadata": {},
   "outputs": [],
   "source": [
    "extdf = longdf[longdf['Variable'].isin(list(extraction.values()))].copy()\n",
    "\n",
    "extdf['Fuel'] = ''\n",
    "for f in extraction.keys():\n",
    "    extdf['Fuel'] = np.where(extdf['Variable'] == extraction[f],\n",
    "                             f, extdf['Fuel'])\n",
    "\n",
    "extdf = extdf[['Model', 'Scenario', 'Year', 'Region', 'Fuel', 'Value']]"
   ]
  },
  {
   "cell_type": "code",
   "execution_count": 23,
   "id": "95db8635-f411-4cb3-98bf-26c7ae0c811f",
   "metadata": {},
   "outputs": [
    {
     "data": {
      "application/vnd.jupyter.widget-view+json": {
       "model_id": "3335e51869a54c5b8599f2a6f9fd6761",
       "version_major": 2,
       "version_minor": 0
      },
      "text/plain": [
       "interactive(children=(Dropdown(description='Model:', options=('NP_SSP2_6.2',), value='NP_SSP2_6.2'), Dropdown(…"
      ]
     },
     "metadata": {},
     "output_type": "display_data"
    }
   ],
   "source": [
    "create_simple_interactive_chart(extdf, color_by = 'Fuel', figtitle = 'Extraction')"
   ]
  }
 ],
 "metadata": {
  "kernelspec": {
   "display_name": "Python 3 (ipykernel)",
   "language": "python",
   "name": "python3"
  },
  "language_info": {
   "codemirror_mode": {
    "name": "ipython",
    "version": 3
   },
   "file_extension": ".py",
   "mimetype": "text/x-python",
   "name": "python",
   "nbconvert_exporter": "python",
   "pygments_lexer": "ipython3",
   "version": "3.12.7"
  }
 },
 "nbformat": 4,
 "nbformat_minor": 5
}
